{
 "cells": [
  {
   "cell_type": "markdown",
   "id": "fe16e627",
   "metadata": {},
   "source": [
    "### Task 1: Pandas"
   ]
  },
  {
   "cell_type": "code",
   "execution_count": 13,
   "id": "a26ef014",
   "metadata": {},
   "outputs": [],
   "source": [
    "import pandas as pd\n",
    "import numpy as np"
   ]
  },
  {
   "cell_type": "markdown",
   "id": "6753383f",
   "metadata": {},
   "source": [
    "#### 1. Import the dataframe"
   ]
  },
  {
   "cell_type": "code",
   "execution_count": 14,
   "id": "f020d758",
   "metadata": {},
   "outputs": [
    {
     "data": {
      "text/html": [
       "<div>\n",
       "<style scoped>\n",
       "    .dataframe tbody tr th:only-of-type {\n",
       "        vertical-align: middle;\n",
       "    }\n",
       "\n",
       "    .dataframe tbody tr th {\n",
       "        vertical-align: top;\n",
       "    }\n",
       "\n",
       "    .dataframe thead th {\n",
       "        text-align: right;\n",
       "    }\n",
       "</style>\n",
       "<table border=\"1\" class=\"dataframe\">\n",
       "  <thead>\n",
       "    <tr style=\"text-align: right;\">\n",
       "      <th></th>\n",
       "      <th>ID</th>\n",
       "      <th>Name</th>\n",
       "      <th>Age</th>\n",
       "      <th>Date Joined</th>\n",
       "      <th>Score</th>\n",
       "      <th>Department</th>\n",
       "    </tr>\n",
       "  </thead>\n",
       "  <tbody>\n",
       "    <tr>\n",
       "      <th>0</th>\n",
       "      <td>1.0</td>\n",
       "      <td>Alice</td>\n",
       "      <td>TRUE</td>\n",
       "      <td>2021-01-15</td>\n",
       "      <td>88.5</td>\n",
       "      <td>Sales</td>\n",
       "    </tr>\n",
       "    <tr>\n",
       "      <th>1</th>\n",
       "      <td>2.0</td>\n",
       "      <td>Bob</td>\n",
       "      <td>FALSE</td>\n",
       "      <td>15/02/2021</td>\n",
       "      <td>92.0</td>\n",
       "      <td>sales</td>\n",
       "    </tr>\n",
       "    <tr>\n",
       "      <th>2</th>\n",
       "      <td>2.0</td>\n",
       "      <td>Charlie</td>\n",
       "      <td>40</td>\n",
       "      <td>2021-03-05</td>\n",
       "      <td>NaN</td>\n",
       "      <td>HR</td>\n",
       "    </tr>\n",
       "    <tr>\n",
       "      <th>3</th>\n",
       "      <td>NaN</td>\n",
       "      <td>Dave</td>\n",
       "      <td>35</td>\n",
       "      <td>April 10, 2021</td>\n",
       "      <td>85.0</td>\n",
       "      <td>HR</td>\n",
       "    </tr>\n",
       "    <tr>\n",
       "      <th>4</th>\n",
       "      <td>5.0</td>\n",
       "      <td>NaN</td>\n",
       "      <td>NaN</td>\n",
       "      <td>2021.05.01</td>\n",
       "      <td>90.0</td>\n",
       "      <td>finance</td>\n",
       "    </tr>\n",
       "    <tr>\n",
       "      <th>5</th>\n",
       "      <td>6.0</td>\n",
       "      <td>Eve</td>\n",
       "      <td>28</td>\n",
       "      <td>2021-06-01</td>\n",
       "      <td>NaN</td>\n",
       "      <td>Finance</td>\n",
       "    </tr>\n",
       "  </tbody>\n",
       "</table>\n",
       "</div>"
      ],
      "text/plain": [
       "    ID     Name    Age     Date Joined  Score Department\n",
       "0  1.0    Alice   TRUE      2021-01-15   88.5      Sales\n",
       "1  2.0     Bob   FALSE      15/02/2021   92.0      sales\n",
       "2  2.0  Charlie     40      2021-03-05    NaN         HR\n",
       "3  NaN     Dave     35  April 10, 2021   85.0        HR \n",
       "4  5.0      NaN    NaN      2021.05.01   90.0    finance\n",
       "5  6.0      Eve     28      2021-06-01    NaN    Finance"
      ]
     },
     "execution_count": 14,
     "metadata": {},
     "output_type": "execute_result"
    }
   ],
   "source": [
    "df = pd.read_csv('messy_data.csv')\n",
    "df.head(10)"
   ]
  },
  {
   "cell_type": "markdown",
   "id": "7247c9d8",
   "metadata": {},
   "source": [
    "#### 2. Find data types of the columns using inbuilt function"
   ]
  },
  {
   "cell_type": "code",
   "execution_count": 15,
   "id": "58b844fa",
   "metadata": {},
   "outputs": [
    {
     "data": {
      "text/plain": [
       "ID             float64\n",
       "Name            object\n",
       "Age             object\n",
       "Date Joined     object\n",
       "Score          float64\n",
       "Department      object\n",
       "dtype: object"
      ]
     },
     "execution_count": 15,
     "metadata": {},
     "output_type": "execute_result"
    }
   ],
   "source": [
    "df.dtypes"
   ]
  },
  {
   "cell_type": "markdown",
   "id": "02826219",
   "metadata": {},
   "source": [
    "#### 3. List all the unique values in the “Department” column and clean the mistake"
   ]
  },
  {
   "cell_type": "code",
   "execution_count": 16,
   "id": "3d93aa79",
   "metadata": {},
   "outputs": [
    {
     "name": "stdout",
     "output_type": "stream",
     "text": [
      "['sales' 'hr' 'finance']\n"
     ]
    },
    {
     "data": {
      "text/html": [
       "<div>\n",
       "<style scoped>\n",
       "    .dataframe tbody tr th:only-of-type {\n",
       "        vertical-align: middle;\n",
       "    }\n",
       "\n",
       "    .dataframe tbody tr th {\n",
       "        vertical-align: top;\n",
       "    }\n",
       "\n",
       "    .dataframe thead th {\n",
       "        text-align: right;\n",
       "    }\n",
       "</style>\n",
       "<table border=\"1\" class=\"dataframe\">\n",
       "  <thead>\n",
       "    <tr style=\"text-align: right;\">\n",
       "      <th></th>\n",
       "      <th>ID</th>\n",
       "      <th>Name</th>\n",
       "      <th>Age</th>\n",
       "      <th>Date Joined</th>\n",
       "      <th>Score</th>\n",
       "      <th>Department</th>\n",
       "    </tr>\n",
       "  </thead>\n",
       "  <tbody>\n",
       "    <tr>\n",
       "      <th>0</th>\n",
       "      <td>1.0</td>\n",
       "      <td>Alice</td>\n",
       "      <td>TRUE</td>\n",
       "      <td>2021-01-15</td>\n",
       "      <td>88.5</td>\n",
       "      <td>Sales</td>\n",
       "    </tr>\n",
       "    <tr>\n",
       "      <th>1</th>\n",
       "      <td>2.0</td>\n",
       "      <td>Bob</td>\n",
       "      <td>FALSE</td>\n",
       "      <td>15/02/2021</td>\n",
       "      <td>92.0</td>\n",
       "      <td>sales</td>\n",
       "    </tr>\n",
       "    <tr>\n",
       "      <th>2</th>\n",
       "      <td>2.0</td>\n",
       "      <td>Charlie</td>\n",
       "      <td>40</td>\n",
       "      <td>2021-03-05</td>\n",
       "      <td>NaN</td>\n",
       "      <td>HR</td>\n",
       "    </tr>\n",
       "    <tr>\n",
       "      <th>3</th>\n",
       "      <td>NaN</td>\n",
       "      <td>Dave</td>\n",
       "      <td>35</td>\n",
       "      <td>April 10, 2021</td>\n",
       "      <td>85.0</td>\n",
       "      <td>HR</td>\n",
       "    </tr>\n",
       "    <tr>\n",
       "      <th>4</th>\n",
       "      <td>5.0</td>\n",
       "      <td>NaN</td>\n",
       "      <td>NaN</td>\n",
       "      <td>2021.05.01</td>\n",
       "      <td>90.0</td>\n",
       "      <td>finance</td>\n",
       "    </tr>\n",
       "    <tr>\n",
       "      <th>5</th>\n",
       "      <td>6.0</td>\n",
       "      <td>Eve</td>\n",
       "      <td>28</td>\n",
       "      <td>2021-06-01</td>\n",
       "      <td>NaN</td>\n",
       "      <td>Finance</td>\n",
       "    </tr>\n",
       "  </tbody>\n",
       "</table>\n",
       "</div>"
      ],
      "text/plain": [
       "    ID     Name    Age     Date Joined  Score Department\n",
       "0  1.0    Alice   TRUE      2021-01-15   88.5      Sales\n",
       "1  2.0     Bob   FALSE      15/02/2021   92.0      sales\n",
       "2  2.0  Charlie     40      2021-03-05    NaN         HR\n",
       "3  NaN     Dave     35  April 10, 2021   85.0        HR \n",
       "4  5.0      NaN    NaN      2021.05.01   90.0    finance\n",
       "5  6.0      Eve     28      2021-06-01    NaN    Finance"
      ]
     },
     "execution_count": 16,
     "metadata": {},
     "output_type": "execute_result"
    }
   ],
   "source": [
    "ndf = df['Department'].astype(str).str.lower().str.strip()\n",
    "print(ndf.unique())\n",
    "df\n"
   ]
  },
  {
   "cell_type": "markdown",
   "id": "71c52f4c",
   "metadata": {},
   "source": [
    "#### 4. Drop missing data/NA data from the column 'Score'"
   ]
  },
  {
   "cell_type": "code",
   "execution_count": 17,
   "id": "1fa6a867",
   "metadata": {},
   "outputs": [
    {
     "data": {
      "text/html": [
       "<div>\n",
       "<style scoped>\n",
       "    .dataframe tbody tr th:only-of-type {\n",
       "        vertical-align: middle;\n",
       "    }\n",
       "\n",
       "    .dataframe tbody tr th {\n",
       "        vertical-align: top;\n",
       "    }\n",
       "\n",
       "    .dataframe thead th {\n",
       "        text-align: right;\n",
       "    }\n",
       "</style>\n",
       "<table border=\"1\" class=\"dataframe\">\n",
       "  <thead>\n",
       "    <tr style=\"text-align: right;\">\n",
       "      <th></th>\n",
       "      <th>ID</th>\n",
       "      <th>Name</th>\n",
       "      <th>Age</th>\n",
       "      <th>Date Joined</th>\n",
       "      <th>Score</th>\n",
       "      <th>Department</th>\n",
       "    </tr>\n",
       "  </thead>\n",
       "  <tbody>\n",
       "    <tr>\n",
       "      <th>0</th>\n",
       "      <td>1.0</td>\n",
       "      <td>Alice</td>\n",
       "      <td>TRUE</td>\n",
       "      <td>2021-01-15</td>\n",
       "      <td>88.5</td>\n",
       "      <td>Sales</td>\n",
       "    </tr>\n",
       "    <tr>\n",
       "      <th>1</th>\n",
       "      <td>2.0</td>\n",
       "      <td>Bob</td>\n",
       "      <td>FALSE</td>\n",
       "      <td>15/02/2021</td>\n",
       "      <td>92.0</td>\n",
       "      <td>sales</td>\n",
       "    </tr>\n",
       "    <tr>\n",
       "      <th>3</th>\n",
       "      <td>NaN</td>\n",
       "      <td>Dave</td>\n",
       "      <td>35</td>\n",
       "      <td>April 10, 2021</td>\n",
       "      <td>85.0</td>\n",
       "      <td>HR</td>\n",
       "    </tr>\n",
       "    <tr>\n",
       "      <th>4</th>\n",
       "      <td>5.0</td>\n",
       "      <td>NaN</td>\n",
       "      <td>NaN</td>\n",
       "      <td>2021.05.01</td>\n",
       "      <td>90.0</td>\n",
       "      <td>finance</td>\n",
       "    </tr>\n",
       "  </tbody>\n",
       "</table>\n",
       "</div>"
      ],
      "text/plain": [
       "    ID    Name    Age     Date Joined  Score Department\n",
       "0  1.0   Alice   TRUE      2021-01-15   88.5      Sales\n",
       "1  2.0    Bob   FALSE      15/02/2021   92.0      sales\n",
       "3  NaN    Dave     35  April 10, 2021   85.0        HR \n",
       "4  5.0     NaN    NaN      2021.05.01   90.0    finance"
      ]
     },
     "execution_count": 17,
     "metadata": {},
     "output_type": "execute_result"
    }
   ],
   "source": [
    "df.dropna(subset=['Score'], inplace=True)\n",
    "df"
   ]
  },
  {
   "cell_type": "markdown",
   "id": "e99f14ef",
   "metadata": {},
   "source": [
    "#### 5. Rename columns “Date Joined” → “JoinedDate” and “Score” → “PerformanceScore”"
   ]
  },
  {
   "cell_type": "code",
   "execution_count": 18,
   "id": "4175319c",
   "metadata": {},
   "outputs": [
    {
     "data": {
      "text/html": [
       "<div>\n",
       "<style scoped>\n",
       "    .dataframe tbody tr th:only-of-type {\n",
       "        vertical-align: middle;\n",
       "    }\n",
       "\n",
       "    .dataframe tbody tr th {\n",
       "        vertical-align: top;\n",
       "    }\n",
       "\n",
       "    .dataframe thead th {\n",
       "        text-align: right;\n",
       "    }\n",
       "</style>\n",
       "<table border=\"1\" class=\"dataframe\">\n",
       "  <thead>\n",
       "    <tr style=\"text-align: right;\">\n",
       "      <th></th>\n",
       "      <th>ID</th>\n",
       "      <th>Name</th>\n",
       "      <th>Age</th>\n",
       "      <th>JoinedDate</th>\n",
       "      <th>PerformanceScore</th>\n",
       "      <th>Department</th>\n",
       "    </tr>\n",
       "  </thead>\n",
       "  <tbody>\n",
       "    <tr>\n",
       "      <th>0</th>\n",
       "      <td>1.0</td>\n",
       "      <td>Alice</td>\n",
       "      <td>TRUE</td>\n",
       "      <td>2021-01-15</td>\n",
       "      <td>88.5</td>\n",
       "      <td>Sales</td>\n",
       "    </tr>\n",
       "    <tr>\n",
       "      <th>1</th>\n",
       "      <td>2.0</td>\n",
       "      <td>Bob</td>\n",
       "      <td>FALSE</td>\n",
       "      <td>15/02/2021</td>\n",
       "      <td>92.0</td>\n",
       "      <td>sales</td>\n",
       "    </tr>\n",
       "    <tr>\n",
       "      <th>3</th>\n",
       "      <td>NaN</td>\n",
       "      <td>Dave</td>\n",
       "      <td>35</td>\n",
       "      <td>April 10, 2021</td>\n",
       "      <td>85.0</td>\n",
       "      <td>HR</td>\n",
       "    </tr>\n",
       "    <tr>\n",
       "      <th>4</th>\n",
       "      <td>5.0</td>\n",
       "      <td>NaN</td>\n",
       "      <td>NaN</td>\n",
       "      <td>2021.05.01</td>\n",
       "      <td>90.0</td>\n",
       "      <td>finance</td>\n",
       "    </tr>\n",
       "  </tbody>\n",
       "</table>\n",
       "</div>"
      ],
      "text/plain": [
       "    ID    Name    Age      JoinedDate  PerformanceScore Department\n",
       "0  1.0   Alice   TRUE      2021-01-15              88.5      Sales\n",
       "1  2.0    Bob   FALSE      15/02/2021              92.0      sales\n",
       "3  NaN    Dave     35  April 10, 2021              85.0        HR \n",
       "4  5.0     NaN    NaN      2021.05.01              90.0    finance"
      ]
     },
     "execution_count": 18,
     "metadata": {},
     "output_type": "execute_result"
    }
   ],
   "source": [
    "df = df.rename(columns = {'Date Joined' : 'JoinedDate', 'Score' : 'PerformanceScore' })\n",
    "# df.rename(columns = {'Date Joined' : 'JoinedDate', 'Score' : 'PerformanceScore' }, inplace = True)\n",
    "df"
   ]
  },
  {
   "cell_type": "markdown",
   "id": "edd74d79",
   "metadata": {},
   "source": [
    "#### 6.  Drop duplicate rows based on the “ID” column, keeping only the first occurrence"
   ]
  },
  {
   "cell_type": "code",
   "execution_count": 19,
   "id": "b8c59aee",
   "metadata": {},
   "outputs": [
    {
     "data": {
      "text/html": [
       "<div>\n",
       "<style scoped>\n",
       "    .dataframe tbody tr th:only-of-type {\n",
       "        vertical-align: middle;\n",
       "    }\n",
       "\n",
       "    .dataframe tbody tr th {\n",
       "        vertical-align: top;\n",
       "    }\n",
       "\n",
       "    .dataframe thead th {\n",
       "        text-align: right;\n",
       "    }\n",
       "</style>\n",
       "<table border=\"1\" class=\"dataframe\">\n",
       "  <thead>\n",
       "    <tr style=\"text-align: right;\">\n",
       "      <th></th>\n",
       "      <th>ID</th>\n",
       "      <th>Name</th>\n",
       "      <th>Age</th>\n",
       "      <th>JoinedDate</th>\n",
       "      <th>PerformanceScore</th>\n",
       "      <th>Department</th>\n",
       "    </tr>\n",
       "  </thead>\n",
       "  <tbody>\n",
       "    <tr>\n",
       "      <th>0</th>\n",
       "      <td>1.0</td>\n",
       "      <td>Alice</td>\n",
       "      <td>TRUE</td>\n",
       "      <td>2021-01-15</td>\n",
       "      <td>88.5</td>\n",
       "      <td>Sales</td>\n",
       "    </tr>\n",
       "    <tr>\n",
       "      <th>1</th>\n",
       "      <td>2.0</td>\n",
       "      <td>Bob</td>\n",
       "      <td>FALSE</td>\n",
       "      <td>15/02/2021</td>\n",
       "      <td>92.0</td>\n",
       "      <td>sales</td>\n",
       "    </tr>\n",
       "    <tr>\n",
       "      <th>3</th>\n",
       "      <td>NaN</td>\n",
       "      <td>Dave</td>\n",
       "      <td>35</td>\n",
       "      <td>April 10, 2021</td>\n",
       "      <td>85.0</td>\n",
       "      <td>HR</td>\n",
       "    </tr>\n",
       "    <tr>\n",
       "      <th>4</th>\n",
       "      <td>5.0</td>\n",
       "      <td>NaN</td>\n",
       "      <td>NaN</td>\n",
       "      <td>2021.05.01</td>\n",
       "      <td>90.0</td>\n",
       "      <td>finance</td>\n",
       "    </tr>\n",
       "  </tbody>\n",
       "</table>\n",
       "</div>"
      ],
      "text/plain": [
       "    ID    Name    Age      JoinedDate  PerformanceScore Department\n",
       "0  1.0   Alice   TRUE      2021-01-15              88.5      Sales\n",
       "1  2.0    Bob   FALSE      15/02/2021              92.0      sales\n",
       "3  NaN    Dave     35  April 10, 2021              85.0        HR \n",
       "4  5.0     NaN    NaN      2021.05.01              90.0    finance"
      ]
     },
     "execution_count": 19,
     "metadata": {},
     "output_type": "execute_result"
    }
   ],
   "source": [
    "df = df.drop_duplicates(subset='ID')\n",
    "df"
   ]
  },
  {
   "cell_type": "markdown",
   "id": "aaa3474f",
   "metadata": {},
   "source": [
    "#### 7. 'Departments' may have extra spaces or inconsistent casing, strip whitespace and capitalize each department name"
   ]
  },
  {
   "cell_type": "code",
   "execution_count": 20,
   "id": "f275ee4e",
   "metadata": {},
   "outputs": [
    {
     "data": {
      "text/html": [
       "<div>\n",
       "<style scoped>\n",
       "    .dataframe tbody tr th:only-of-type {\n",
       "        vertical-align: middle;\n",
       "    }\n",
       "\n",
       "    .dataframe tbody tr th {\n",
       "        vertical-align: top;\n",
       "    }\n",
       "\n",
       "    .dataframe thead th {\n",
       "        text-align: right;\n",
       "    }\n",
       "</style>\n",
       "<table border=\"1\" class=\"dataframe\">\n",
       "  <thead>\n",
       "    <tr style=\"text-align: right;\">\n",
       "      <th></th>\n",
       "      <th>ID</th>\n",
       "      <th>Name</th>\n",
       "      <th>Age</th>\n",
       "      <th>JoinedDate</th>\n",
       "      <th>PerformanceScore</th>\n",
       "      <th>Department</th>\n",
       "    </tr>\n",
       "  </thead>\n",
       "  <tbody>\n",
       "    <tr>\n",
       "      <th>0</th>\n",
       "      <td>1.0</td>\n",
       "      <td>Alice</td>\n",
       "      <td>TRUE</td>\n",
       "      <td>2021-01-15</td>\n",
       "      <td>88.5</td>\n",
       "      <td>Sales</td>\n",
       "    </tr>\n",
       "    <tr>\n",
       "      <th>1</th>\n",
       "      <td>2.0</td>\n",
       "      <td>Bob</td>\n",
       "      <td>FALSE</td>\n",
       "      <td>15/02/2021</td>\n",
       "      <td>92.0</td>\n",
       "      <td>Sales</td>\n",
       "    </tr>\n",
       "    <tr>\n",
       "      <th>3</th>\n",
       "      <td>NaN</td>\n",
       "      <td>Dave</td>\n",
       "      <td>35</td>\n",
       "      <td>April 10, 2021</td>\n",
       "      <td>85.0</td>\n",
       "      <td>HR</td>\n",
       "    </tr>\n",
       "    <tr>\n",
       "      <th>4</th>\n",
       "      <td>5.0</td>\n",
       "      <td>NaN</td>\n",
       "      <td>NaN</td>\n",
       "      <td>2021.05.01</td>\n",
       "      <td>90.0</td>\n",
       "      <td>Finance</td>\n",
       "    </tr>\n",
       "  </tbody>\n",
       "</table>\n",
       "</div>"
      ],
      "text/plain": [
       "    ID    Name    Age      JoinedDate  PerformanceScore Department\n",
       "0  1.0   Alice   TRUE      2021-01-15              88.5      Sales\n",
       "1  2.0    Bob   FALSE      15/02/2021              92.0      Sales\n",
       "3  NaN    Dave     35  April 10, 2021              85.0        HR \n",
       "4  5.0     NaN    NaN      2021.05.01              90.0    Finance"
      ]
     },
     "execution_count": 20,
     "metadata": {},
     "output_type": "execute_result"
    }
   ],
   "source": [
    "df['Department'] = df['Department'].replace({\n",
    "    'sales' : \"Sales\",\n",
    "    'hr' : 'HR',\n",
    "    'finance' : 'Finance'\n",
    "})\n",
    "df"
   ]
  },
  {
   "cell_type": "markdown",
   "id": "5b26a072",
   "metadata": {},
   "source": [
    "#### 8. Save the new dataframe to csv"
   ]
  },
  {
   "cell_type": "code",
   "execution_count": 21,
   "id": "a161f3ab",
   "metadata": {},
   "outputs": [],
   "source": [
    "# df.to_csv(\"cleaned_data.csv\")"
   ]
  }
 ],
 "metadata": {
  "kernelspec": {
   "display_name": "myenv",
   "language": "python",
   "name": "python3"
  },
  "language_info": {
   "codemirror_mode": {
    "name": "ipython",
    "version": 3
   },
   "file_extension": ".py",
   "mimetype": "text/x-python",
   "name": "python",
   "nbconvert_exporter": "python",
   "pygments_lexer": "ipython3",
   "version": "3.13.4"
  }
 },
 "nbformat": 4,
 "nbformat_minor": 5
}
