{
 "cells": [
  {
   "cell_type": "markdown",
   "id": "5b96af57",
   "metadata": {},
   "source": [
    "# Pandas Practice\n",
    "___\n",
    "\n",
    "### Impoeting Pandas"
   ]
  }
 ],
 "metadata": {
  "kernelspec": {
   "display_name": "myenv",
   "language": "python",
   "name": "python3"
  },
  "language_info": {
   "name": "python",
   "version": "3.13.4"
  }
 },
 "nbformat": 4,
 "nbformat_minor": 5
}
