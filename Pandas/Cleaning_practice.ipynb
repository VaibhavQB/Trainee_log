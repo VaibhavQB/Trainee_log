{
 "cells": [
  {
   "cell_type": "code",
   "execution_count": 235,
   "id": "27ddb052",
   "metadata": {},
   "outputs": [],
   "source": [
    "import pandas as pd\n",
    "import matplotlib.pyplot as plt\n",
    "import seaborn as sns"
   ]
  },
  {
   "cell_type": "markdown",
   "id": "55463028",
   "metadata": {},
   "source": [
    "## 1. Loading The Data"
   ]
  },
  {
   "cell_type": "code",
   "execution_count": 236,
   "id": "d5d17552",
   "metadata": {},
   "outputs": [
    {
     "name": "stdout",
     "output_type": "stream",
     "text": [
      "   Car ID  Brand     Model                  Year Engine Size Fuel Type    Mileage (km) Price (USD) Owner Type     Location\n",
      "0       1   Audi  3 Series  Two Thousand Fifteen        2.0L    Diesel           20000         NaN     second      Houston\n",
      "1       2    BMW   Model X                  2019    Electric    Diesel  Forty Thousand        7500      First      Houston\n",
      "2       3  Tesla   Model X                  2018    Electric    Petrol           35000      $15000      First     New York\n",
      "3       4   Audi     Focus                  2019  two liters    petrol           65000       30000      Third     New York\n",
      "4       5   Ford     Focus                  2014         NaN       GAS           75000       20000     Second  Los Angeles\n"
     ]
    }
   ],
   "source": [
    "df = pd.read_csv('cars_practice_dirty.csv')\n",
    "pd.set_option(\"display.max_rows\", 10) \n",
    "\n",
    "print(df.head().to_string())"
   ]
  },
  {
   "cell_type": "markdown",
   "id": "aa57d621",
   "metadata": {},
   "source": [
    "## 2. Understanding the Data\n",
    "\n",
    "- **df.info()**            # Overview of datatypes and missing values\n",
    "- **df.head()**            # Peek at the data\n",
    "- **df.describe()**        # Summary statistics for numeric columns\n",
    "- **df.columns**           # List of all columns"
   ]
  },
  {
   "cell_type": "code",
   "execution_count": 237,
   "id": "d2c4bb55",
   "metadata": {},
   "outputs": [
    {
     "name": "stdout",
     "output_type": "stream",
     "text": [
      "<class 'pandas.core.frame.DataFrame'>\n",
      "RangeIndex: 35 entries, 0 to 34\n",
      "Data columns (total 10 columns):\n",
      " #   Column        Non-Null Count  Dtype \n",
      "---  ------        --------------  ----- \n",
      " 0   Car ID        35 non-null     int64 \n",
      " 1   Brand         33 non-null     object\n",
      " 2   Model         33 non-null     object\n",
      " 3   Year          34 non-null     object\n",
      " 4   Engine Size   28 non-null     object\n",
      " 5   Fuel Type     34 non-null     object\n",
      " 6   Mileage (km)  31 non-null     object\n",
      " 7   Price (USD)   27 non-null     object\n",
      " 8   Owner Type    34 non-null     object\n",
      " 9   Location      34 non-null     object\n",
      "dtypes: int64(1), object(9)\n",
      "memory usage: 2.9+ KB\n",
      "None\n"
     ]
    }
   ],
   "source": [
    "print(df.info())"
   ]
  },
  {
   "cell_type": "code",
   "execution_count": 238,
   "id": "37411871",
   "metadata": {},
   "outputs": [
    {
     "data": {
      "text/plain": [
       "Car ID          0\n",
       "Brand           2\n",
       "Model           2\n",
       "Year            1\n",
       "Engine Size     7\n",
       "Fuel Type       1\n",
       "Mileage (km)    4\n",
       "Price (USD)     8\n",
       "Owner Type      1\n",
       "Location        1\n",
       "dtype: int64"
      ]
     },
     "execution_count": 238,
     "metadata": {},
     "output_type": "execute_result"
    }
   ],
   "source": [
    "df.isnull().sum() "
   ]
  },
  {
   "cell_type": "code",
   "execution_count": 239,
   "id": "0197297d",
   "metadata": {},
   "outputs": [
    {
     "data": {
      "text/html": [
       "<div>\n",
       "<style scoped>\n",
       "    .dataframe tbody tr th:only-of-type {\n",
       "        vertical-align: middle;\n",
       "    }\n",
       "\n",
       "    .dataframe tbody tr th {\n",
       "        vertical-align: top;\n",
       "    }\n",
       "\n",
       "    .dataframe thead th {\n",
       "        text-align: right;\n",
       "    }\n",
       "</style>\n",
       "<table border=\"1\" class=\"dataframe\">\n",
       "  <thead>\n",
       "    <tr style=\"text-align: right;\">\n",
       "      <th></th>\n",
       "      <th>Car ID</th>\n",
       "    </tr>\n",
       "  </thead>\n",
       "  <tbody>\n",
       "    <tr>\n",
       "      <th>count</th>\n",
       "      <td>35.000000</td>\n",
       "    </tr>\n",
       "    <tr>\n",
       "      <th>mean</th>\n",
       "      <td>15.742857</td>\n",
       "    </tr>\n",
       "    <tr>\n",
       "      <th>std</th>\n",
       "      <td>8.286569</td>\n",
       "    </tr>\n",
       "    <tr>\n",
       "      <th>min</th>\n",
       "      <td>1.000000</td>\n",
       "    </tr>\n",
       "    <tr>\n",
       "      <th>25%</th>\n",
       "      <td>9.500000</td>\n",
       "    </tr>\n",
       "    <tr>\n",
       "      <th>50%</th>\n",
       "      <td>16.000000</td>\n",
       "    </tr>\n",
       "    <tr>\n",
       "      <th>75%</th>\n",
       "      <td>22.000000</td>\n",
       "    </tr>\n",
       "    <tr>\n",
       "      <th>max</th>\n",
       "      <td>30.000000</td>\n",
       "    </tr>\n",
       "  </tbody>\n",
       "</table>\n",
       "</div>"
      ],
      "text/plain": [
       "          Car ID\n",
       "count  35.000000\n",
       "mean   15.742857\n",
       "std     8.286569\n",
       "min     1.000000\n",
       "25%     9.500000\n",
       "50%    16.000000\n",
       "75%    22.000000\n",
       "max    30.000000"
      ]
     },
     "execution_count": 239,
     "metadata": {},
     "output_type": "execute_result"
    }
   ],
   "source": [
    "df.describe()"
   ]
  },
  {
   "cell_type": "code",
   "execution_count": 240,
   "id": "0b31794e",
   "metadata": {},
   "outputs": [
    {
     "data": {
      "text/plain": [
       "['Car ID',\n",
       " 'Brand',\n",
       " 'Model',\n",
       " 'Year',\n",
       " 'Engine Size',\n",
       " 'Fuel Type',\n",
       " 'Mileage (km)',\n",
       " 'Price (USD)',\n",
       " 'Owner Type',\n",
       " 'Location']"
      ]
     },
     "execution_count": 240,
     "metadata": {},
     "output_type": "execute_result"
    }
   ],
   "source": [
    "df.columns.tolist()"
   ]
  },
  {
   "cell_type": "markdown",
   "id": "97ff0e03",
   "metadata": {},
   "source": [
    "## 3. Remove Duplicates"
   ]
  },
  {
   "cell_type": "code",
   "execution_count": 241,
   "id": "b8cf2a01",
   "metadata": {},
   "outputs": [
    {
     "data": {
      "text/plain": [
       "np.int64(5)"
      ]
     },
     "execution_count": 241,
     "metadata": {},
     "output_type": "execute_result"
    }
   ],
   "source": [
    "df.duplicated().sum()"
   ]
  },
  {
   "cell_type": "code",
   "execution_count": 242,
   "id": "34a9170f",
   "metadata": {},
   "outputs": [],
   "source": [
    "df = df.drop_duplicates()"
   ]
  },
  {
   "cell_type": "code",
   "execution_count": 243,
   "id": "6df99d71",
   "metadata": {},
   "outputs": [
    {
     "name": "stdout",
     "output_type": "stream",
     "text": [
      "<class 'pandas.core.frame.DataFrame'>\n",
      "Index: 30 entries, 0 to 29\n",
      "Data columns (total 10 columns):\n",
      " #   Column        Non-Null Count  Dtype \n",
      "---  ------        --------------  ----- \n",
      " 0   Car ID        30 non-null     int64 \n",
      " 1   Brand         29 non-null     object\n",
      " 2   Model         28 non-null     object\n",
      " 3   Year          29 non-null     object\n",
      " 4   Engine Size   23 non-null     object\n",
      " 5   Fuel Type     29 non-null     object\n",
      " 6   Mileage (km)  27 non-null     object\n",
      " 7   Price (USD)   23 non-null     object\n",
      " 8   Owner Type    29 non-null     object\n",
      " 9   Location      29 non-null     object\n",
      "dtypes: int64(1), object(9)\n",
      "memory usage: 2.6+ KB\n"
     ]
    }
   ],
   "source": [
    "df.info()"
   ]
  },
  {
   "cell_type": "code",
   "execution_count": 244,
   "id": "54b8ecce",
   "metadata": {},
   "outputs": [
    {
     "data": {
      "text/plain": [
       "Car ID          0\n",
       "Brand           1\n",
       "Model           2\n",
       "Year            1\n",
       "Engine Size     7\n",
       "Fuel Type       1\n",
       "Mileage (km)    3\n",
       "Price (USD)     7\n",
       "Owner Type      1\n",
       "Location        1\n",
       "dtype: int64"
      ]
     },
     "execution_count": 244,
     "metadata": {},
     "output_type": "execute_result"
    }
   ],
   "source": [
    "df.isnull().sum()"
   ]
  },
  {
   "cell_type": "markdown",
   "id": "bd654e52",
   "metadata": {},
   "source": [
    "## 4. Fixing Wrong Data Types"
   ]
  },
  {
   "cell_type": "code",
   "execution_count": 245,
   "id": "c49e9c51",
   "metadata": {},
   "outputs": [
    {
     "data": {
      "text/plain": [
       "Car ID           int64\n",
       "Brand           object\n",
       "Model           object\n",
       "Year            object\n",
       "Engine Size     object\n",
       "Fuel Type       object\n",
       "Mileage (km)    object\n",
       "Price (USD)     object\n",
       "Owner Type      object\n",
       "Location        object\n",
       "dtype: object"
      ]
     },
     "execution_count": 245,
     "metadata": {},
     "output_type": "execute_result"
    }
   ],
   "source": [
    "df.dtypes"
   ]
  },
  {
   "cell_type": "code",
   "execution_count": 246,
   "id": "2b6d1703",
   "metadata": {},
   "outputs": [
    {
     "data": {
      "text/plain": [
       "Car ID            int64\n",
       "Brand            object\n",
       "Model            object\n",
       "Year            float64\n",
       "Engine Size      object\n",
       "Fuel Type        object\n",
       "Mileage (km)    float64\n",
       "Price (USD)     float64\n",
       "Owner Type       object\n",
       "Location         object\n",
       "dtype: object"
      ]
     },
     "execution_count": 246,
     "metadata": {},
     "output_type": "execute_result"
    }
   ],
   "source": [
    "# cols = ['Year', 'Mileage (km)', 'Price (USD)']\n",
    "\n",
    "# for x in cols :\n",
    "#     df[x] = pd.to_numeric(df[x], errors='coerce')\n",
    "\n",
    "df['Year'] = pd.to_numeric(df['Year'], errors='coerce', downcast='integer' )\n",
    "df['Mileage (km)'] = pd.to_numeric(df['Mileage (km)'], errors='coerce')\n",
    "df['Price (USD)'] = pd.to_numeric(df['Price (USD)'].replace('$', ''), errors='coerce')\n",
    "\n",
    "df.dtypes"
   ]
  },
  {
   "cell_type": "code",
   "execution_count": 247,
   "id": "b08c9eb0",
   "metadata": {},
   "outputs": [
    {
     "name": "stdout",
     "output_type": "stream",
     "text": [
      "   Car ID  Brand     Model    Year Engine Size Fuel Type  Mileage (km)  Price (USD) Owner Type     Location\n",
      "0       1   Audi  3 Series     NaN        2.0L    Diesel       20000.0          NaN     second      Houston\n",
      "1       2    BMW   Model X  2019.0    Electric    Diesel           NaN       7500.0      First      Houston\n",
      "2       3  Tesla   Model X  2018.0    Electric    Petrol       35000.0          NaN      First     New York\n",
      "3       4   Audi     Focus  2019.0  two liters    petrol       65000.0      30000.0      Third     New York\n",
      "4       5   Ford     Focus  2014.0         NaN       GAS       75000.0      20000.0     Second  Los Angeles\n"
     ]
    }
   ],
   "source": [
    "print(df.head().to_string())"
   ]
  },
  {
   "cell_type": "markdown",
   "id": "afcb1f45",
   "metadata": {},
   "source": [
    "## 5. Standardizing "
   ]
  },
  {
   "cell_type": "code",
   "execution_count": 248,
   "id": "1fcbe4be",
   "metadata": {},
   "outputs": [
    {
     "name": "stdout",
     "output_type": "stream",
     "text": [
      "   Car ID  Brand     Model    Year Engine Size Fuel Type  Mileage (km)  \\\n",
      "0       1   Audi  3 Series     NaN        2.0L    Diesel       20000.0   \n",
      "1       2    BMW   Model X  2019.0    Electric    Diesel           NaN   \n",
      "2       3  Tesla   Model X  2018.0    Electric    Petrol       35000.0   \n",
      "3       4   Audi     Focus  2019.0        2.0L    petrol       65000.0   \n",
      "4       5   Ford     Focus  2014.0         NaN       GAS       75000.0   \n",
      "5       6  Tesla     Camry  2011.0         NaN    petrol       55000.0   \n",
      "6       7  Tesla     Civic  2013.0        2.0L    Diesel       20000.0   \n",
      "\n",
      "   Price (USD) Owner Type     Location  \n",
      "0          NaN     Second      Houston  \n",
      "1       7500.0      First      Houston  \n",
      "2          NaN      First     New York  \n",
      "3      30000.0      Third     New York  \n",
      "4      20000.0     Second  Los Angeles  \n",
      "5      27500.0          1     New York  \n",
      "6      15000.0      First          404  \n"
     ]
    }
   ],
   "source": [
    "x, y = 'Engine Size', 'Owner Type'\n",
    "\n",
    "# df[x] = df[x].astype(str).str.lower().str.strip() \n",
    "\n",
    "df[x] = df[x].replace({\n",
    "    'electric' : \"Electric\",\n",
    "    'two liters' : '2.0L'\n",
    "     })\n",
    "\n",
    "# df[y] = df[y].astype(str).str.lower().str.strip()\n",
    "\n",
    "df[y] = df[y].replace({\n",
    "    'first' or '1' : 'First',\n",
    "    'second' or '2': 'Second',\n",
    "    'third' or '3': 'Third',\n",
    "})\n",
    "\n",
    "print(df.head(7))\n"
   ]
  },
  {
   "cell_type": "code",
   "execution_count": 249,
   "id": "05308880",
   "metadata": {},
   "outputs": [
    {
     "name": "stdout",
     "output_type": "stream",
     "text": [
      "   Car ID  Brand     Model    Year Engine Size Fuel Type  Mileage (km)  \\\n",
      "0       1   Audi  3 Series     NaN        2.0L    Diesel       20000.0   \n",
      "1       2    BMW   Model X  2019.0    Electric    Diesel           NaN   \n",
      "2       3  Tesla   Model X  2018.0    Electric    Petrol       35000.0   \n",
      "3       4   Audi     Focus  2019.0        2.0L    Petrol       65000.0   \n",
      "4       5   Ford     Focus  2014.0         NaN       Gas       75000.0   \n",
      "5       6  Tesla     Camry  2011.0         NaN    Petrol       55000.0   \n",
      "6       7  Tesla     Civic  2013.0        2.0L    Diesel       20000.0   \n",
      "7       8   Audi  3 Series  2021.0         NaN    Petrol       65000.0   \n",
      "8       9  Honda  3 Series  2021.0        2.0L       NaN       35000.0   \n",
      "\n",
      "   Price (USD) Owner Type     Location  \n",
      "0          NaN     Second      Houston  \n",
      "1       7500.0      First      Houston  \n",
      "2          NaN      First     New York  \n",
      "3      30000.0      Third     New York  \n",
      "4      20000.0     Second  Los Angeles  \n",
      "5      27500.0          1     New York  \n",
      "6      15000.0      First          NaN  \n",
      "7      20000.0     Second      Houston  \n",
      "8      22500.0      First     New York  \n"
     ]
    }
   ],
   "source": [
    "x, y = 'Fuel Type', 'Location'\n",
    "\n",
    "df[x] = df[x].replace({\n",
    "    'GAS' or 'gas' : 'Gas',\n",
    "    'petrol' : 'Petrol',\n",
    "    'diesel' : 'Diesel'\n",
    "})\n",
    "\n",
    "\n",
    "\n",
    "df[y] = df[y].replace({'404' : 'NaN'})\n",
    "\n",
    "print(df.head(9))"
   ]
  },
  {
   "cell_type": "markdown",
   "id": "5cbef813",
   "metadata": {},
   "source": [
    "## 6. Handle Missing Values"
   ]
  },
  {
   "cell_type": "code",
   "execution_count": 250,
   "id": "e0875660",
   "metadata": {},
   "outputs": [
    {
     "data": {
      "text/plain": [
       "Car ID          0\n",
       "Brand           1\n",
       "Model           2\n",
       "Year            2\n",
       "Engine Size     7\n",
       "Fuel Type       1\n",
       "Mileage (km)    4\n",
       "Price (USD)     8\n",
       "Owner Type      1\n",
       "Location        1\n",
       "dtype: int64"
      ]
     },
     "execution_count": 250,
     "metadata": {},
     "output_type": "execute_result"
    }
   ],
   "source": [
    "df.isnull().sum()"
   ]
  },
  {
   "cell_type": "code",
   "execution_count": 251,
   "id": "7c596b96",
   "metadata": {},
   "outputs": [
    {
     "name": "stdout",
     "output_type": "stream",
     "text": [
      "   Car ID  Brand     Model    Year Engine Size Fuel Type  Mileage (km)  \\\n",
      "0       1   Audi  3 Series  2015.5        2.0L    Diesel       20000.0   \n",
      "1       2    BMW   Model X  2019.0    Electric    Diesel       45000.0   \n",
      "2       3  Tesla   Model X  2018.0    Electric    Petrol       35000.0   \n",
      "3       4   Audi     Focus  2019.0        2.0L    Petrol       65000.0   \n",
      "4       5   Ford     Focus  2014.0        1.5L       Gas       75000.0   \n",
      "\n",
      "    Price (USD) Owner Type     Location  \n",
      "0  18977.272727     Second      Houston  \n",
      "1   7500.000000      First      Houston  \n",
      "2  18977.272727      First     New York  \n",
      "3  30000.000000      Third     New York  \n",
      "4  20000.000000     Second  Los Angeles  \n"
     ]
    }
   ],
   "source": [
    "df['Brand'] = df['Brand'].fillna(df['Brand'].mode()[0])\n",
    "df['Model'] = df['Model'].fillna(df['Model'].mode()[0])\n",
    "df['Year'] = df['Year'].fillna(df['Year'].median())\n",
    "df['Engine Size'] = df['Engine Size'].fillna(df['Engine Size'].mode()[0])\n",
    "df['Fuel Type'] = df['Fuel Type'].fillna(df['Fuel Type'].mode()[0])\n",
    "df['Mileage (km)'] = df['Mileage (km)'].fillna(df['Mileage (km)'].median())\n",
    "df['Price (USD)'] = df['Price (USD)'].fillna(df['Price (USD)'].mean())\n",
    "df['Owner Type'] = df['Owner Type'].fillna(df['Owner Type'].mode()[0])\n",
    "df['Location'] = df['Location'].fillna(df['Location'].mode()[0])\n",
    "\n",
    "print(df.head())\n"
   ]
  },
  {
   "cell_type": "code",
   "execution_count": 252,
   "id": "9714357f",
   "metadata": {},
   "outputs": [
    {
     "name": "stdout",
     "output_type": "stream",
     "text": [
      "   Car ID  Brand     Model    Year Engine Size Fuel Type  Mileage (km)  \\\n",
      "0       1   Audi  3 Series  2015.5        2.0L    Diesel       -1000.0   \n",
      "1       2    BMW   Model X  2019.0    Electric    Diesel       45000.0   \n",
      "2       3  Tesla   Model X  2018.0    Electric    Petrol       35000.0   \n",
      "3       4   Audi     Focus  2019.0        2.0L    Petrol       65000.0   \n",
      "4       5   Ford     Focus  2014.0        1.5L       Gas       75000.0   \n",
      "\n",
      "    Price (USD) Owner Type     Location  \n",
      "0  18977.272727     Second      Houston  \n",
      "1   7500.000000      First      Houston  \n",
      "2  18977.272727      First     New York  \n",
      "3  30000.000000      Third     New York  \n",
      "4  20000.000000     Second  Los Angeles  \n"
     ]
    }
   ],
   "source": [
    "\n",
    "df.at[0, \"Mileage (km)\"] = -1000\n",
    "print(df.head())"
   ]
  },
  {
   "cell_type": "markdown",
   "id": "8e13747b",
   "metadata": {},
   "source": [
    "## 7 fix Outliers"
   ]
  },
  {
   "cell_type": "code",
   "execution_count": 253,
   "id": "1427d41f",
   "metadata": {},
   "outputs": [],
   "source": [
    "# df = df[df['Mileage (km)'] >= 0]\n",
    "# df = df[df['Price (USD)'] >= 0]\n",
    "\n",
    "# print(df.head())"
   ]
  },
  {
   "cell_type": "code",
   "execution_count": 254,
   "id": "f406ea0f",
   "metadata": {},
   "outputs": [],
   "source": [
    "# df = df[(df['Year'] >= 1990) & (df['Year'] <= 2025)]"
   ]
  },
  {
   "cell_type": "markdown",
   "id": "b32b2418",
   "metadata": {},
   "source": [
    "## 8. Rename Columns "
   ]
  },
  {
   "cell_type": "code",
   "execution_count": 255,
   "id": "4057e915",
   "metadata": {},
   "outputs": [],
   "source": [
    "df.columns = df.columns.str.strip().str.lower().str.replace(' ', '_')"
   ]
  },
  {
   "cell_type": "code",
   "execution_count": 256,
   "id": "4ab41470",
   "metadata": {},
   "outputs": [
    {
     "data": {
      "text/html": [
       "<div>\n",
       "<style scoped>\n",
       "    .dataframe tbody tr th:only-of-type {\n",
       "        vertical-align: middle;\n",
       "    }\n",
       "\n",
       "    .dataframe tbody tr th {\n",
       "        vertical-align: top;\n",
       "    }\n",
       "\n",
       "    .dataframe thead th {\n",
       "        text-align: right;\n",
       "    }\n",
       "</style>\n",
       "<table border=\"1\" class=\"dataframe\">\n",
       "  <thead>\n",
       "    <tr style=\"text-align: right;\">\n",
       "      <th></th>\n",
       "      <th>car_id</th>\n",
       "      <th>brand</th>\n",
       "      <th>model</th>\n",
       "      <th>year</th>\n",
       "      <th>engine_size</th>\n",
       "      <th>fuel_type</th>\n",
       "      <th>mileage_(km)</th>\n",
       "      <th>price_(usd)</th>\n",
       "      <th>owner_type</th>\n",
       "      <th>location</th>\n",
       "    </tr>\n",
       "  </thead>\n",
       "  <tbody>\n",
       "    <tr>\n",
       "      <th>0</th>\n",
       "      <td>1</td>\n",
       "      <td>Audi</td>\n",
       "      <td>3 Series</td>\n",
       "      <td>2015.5</td>\n",
       "      <td>2.0L</td>\n",
       "      <td>Diesel</td>\n",
       "      <td>-1000.0</td>\n",
       "      <td>18977.272727</td>\n",
       "      <td>Second</td>\n",
       "      <td>Houston</td>\n",
       "    </tr>\n",
       "    <tr>\n",
       "      <th>1</th>\n",
       "      <td>2</td>\n",
       "      <td>BMW</td>\n",
       "      <td>Model X</td>\n",
       "      <td>2019.0</td>\n",
       "      <td>Electric</td>\n",
       "      <td>Diesel</td>\n",
       "      <td>45000.0</td>\n",
       "      <td>7500.000000</td>\n",
       "      <td>First</td>\n",
       "      <td>Houston</td>\n",
       "    </tr>\n",
       "    <tr>\n",
       "      <th>2</th>\n",
       "      <td>3</td>\n",
       "      <td>Tesla</td>\n",
       "      <td>Model X</td>\n",
       "      <td>2018.0</td>\n",
       "      <td>Electric</td>\n",
       "      <td>Petrol</td>\n",
       "      <td>35000.0</td>\n",
       "      <td>18977.272727</td>\n",
       "      <td>First</td>\n",
       "      <td>New York</td>\n",
       "    </tr>\n",
       "    <tr>\n",
       "      <th>3</th>\n",
       "      <td>4</td>\n",
       "      <td>Audi</td>\n",
       "      <td>Focus</td>\n",
       "      <td>2019.0</td>\n",
       "      <td>2.0L</td>\n",
       "      <td>Petrol</td>\n",
       "      <td>65000.0</td>\n",
       "      <td>30000.000000</td>\n",
       "      <td>Third</td>\n",
       "      <td>New York</td>\n",
       "    </tr>\n",
       "    <tr>\n",
       "      <th>4</th>\n",
       "      <td>5</td>\n",
       "      <td>Ford</td>\n",
       "      <td>Focus</td>\n",
       "      <td>2014.0</td>\n",
       "      <td>1.5L</td>\n",
       "      <td>Gas</td>\n",
       "      <td>75000.0</td>\n",
       "      <td>20000.000000</td>\n",
       "      <td>Second</td>\n",
       "      <td>Los Angeles</td>\n",
       "    </tr>\n",
       "  </tbody>\n",
       "</table>\n",
       "</div>"
      ],
      "text/plain": [
       "   car_id  brand     model    year engine_size fuel_type  mileage_(km)  \\\n",
       "0       1   Audi  3 Series  2015.5        2.0L    Diesel       -1000.0   \n",
       "1       2    BMW   Model X  2019.0    Electric    Diesel       45000.0   \n",
       "2       3  Tesla   Model X  2018.0    Electric    Petrol       35000.0   \n",
       "3       4   Audi     Focus  2019.0        2.0L    Petrol       65000.0   \n",
       "4       5   Ford     Focus  2014.0        1.5L       Gas       75000.0   \n",
       "\n",
       "    price_(usd) owner_type     location  \n",
       "0  18977.272727     Second      Houston  \n",
       "1   7500.000000      First      Houston  \n",
       "2  18977.272727      First     New York  \n",
       "3  30000.000000      Third     New York  \n",
       "4  20000.000000     Second  Los Angeles  "
      ]
     },
     "execution_count": 256,
     "metadata": {},
     "output_type": "execute_result"
    }
   ],
   "source": [
    "df.head(5)"
   ]
  },
  {
   "cell_type": "markdown",
   "id": "9bd92b9d",
   "metadata": {},
   "source": [
    "## 9. Recheck Cleanedd Data"
   ]
  },
  {
   "cell_type": "code",
   "execution_count": 258,
   "id": "4d437d14",
   "metadata": {},
   "outputs": [
    {
     "name": "stdout",
     "output_type": "stream",
     "text": [
      "<class 'pandas.core.frame.DataFrame'>\n",
      "Index: 30 entries, 0 to 29\n",
      "Data columns (total 10 columns):\n",
      " #   Column        Non-Null Count  Dtype  \n",
      "---  ------        --------------  -----  \n",
      " 0   car_id        30 non-null     int64  \n",
      " 1   brand         30 non-null     object \n",
      " 2   model         30 non-null     object \n",
      " 3   year          30 non-null     float64\n",
      " 4   engine_size   30 non-null     object \n",
      " 5   fuel_type     30 non-null     object \n",
      " 6   mileage_(km)  30 non-null     float64\n",
      " 7   price_(usd)   30 non-null     float64\n",
      " 8   owner_type    30 non-null     object \n",
      " 9   location      30 non-null     object \n",
      "dtypes: float64(3), int64(1), object(6)\n",
      "memory usage: 3.6+ KB\n"
     ]
    },
    {
     "data": {
      "text/plain": [
       "car_id          0\n",
       "brand           0\n",
       "model           0\n",
       "year            0\n",
       "engine_size     0\n",
       "fuel_type       0\n",
       "mileage_(km)    0\n",
       "price_(usd)     0\n",
       "owner_type      0\n",
       "location        0\n",
       "dtype: int64"
      ]
     },
     "execution_count": 258,
     "metadata": {},
     "output_type": "execute_result"
    }
   ],
   "source": [
    "df.info()\n",
    "df.isnull().sum()"
   ]
  },
  {
   "cell_type": "code",
   "execution_count": null,
   "id": "81617f85",
   "metadata": {},
   "outputs": [],
   "source": []
  },
  {
   "cell_type": "code",
   "execution_count": null,
   "id": "5651609b",
   "metadata": {},
   "outputs": [],
   "source": []
  },
  {
   "cell_type": "code",
   "execution_count": null,
   "id": "133b9679",
   "metadata": {},
   "outputs": [],
   "source": []
  }
 ],
 "metadata": {
  "kernelspec": {
   "display_name": "myenv",
   "language": "python",
   "name": "python3"
  },
  "language_info": {
   "codemirror_mode": {
    "name": "ipython",
    "version": 3
   },
   "file_extension": ".py",
   "mimetype": "text/x-python",
   "name": "python",
   "nbconvert_exporter": "python",
   "pygments_lexer": "ipython3",
   "version": "3.13.4"
  }
 },
 "nbformat": 4,
 "nbformat_minor": 5
}
