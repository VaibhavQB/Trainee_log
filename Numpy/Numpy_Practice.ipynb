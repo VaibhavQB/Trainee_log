{
 "cells": [
  {
   "cell_type": "code",
   "execution_count": 2,
   "id": "f81a7ab4",
   "metadata": {},
   "outputs": [],
   "source": [
    "# !conda install pandas numpy matplotlib seaborn scikit-learn jupyter notebook"
   ]
  },
  {
   "cell_type": "code",
   "execution_count": null,
   "id": "5659226c",
   "metadata": {},
   "outputs": [],
   "source": []
  },
  {
   "cell_type": "markdown",
   "id": "8dbc52e0",
   "metadata": {},
   "source": [
    "# NumPy Practice \n",
    "___\n",
    "## 1. Importing NumPy\n",
    "Import Numpy in your applications by adding the import keyword.\n",
    "\n",
    "NumPy is usually imported under the 'np' alias\n"
   ]
  },
  {
   "cell_type": "code",
   "execution_count": 3,
   "id": "492400bc",
   "metadata": {},
   "outputs": [],
   "source": [
    "import numpy as np\n",
    "import pandas as pd"
   ]
  },
  {
   "cell_type": "markdown",
   "id": "3e12396d",
   "metadata": {},
   "source": [
    "Checking NumPy Version"
   ]
  },
  {
   "cell_type": "code",
   "execution_count": 4,
   "id": "920a7184",
   "metadata": {},
   "outputs": [
    {
     "data": {
      "text/plain": [
       "'2.2.5'"
      ]
     },
     "execution_count": 4,
     "metadata": {},
     "output_type": "execute_result"
    }
   ],
   "source": [
    "pd.__version__\n",
    "np.__version__"
   ]
  },
  {
   "cell_type": "markdown",
   "id": "c0c29662",
   "metadata": {},
   "source": [
    "## 2. Calling an array\n",
    "### 2.1 Arrays of different Dimension \n",
    "- 0-D Array \n",
    "    - 0-D arrays, or Scalars, are the elements in an array. Each value in an array is a 0-D array.\n",
    "\n",
    "- 1-D Array\n",
    "    - An array that has 0-D arrays as its elements is called uni-dimensional or 1-D array.\n",
    "\n",
    "    - These are the most common and basic arrays\n",
    "  \n",
    "- 2-D Array\n",
    "    - An array that has 2-D arrays (matrices) as its elements is called 3-D array.\n",
    "\n",
    "    - These are often used to represent a 3rd order tensor."
   ]
  },
  {
   "cell_type": "code",
   "execution_count": 5,
   "id": "ef579b27",
   "metadata": {},
   "outputs": [
    {
     "name": "stdout",
     "output_type": "stream",
     "text": [
      "[1 2 3 4 5] is <class 'numpy.ndarray'> type\n"
     ]
    }
   ],
   "source": [
    "arr = np.array([ 1, 2, 3, 4, 5])\n",
    "print(f\"{arr} is {type(arr)} type\")"
   ]
  },
  {
   "cell_type": "code",
   "execution_count": 6,
   "id": "95ba3d04",
   "metadata": {},
   "outputs": [
    {
     "name": "stdout",
     "output_type": "stream",
     "text": [
      "Example of 0-D Array : 42\n"
     ]
    }
   ],
   "source": [
    "arr0 = np.array(42)\n",
    "print(f'Example of 0-D Array : {arr0}')"
   ]
  },
  {
   "cell_type": "code",
   "execution_count": 7,
   "id": "3f71c7b5",
   "metadata": {},
   "outputs": [
    {
     "name": "stdout",
     "output_type": "stream",
     "text": [
      "Example of 1-D Array : [11 14 17 20 23 26 29 32]\n"
     ]
    }
   ],
   "source": [
    "arr1  = np.array(range(11, 34, 3))\n",
    "print(f'Example of 1-D Array : {arr1}')"
   ]
  },
  {
   "cell_type": "code",
   "execution_count": 8,
   "id": "21366d76",
   "metadata": {},
   "outputs": [
    {
     "name": "stdout",
     "output_type": "stream",
     "text": [
      "Example of 2-D Array :\n",
      "[[1 2 3 4 5]\n",
      " [3 4 5 6 7]]\n"
     ]
    }
   ],
   "source": [
    "arr2 = np.array([range(1,6), range(3,8)])\n",
    "print(f\"Example of 2-D Array :\\n{arr2}\")"
   ]
  },
  {
   "cell_type": "code",
   "execution_count": 9,
   "id": "4fd2d90a",
   "metadata": {},
   "outputs": [
    {
     "name": "stdout",
     "output_type": "stream",
     "text": [
      "Example of 3-D Array :\n",
      "[[[ 1  3  5  7  9]\n",
      "  [ 3  5  7  9 11]\n",
      "  [ 6  8 10 12 14]]]\n"
     ]
    }
   ],
   "source": [
    "arr3 = np.array([[range(1, 10, 2), range(3, 12, 2), range(6, 15, 2)]])\n",
    "print(f\"Example of 3-D Array :\\n{arr3}\")"
   ]
  },
  {
   "cell_type": "markdown",
   "id": "0b673d6d",
   "metadata": {},
   "source": [
    "### 2.2 Checking Dimension of the arrays"
   ]
  },
  {
   "cell_type": "code",
   "execution_count": 10,
   "id": "f00925ea",
   "metadata": {},
   "outputs": [
    {
     "name": "stdout",
     "output_type": "stream",
     "text": [
      "Dimension of arr0 : 0\n",
      "Dimension of arr1 : 1\n",
      "Dimension of arr2 : 2\n",
      "Dimension of arr3 : 3\n"
     ]
    }
   ],
   "source": [
    "print(f'Dimension of arr0 : {arr0.ndim}')\n",
    "print(f'Dimension of arr1 : {arr1.ndim}')\n",
    "print(f'Dimension of arr2 : {arr2.ndim}')\n",
    "print(f'Dimension of arr3 : {arr3.ndim}')"
   ]
  },
  {
   "cell_type": "markdown",
   "id": "04e7bcb1",
   "metadata": {},
   "source": [
    "### 2.3 Using 'ndmin' (ndmin and ndim are different)"
   ]
  },
  {
   "cell_type": "code",
   "execution_count": 11,
   "id": "5531e564",
   "metadata": {},
   "outputs": [
    {
     "name": "stdout",
     "output_type": "stream",
     "text": [
      "[[[[[1 2 3 4]]]]]\n",
      "Dimension of arr4 : 5\n"
     ]
    }
   ],
   "source": [
    "arr4  = np.array([1, 2, 3, 4], ndmin=5)\n",
    "print(arr4)\n",
    "print(f'Dimension of arr4 : {arr4.ndim}')"
   ]
  },
  {
   "cell_type": "code",
   "execution_count": null,
   "id": "64278ae9",
   "metadata": {},
   "outputs": [],
   "source": []
  },
  {
   "cell_type": "markdown",
   "id": "89d0a66b",
   "metadata": {},
   "source": [
    "## 3. Acessing Array\n",
    "- Acessing 1-D Array\n",
    "\n"
   ]
  },
  {
   "cell_type": "code",
   "execution_count": 12,
   "id": "675068ec",
   "metadata": {},
   "outputs": [
    {
     "name": "stdout",
     "output_type": "stream",
     "text": [
      "3\n"
     ]
    }
   ],
   "source": [
    "arr1 = np.array([1, 2, 3, 4])\n",
    "print(arr1[2]) #3rd element\n"
   ]
  },
  {
   "cell_type": "markdown",
   "id": "5fe149a0",
   "metadata": {},
   "source": [
    "- Acessing 2-D Array"
   ]
  },
  {
   "cell_type": "code",
   "execution_count": 13,
   "id": "d731d536",
   "metadata": {},
   "outputs": [
    {
     "name": "stdout",
     "output_type": "stream",
     "text": [
      "10\n"
     ]
    }
   ],
   "source": [
    "arr2 = np.array([[1,2,3,4,5], [6,7,8,9,10]])\n",
    "print(arr2[1,-1])   # Last element of 2nd array"
   ]
  },
  {
   "cell_type": "markdown",
   "id": "f556329f",
   "metadata": {},
   "source": [
    "\n",
    "- Acessing 3-D Array"
   ]
  },
  {
   "cell_type": "code",
   "execution_count": 14,
   "id": "d83f44d7",
   "metadata": {},
   "outputs": [
    {
     "name": "stdout",
     "output_type": "stream",
     "text": [
      "8\n"
     ]
    }
   ],
   "source": [
    "arr3 = np.array([[[1, 2, 3], [4, 5, 6]], [[7, 8, 9], [10, 11, 12]]])\n",
    "# 3rd element of 2nd array of 1st\n",
    "print(arr3[1,0,1])  "
   ]
  },
  {
   "cell_type": "markdown",
   "id": "d46dd053",
   "metadata": {},
   "source": [
    "Slicing works same int the Arrays as they did in List."
   ]
  },
  {
   "cell_type": "markdown",
   "id": "2fba4031",
   "metadata": {},
   "source": [
    "## 4. Checking Data Type of an array (arr.dtype)\n",
    "\n",
    "- List of all data types in numpy\n",
    "    - i - integer\n",
    "    - b - boolean\n",
    "    - u - unsigned integer\n",
    "    - f - float\n",
    "    - c - complex float\n",
    "    - m - timedelta\n",
    "    - M - datetime\n",
    "    - O - object\n",
    "    - S - string\n",
    "    - U - unicode string\n",
    "    - V - fixed chunk of memory for other type ( void )"
   ]
  },
  {
   "cell_type": "code",
   "execution_count": 15,
   "id": "8c29f937",
   "metadata": {},
   "outputs": [
    {
     "name": "stdout",
     "output_type": "stream",
     "text": [
      "int64\n"
     ]
    }
   ],
   "source": [
    "sarr = np.array([1, 2, 3, 4])\n",
    "\n",
    "print(sarr.dtype)"
   ]
  },
  {
   "cell_type": "code",
   "execution_count": 16,
   "id": "a77a6de4",
   "metadata": {},
   "outputs": [
    {
     "name": "stdout",
     "output_type": "stream",
     "text": [
      "<U6\n"
     ]
    }
   ],
   "source": [
    "sarr = np.array(['apple', 'banana', 'cherry'])\n",
    "\n",
    "print(sarr.dtype)"
   ]
  },
  {
   "cell_type": "markdown",
   "id": "48fc7cb6",
   "metadata": {},
   "source": [
    "\n",
    "## 5. Creating Arrays With a Defined Data Type\n",
    "\n",
    "We use the array() function to create arrays, this function can take an optional argument: dtype that allows us to define the expected data type of the array elements"
   ]
  },
  {
   "cell_type": "code",
   "execution_count": 17,
   "id": "b5914d96",
   "metadata": {},
   "outputs": [
    {
     "name": "stdout",
     "output_type": "stream",
     "text": [
      "[b'1' b'2' b'3' b'4']\n",
      "|S1\n"
     ]
    }
   ],
   "source": [
    "arr = np.array([1, 2, 3, 4], dtype='S')\n",
    "\n",
    "print(arr)\n",
    "print(arr.dtype)"
   ]
  },
  {
   "cell_type": "code",
   "execution_count": 18,
   "id": "e18e6412",
   "metadata": {},
   "outputs": [
    {
     "name": "stdout",
     "output_type": "stream",
     "text": [
      "[1 2 3 4]\n",
      "int32\n"
     ]
    }
   ],
   "source": [
    "arr = np.array([1, 2, 3, 4], dtype='i4')\n",
    "\n",
    "print(arr)\n",
    "print(arr.dtype)"
   ]
  },
  {
   "cell_type": "markdown",
   "id": "cc8b4265",
   "metadata": {},
   "source": [
    "Converting Data Type on Existing Arrays"
   ]
  },
  {
   "cell_type": "code",
   "execution_count": 19,
   "id": "5ae2afc1",
   "metadata": {},
   "outputs": [
    {
     "name": "stdout",
     "output_type": "stream",
     "text": [
      "[1 2 3]\n",
      "int64\n"
     ]
    }
   ],
   "source": [
    "arr = np.array([1.1, 2.1, 3.1])\n",
    "\n",
    "newarr = arr.astype(int)\n",
    "\n",
    "print(newarr)\n",
    "print(newarr.dtype)"
   ]
  },
  {
   "cell_type": "code",
   "execution_count": 20,
   "id": "d4b66517",
   "metadata": {},
   "outputs": [
    {
     "name": "stdout",
     "output_type": "stream",
     "text": [
      "[1 2 3]\n",
      "int32\n"
     ]
    }
   ],
   "source": [
    "arr = np.array([1.1, 2.1, 3.1])\n",
    "\n",
    "newarr = arr.astype('i')\n",
    "\n",
    "print(newarr)\n",
    "print(newarr.dtype)"
   ]
  },
  {
   "cell_type": "markdown",
   "id": "a66c841d",
   "metadata": {},
   "source": [
    "## 6. Copy and View\n",
    "\n",
    "The main difference between a copy and a view of an array is that the copy is a new array, and the view is just a view of the original array.\n",
    "\n",
    "- Changes is **Copy** does not affect the original Array.\n",
    "\n",
    "- But changes in **View** will also reflect in the original Array "
   ]
  },
  {
   "cell_type": "code",
   "execution_count": 21,
   "id": "0bc3db7b",
   "metadata": {},
   "outputs": [
    {
     "name": "stdout",
     "output_type": "stream",
     "text": [
      "[42  2  3  4  5]\n",
      "[1 2 3 4 5]\n"
     ]
    }
   ],
   "source": [
    "arr = np.array([1, 2, 3, 4, 5])\n",
    "x = arr.copy()\n",
    "arr[0] = 42 # Won't get chaged in x\n",
    "\n",
    "print(arr)\n",
    "print(x)"
   ]
  },
  {
   "cell_type": "code",
   "execution_count": 22,
   "id": "e354ee04",
   "metadata": {},
   "outputs": [
    {
     "name": "stdout",
     "output_type": "stream",
     "text": [
      "[42  2  3  4  5]\n",
      "[42  2  3  4  5]\n"
     ]
    }
   ],
   "source": [
    "arr = np.array([1, 2, 3, 4, 5])\n",
    "x = arr.view()\n",
    "arr[0] = 42 # Will get chaged in x\n",
    "\n",
    "print(arr)\n",
    "print(x)"
   ]
  },
  {
   "cell_type": "markdown",
   "id": "50fef8ef",
   "metadata": {},
   "source": [
    "Check whether the Array Owns it's data\n",
    "- Every NumPy array has the attribute base that returns None if the array owns the data.\n",
    "\n",
    "- Otherwise, the base  attribute refers to the original object."
   ]
  },
  {
   "cell_type": "code",
   "execution_count": 23,
   "id": "8fbb5ec1",
   "metadata": {},
   "outputs": [
    {
     "name": "stdout",
     "output_type": "stream",
     "text": [
      "None\n",
      "[1 2 3 4 5]\n"
     ]
    }
   ],
   "source": [
    "arr = np.array([1, 2, 3, 4, 5])\n",
    "\n",
    "x = arr.copy()\n",
    "y = arr.view()\n",
    "\n",
    "print(x.base)\n",
    "print(y.base)"
   ]
  },
  {
   "cell_type": "markdown",
   "id": "11d63ad0",
   "metadata": {},
   "source": [
    "## 7. NumPy Array Shape\n",
    "The shape of an array is the number of elements in each dimension.\n"
   ]
  },
  {
   "cell_type": "code",
   "execution_count": 24,
   "id": "6074d4fb",
   "metadata": {},
   "outputs": [
    {
     "name": "stdout",
     "output_type": "stream",
     "text": [
      "(2, 4)\n"
     ]
    }
   ],
   "source": [
    "arr = np.array([[1, 2, 3, 4], [5, 6, 7, 8]])\n",
    "print(arr.shape)"
   ]
  },
  {
   "cell_type": "code",
   "execution_count": 25,
   "id": "12f1eccd",
   "metadata": {},
   "outputs": [
    {
     "name": "stdout",
     "output_type": "stream",
     "text": [
      "[[[[[1 2 3 4]]]]]\n",
      "shape of array : (1, 1, 1, 1, 4)\n"
     ]
    }
   ],
   "source": [
    "arr = np.array([1, 2, 3, 4], ndmin=5)\n",
    "print(arr)\n",
    "print('shape of array :', arr.shape)"
   ]
  },
  {
   "cell_type": "markdown",
   "id": "38bd318f",
   "metadata": {},
   "source": [
    "### 8. NumPy Array Reshaping\n",
    "\n",
    "- Reshaping means changing the shape of an array.\n",
    "\n",
    "- By reshaping we can add or remove dimensions or change number of elements in each dimension."
   ]
  },
  {
   "cell_type": "code",
   "execution_count": 26,
   "id": "7cf99391",
   "metadata": {},
   "outputs": [
    {
     "name": "stdout",
     "output_type": "stream",
     "text": [
      "[[ 1  2  3]\n",
      " [ 4  5  6]\n",
      " [ 7  8  9]\n",
      " [10 11 12]]\n"
     ]
    }
   ],
   "source": [
    "arr = np.array([1, 2, 3, 4, 5, 6, 7, 8, 9, 10, 11, 12])\n",
    "\n",
    "newarr = arr.reshape(4, 3) # from 1-D to 2-D\n",
    "print(newarr)"
   ]
  },
  {
   "cell_type": "code",
   "execution_count": 27,
   "id": "59754469",
   "metadata": {},
   "outputs": [
    {
     "name": "stdout",
     "output_type": "stream",
     "text": [
      "[ 1  2  3  4  5  6  7  8  9 10 11 12]\n"
     ]
    }
   ],
   "source": [
    "arr = np.array([1, 2, 3, 4, 5, 6, 7, 8, 9, 10, 11, 12])\n",
    "\n",
    "newarr = arr.reshape(2, 2, 3) # from 1-D to 3-D\n",
    "print(newarr.base)"
   ]
  },
  {
   "cell_type": "code",
   "execution_count": 30,
   "id": "39d51ec8",
   "metadata": {},
   "outputs": [
    {
     "name": "stdout",
     "output_type": "stream",
     "text": [
      "[ 1  2  3  4  5  6  7  8  9 10 11 12]\n"
     ]
    }
   ],
   "source": [
    "arr = np.array([[1, 2, 3, 4, 5, 6,], [7, 8, 9, 10, 11, 12]])\n",
    "\n",
    "newarr = arr.reshape(-1) # from 1-D to 3-D\n",
    "print(newarr)"
   ]
  },
  {
   "cell_type": "markdown",
   "id": "a527f028",
   "metadata": {},
   "source": [
    "## 9. NumPy Array Iterating\n",
    "- Iterating means going through elements one by one.\n",
    "\n",
    "- As we deal with multi-dimensional arrays in numpy, we can do this using basic for loop of python.\n",
    "\n",
    "### 9.1 Iterating 1-D Arrays"
   ]
  },
  {
   "cell_type": "code",
   "execution_count": 31,
   "id": "8d193975",
   "metadata": {},
   "outputs": [
    {
     "name": "stdout",
     "output_type": "stream",
     "text": [
      "1\n",
      "2\n",
      "3\n"
     ]
    }
   ],
   "source": [
    "arr = np.array([1, 2, 3])\n",
    "\n",
    "for x in arr:\n",
    "  print(x)"
   ]
  },
  {
   "cell_type": "markdown",
   "id": "2f44f420",
   "metadata": {},
   "source": [
    "### 9.2 Iterating 2-D Arrays"
   ]
  },
  {
   "cell_type": "code",
   "execution_count": 33,
   "id": "488d67c4",
   "metadata": {},
   "outputs": [
    {
     "name": "stdout",
     "output_type": "stream",
     "text": [
      "1\n",
      "2\n",
      "3\n",
      "4\n",
      "5\n",
      "6\n"
     ]
    }
   ],
   "source": [
    "arr = np.array([[1, 2, 3], [4, 5, 6]])\n",
    "\n",
    "for i in arr:\n",
    "  for j in i:\n",
    "    print(j)"
   ]
  },
  {
   "cell_type": "markdown",
   "id": "c151d00e",
   "metadata": {},
   "source": [
    "### 9.3 Iterating 3-D Arrays"
   ]
  },
  {
   "cell_type": "code",
   "execution_count": 34,
   "id": "da564988",
   "metadata": {},
   "outputs": [
    {
     "name": "stdout",
     "output_type": "stream",
     "text": [
      "1\n",
      "2\n",
      "3\n",
      "4\n",
      "5\n",
      "6\n",
      "7\n",
      "8\n",
      "9\n",
      "10\n",
      "11\n",
      "12\n"
     ]
    }
   ],
   "source": [
    "arr = np.array([[[1, 2, 3], [4, 5, 6]], [[7, 8, 9], [10, 11, 12]]])\n",
    "\n",
    "for i in arr:\n",
    "  for j in i :\n",
    "    for k in j :\n",
    "        print(k)"
   ]
  },
  {
   "cell_type": "markdown",
   "id": "9f8cc369",
   "metadata": {},
   "source": [
    "### 9.4 Iterating Arrays Using 'nditer()'"
   ]
  },
  {
   "cell_type": "code",
   "execution_count": 35,
   "id": "4d1909c3",
   "metadata": {},
   "outputs": [
    {
     "name": "stdout",
     "output_type": "stream",
     "text": [
      "1\n",
      "2\n",
      "3\n",
      "4\n",
      "5\n",
      "6\n",
      "7\n",
      "8\n"
     ]
    }
   ],
   "source": [
    "arr = np.array([[[1, 2], [3, 4]], [[5, 6], [7, 8]]])\n",
    "\n",
    "for i in np.nditer(arr):\n",
    "  print(i)"
   ]
  },
  {
   "cell_type": "markdown",
   "id": "75eca51a",
   "metadata": {},
   "source": [
    "### 9.5 Iterating Array With Different Data Types"
   ]
  },
  {
   "cell_type": "code",
   "execution_count": 36,
   "id": "e7e63aa1",
   "metadata": {},
   "outputs": [
    {
     "name": "stdout",
     "output_type": "stream",
     "text": [
      "np.bytes_(b'1')\n",
      "np.bytes_(b'2')\n",
      "np.bytes_(b'3')\n"
     ]
    }
   ],
   "source": [
    "arr = np.array([1, 2, 3])\n",
    "\n",
    "for x in np.nditer(arr, flags=['buffered'], op_dtypes=['S']):\n",
    "  print(x)"
   ]
  },
  {
   "cell_type": "markdown",
   "id": "64d6442f",
   "metadata": {},
   "source": []
  },
  {
   "cell_type": "code",
   "execution_count": null,
   "id": "4c5dd18d",
   "metadata": {},
   "outputs": [],
   "source": []
  }
 ],
 "metadata": {
  "kernelspec": {
   "display_name": "myenv",
   "language": "python",
   "name": "python3"
  },
  "language_info": {
   "codemirror_mode": {
    "name": "ipython",
    "version": 3
   },
   "file_extension": ".py",
   "mimetype": "text/x-python",
   "name": "python",
   "nbconvert_exporter": "python",
   "pygments_lexer": "ipython3",
   "version": "3.13.4"
  }
 },
 "nbformat": 4,
 "nbformat_minor": 5
}
