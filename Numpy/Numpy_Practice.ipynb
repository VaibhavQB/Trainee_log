{
 "cells": [
  {
   "cell_type": "code",
   "execution_count": 2,
   "id": "f81a7ab4",
   "metadata": {},
   "outputs": [],
   "source": [
    "# !conda install pandas numpy matplotlib seaborn scikit-learn jupyter notebook"
   ]
  },
  {
   "cell_type": "markdown",
   "id": "8dbc52e0",
   "metadata": {},
   "source": [
    "# Numpy Practice \n",
    "___\n",
    "### 1. Importing Numpy\n",
    "Import Numpy in your applications by adding the import keyword.\n",
    "\n",
    "NumPy is usually imported under the 'np' alias\n"
   ]
  },
  {
   "cell_type": "code",
   "execution_count": 3,
   "id": "492400bc",
   "metadata": {},
   "outputs": [],
   "source": [
    "import numpy as np\n",
    "import pandas as pd"
   ]
  },
  {
   "cell_type": "markdown",
   "id": "3e12396d",
   "metadata": {},
   "source": [
    "Checking NumPy Version"
   ]
  },
  {
   "cell_type": "code",
   "execution_count": 4,
   "id": "920a7184",
   "metadata": {},
   "outputs": [
    {
     "data": {
      "text/plain": [
       "'2.2.5'"
      ]
     },
     "execution_count": 4,
     "metadata": {},
     "output_type": "execute_result"
    }
   ],
   "source": [
    "pd.__version__\n",
    "np.__version__"
   ]
  },
  {
   "cell_type": "markdown",
   "id": "c0c29662",
   "metadata": {},
   "source": [
    "___\n",
    "\n",
    "### 2. Calling an array\n",
    "1. Arrays of different Dimension \n",
    "    - 0-D Array \n",
    "        - 0-D arrays, or Scalars, are the elements in an array. Each value in an array is a 0-D array.\n",
    "    - 1-D Array\n",
    "        - An array that has 0-D arrays as its elements is called uni-dimensional or 1-D array.\n",
    "\n",
    "        - These are the most common and basic arrays\n",
    "\n",
    "\n",
    "    \n",
    "    - 2-D Array"
   ]
  },
  {
   "cell_type": "code",
   "execution_count": 47,
   "id": "ef579b27",
   "metadata": {},
   "outputs": [
    {
     "name": "stdout",
     "output_type": "stream",
     "text": [
      "[1 2 3 4 5] is <class 'numpy.ndarray'> type\n"
     ]
    }
   ],
   "source": [
    "arr = np.array([ 1, 2, 3, 4, 5])\n",
    "print(f\"{arr} is {type(arr)} type\")"
   ]
  },
  {
   "cell_type": "code",
   "execution_count": 6,
   "id": "95ba3d04",
   "metadata": {},
   "outputs": [
    {
     "name": "stdout",
     "output_type": "stream",
     "text": [
      "Example of 0-D Array : 42\n"
     ]
    }
   ],
   "source": [
    "arr0 = np.array(42)\n",
    "print(f'Example of 0-D Array : {arr0}')"
   ]
  },
  {
   "cell_type": "code",
   "execution_count": 7,
   "id": "3f71c7b5",
   "metadata": {},
   "outputs": [
    {
     "name": "stdout",
     "output_type": "stream",
     "text": [
      "Example of 1-D Array : [11 14 17 20 23 26 29 32]\n"
     ]
    }
   ],
   "source": [
    "arr1  = np.array(range(11, 34, 3))\n",
    "print(f'Example of 1-D Array : {arr1}')"
   ]
  },
  {
   "cell_type": "code",
   "execution_count": 8,
   "id": "21366d76",
   "metadata": {},
   "outputs": [
    {
     "name": "stdout",
     "output_type": "stream",
     "text": [
      "Example of 2-D Array :\n",
      "[[1 2 3 4 5]\n",
      " [3 4 5 6 7]]\n"
     ]
    }
   ],
   "source": [
    "arr2 = np.array([range(1,6), range(3,8)])\n",
    "print(f\"Example of 2-D Array :\\n{arr2}\")"
   ]
  },
  {
   "cell_type": "code",
   "execution_count": 9,
   "id": "4fd2d90a",
   "metadata": {},
   "outputs": [
    {
     "name": "stdout",
     "output_type": "stream",
     "text": [
      "Example of 3-D Array :\n",
      "[[[ 1  3  5  7  9]\n",
      "  [ 3  5  7  9 11]\n",
      "  [ 6  8 10 12 14]]]\n"
     ]
    }
   ],
   "source": [
    "arr3 = np.array([[range(1, 10, 2), range(3, 12, 2), range(6, 15, 2)]])\n",
    "print(f\"Example of 3-D Array :\\n{arr3}\")"
   ]
  },
  {
   "cell_type": "markdown",
   "id": "0b673d6d",
   "metadata": {},
   "source": [
    "2. Checking Dimension of the arrays"
   ]
  },
  {
   "cell_type": "code",
   "execution_count": 10,
   "id": "f00925ea",
   "metadata": {},
   "outputs": [
    {
     "name": "stdout",
     "output_type": "stream",
     "text": [
      "Dimension of arr0 : 0\n",
      "Dimension of arr1 : 1\n",
      "Dimension of arr2 : 2\n",
      "Dimension of arr3 : 3\n"
     ]
    }
   ],
   "source": [
    "print(f'Dimension of arr0 : {arr0.ndim}')\n",
    "print(f'Dimension of arr1 : {arr1.ndim}')\n",
    "print(f'Dimension of arr2 : {arr2.ndim}')\n",
    "print(f'Dimension of arr3 : {arr3.ndim}')"
   ]
  },
  {
   "cell_type": "markdown",
   "id": "04e7bcb1",
   "metadata": {},
   "source": [
    "3. Using 'ndimn' (ndmin and ndim are different)"
   ]
  },
  {
   "cell_type": "code",
   "execution_count": 11,
   "id": "5531e564",
   "metadata": {},
   "outputs": [
    {
     "name": "stdout",
     "output_type": "stream",
     "text": [
      "[1 2 3 4 5]\n",
      "Dimension of arr4 : 5\n"
     ]
    }
   ],
   "source": [
    "arr4  = np.array([1,2,3, 4], ndmin=5)\n",
    "print(arr)\n",
    "print(f'Dimension of arr4 : {arr4.ndim}')"
   ]
  },
  {
   "cell_type": "markdown",
   "id": "89d0a66b",
   "metadata": {},
   "source": [
    "___\n",
    "## 3. Acessing Array\n",
    "- Acessing 1-D Array\n"
   ]
  },
  {
   "cell_type": "code",
   "execution_count": null,
   "id": "675068ec",
   "metadata": {},
   "outputs": [
    {
     "name": "stdout",
     "output_type": "stream",
     "text": [
      "3\n",
      "10\n",
      "3\n",
      "[7 8 9]\n"
     ]
    }
   ],
   "source": [
    "ar1 = np.array([1, 2, 3, 4])\n",
    "print(ar1[2]) #3rd element\n"
   ]
  },
  {
   "cell_type": "markdown",
   "id": "5fe149a0",
   "metadata": {},
   "source": [
    "- Acessing 2-D Array"
   ]
  },
  {
   "cell_type": "code",
   "execution_count": null,
   "id": "d731d536",
   "metadata": {},
   "outputs": [
    {
     "name": "stdout",
     "output_type": "stream",
     "text": [
      "10\n"
     ]
    }
   ],
   "source": [
    "ar2 = np.array([[1,2,3,4,5], [6,7,8,9,10]])\n",
    "print(ar2[1,-1])   # Last element of 2nd array"
   ]
  },
  {
   "cell_type": "markdown",
   "id": "f556329f",
   "metadata": {},
   "source": [
    "\n",
    "- Acessing 3-D Array"
   ]
  },
  {
   "cell_type": "code",
   "execution_count": 39,
   "id": "d83f44d7",
   "metadata": {},
   "outputs": [
    {
     "name": "stdout",
     "output_type": "stream",
     "text": [
      "8\n"
     ]
    }
   ],
   "source": [
    "ar3 = np.array([[[1, 2, 3], [4, 5, 6]], [[7, 8, 9], [10, 11, 12]]])\n",
    "# 3rd element of 2nd array of 1st\n",
    "print(ar3[1,0,1])  "
   ]
  },
  {
   "cell_type": "markdown",
   "id": "2fba4031",
   "metadata": {},
   "source": [
    "___\n",
    "### 4. Checking Data Type of an array (arr.dtype)\n",
    "\n",
    "- List of all data types in numpy\n",
    "    - i - integer\n",
    "    - b - boolean\n",
    "    - u - unsigned integer\n",
    "    - f - float\n",
    "    - c - complex float\n",
    "    - m - timedelta\n",
    "    - M - datetime\n",
    "    - O - object\n",
    "    - S - string\n",
    "    - U - unicode string\n",
    "    - V - fixed chunk of memory for other type ( void )"
   ]
  },
  {
   "cell_type": "code",
   "execution_count": 45,
   "id": "8c29f937",
   "metadata": {},
   "outputs": [
    {
     "name": "stdout",
     "output_type": "stream",
     "text": [
      "int64\n"
     ]
    }
   ],
   "source": [
    "sarr = np.array([1, 2, 3, 4])\n",
    "\n",
    "print(sarr.dtype)"
   ]
  },
  {
   "cell_type": "code",
   "execution_count": 46,
   "id": "a77a6de4",
   "metadata": {},
   "outputs": [
    {
     "name": "stdout",
     "output_type": "stream",
     "text": [
      "<U6\n"
     ]
    }
   ],
   "source": [
    "sarr = np.array(['apple', 'banana', 'cherry'])\n",
    "\n",
    "print(sarr.dtype)"
   ]
  },
  {
   "cell_type": "markdown",
   "id": "48fc7cb6",
   "metadata": {},
   "source": [
    "___\n",
    "### 5. Creating Arrays With a Defined Data Type\n",
    "\n",
    "We use the array() function to create arrays, this function can take an optional argument: dtype that allows us to define the expected data type of the array elements"
   ]
  },
  {
   "cell_type": "code",
   "execution_count": null,
   "id": "b5914d96",
   "metadata": {},
   "outputs": [],
   "source": []
  },
  {
   "cell_type": "code",
   "execution_count": null,
   "id": "e18e6412",
   "metadata": {},
   "outputs": [],
   "source": []
  },
  {
   "cell_type": "code",
   "execution_count": null,
   "id": "5ae2afc1",
   "metadata": {},
   "outputs": [],
   "source": []
  },
  {
   "cell_type": "code",
   "execution_count": null,
   "id": "d4b66517",
   "metadata": {},
   "outputs": [],
   "source": []
  },
  {
   "cell_type": "code",
   "execution_count": null,
   "id": "12f1eccd",
   "metadata": {},
   "outputs": [],
   "source": []
  },
  {
   "cell_type": "code",
   "execution_count": null,
   "id": "7cf99391",
   "metadata": {},
   "outputs": [],
   "source": []
  }
 ],
 "metadata": {
  "kernelspec": {
   "display_name": "myenv",
   "language": "python",
   "name": "python3"
  },
  "language_info": {
   "codemirror_mode": {
    "name": "ipython",
    "version": 3
   },
   "file_extension": ".py",
   "mimetype": "text/x-python",
   "name": "python",
   "nbconvert_exporter": "python",
   "pygments_lexer": "ipython3",
   "version": "3.13.4"
  }
 },
 "nbformat": 4,
 "nbformat_minor": 5
}
