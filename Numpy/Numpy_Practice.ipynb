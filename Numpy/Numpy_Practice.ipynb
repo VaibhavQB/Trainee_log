{
 "cells": [
  {
   "cell_type": "code",
   "execution_count": 1,
   "id": "f81a7ab4",
   "metadata": {},
   "outputs": [],
   "source": [
    "# !conda install pandas numpy matplotlib seaborn scikit-learn jupyter notebook"
   ]
  },
  {
   "cell_type": "markdown",
   "id": "8dbc52e0",
   "metadata": {},
   "source": [
    "# NumPy Practice \n",
    "___\n",
    "### 1. Importing NumPy\n",
    "- Numpy stands for Numerical Python\n",
    "\n",
    "- Import Numpy in the applications by adding the import keyword.\n",
    "\n",
    "- NumPy is usually imported under the 'np' alias\n"
   ]
  },
  {
   "cell_type": "code",
   "execution_count": 2,
   "id": "492400bc",
   "metadata": {},
   "outputs": [],
   "source": [
    "import numpy as np\n",
    "import pandas as pd"
   ]
  },
  {
   "cell_type": "markdown",
   "id": "3e12396d",
   "metadata": {},
   "source": [
    "- Checking NumPy Version"
   ]
  },
  {
   "cell_type": "code",
   "execution_count": 3,
   "id": "920a7184",
   "metadata": {},
   "outputs": [
    {
     "data": {
      "text/plain": [
       "'2.2.5'"
      ]
     },
     "execution_count": 3,
     "metadata": {},
     "output_type": "execute_result"
    }
   ],
   "source": [
    "pd.__version__\n",
    "np.__version__"
   ]
  },
  {
   "cell_type": "markdown",
   "id": "c0c29662",
   "metadata": {},
   "source": [
    "### 2. Calling an array\n",
    "#### 2.1 Arrays of different Dimension \n",
    "- 0-D Array \n",
    "    - 0-D arrays, or Scalars, are the elements in an array. Each value in an array is a 0-D array.\n",
    "\n",
    "- 1-D Array\n",
    "    - An array that has 0-D arrays as its elements is called uni-dimensional or 1-D array.\n",
    "\n",
    "    - These are the most common and basic arrays\n",
    "  \n",
    "- 2-D Array\n",
    "    - An array that has 2-D arrays (matrices) as its elements is called 3-D array.\n",
    "\n",
    "    - These are often used to represent a 3rd order tensor."
   ]
  },
  {
   "cell_type": "code",
   "execution_count": 4,
   "id": "ef579b27",
   "metadata": {},
   "outputs": [
    {
     "name": "stdout",
     "output_type": "stream",
     "text": [
      "[1 2 3 4 5] is <class 'numpy.ndarray'> type\n"
     ]
    }
   ],
   "source": [
    "arr = np.array([ 1, 2, 3, 4, 5])\n",
    "print(f\"{arr} is {type(arr)} type\")"
   ]
  },
  {
   "cell_type": "code",
   "execution_count": 5,
   "id": "95ba3d04",
   "metadata": {},
   "outputs": [
    {
     "name": "stdout",
     "output_type": "stream",
     "text": [
      "Example of 0-D Array : 42\n"
     ]
    }
   ],
   "source": [
    "arr0 = np.array(42)\n",
    "print(f'Example of 0-D Array : {arr0}')"
   ]
  },
  {
   "cell_type": "code",
   "execution_count": 6,
   "id": "3f71c7b5",
   "metadata": {},
   "outputs": [
    {
     "name": "stdout",
     "output_type": "stream",
     "text": [
      "Example of 1-D Array : [11 14 17 20 23 26 29 32]\n"
     ]
    }
   ],
   "source": [
    "arr1  = np.array(range(11, 34, 3))\n",
    "print(f'Example of 1-D Array : {arr1}')"
   ]
  },
  {
   "cell_type": "code",
   "execution_count": 7,
   "id": "21366d76",
   "metadata": {},
   "outputs": [
    {
     "name": "stdout",
     "output_type": "stream",
     "text": [
      "Example of 2-D Array :\n",
      "[[1 2 3 4 5]\n",
      " [3 4 5 6 7]]\n"
     ]
    }
   ],
   "source": [
    "arr2 = np.array([range(1,6), range(3,8)])\n",
    "print(f\"Example of 2-D Array :\\n{arr2}\")"
   ]
  },
  {
   "cell_type": "code",
   "execution_count": 8,
   "id": "4fd2d90a",
   "metadata": {},
   "outputs": [
    {
     "name": "stdout",
     "output_type": "stream",
     "text": [
      "Example of 3-D Array :\n",
      "[[[ 1  3  5  7  9]\n",
      "  [ 3  5  7  9 11]\n",
      "  [ 6  8 10 12 14]]]\n"
     ]
    }
   ],
   "source": [
    "arr3 = np.array([[range(1, 10, 2), range(3, 12, 2), range(6, 15, 2)]])\n",
    "print(f\"Example of 3-D Array :\\n{arr3}\")"
   ]
  },
  {
   "cell_type": "markdown",
   "id": "0b673d6d",
   "metadata": {},
   "source": [
    "#### 2.2 Checking Dimension of the arrays"
   ]
  },
  {
   "cell_type": "code",
   "execution_count": 9,
   "id": "f00925ea",
   "metadata": {},
   "outputs": [
    {
     "name": "stdout",
     "output_type": "stream",
     "text": [
      "Dimension of arr0 : 0\n",
      "Dimension of arr1 : 1\n",
      "Dimension of arr2 : 2\n",
      "Dimension of arr3 : 3\n"
     ]
    }
   ],
   "source": [
    "print(f'Dimension of arr0 : {arr0.ndim}')\n",
    "print(f'Dimension of arr1 : {arr1.ndim}')\n",
    "print(f'Dimension of arr2 : {arr2.ndim}')\n",
    "print(f'Dimension of arr3 : {arr3.ndim}')"
   ]
  },
  {
   "cell_type": "markdown",
   "id": "04e7bcb1",
   "metadata": {},
   "source": [
    "#### 2.3 Using 'ndmin' (ndmin and ndim are different)"
   ]
  },
  {
   "cell_type": "code",
   "execution_count": 10,
   "id": "5531e564",
   "metadata": {},
   "outputs": [
    {
     "name": "stdout",
     "output_type": "stream",
     "text": [
      "[[[[[1 2 3 4]]]]]\n",
      "Dimension of arr4 : 5\n"
     ]
    }
   ],
   "source": [
    "arr4  = np.array([1, 2, 3, 4], ndmin=5)\n",
    "print(arr4)\n",
    "print(f'Dimension of arr4 : {arr4.ndim}')"
   ]
  },
  {
   "cell_type": "markdown",
   "id": "89d0a66b",
   "metadata": {},
   "source": [
    "### 3. Acessing Array\n",
    "- Acessing 1-D Array\n",
    "\n"
   ]
  },
  {
   "cell_type": "code",
   "execution_count": 11,
   "id": "675068ec",
   "metadata": {},
   "outputs": [
    {
     "name": "stdout",
     "output_type": "stream",
     "text": [
      "3\n"
     ]
    }
   ],
   "source": [
    "arr1 = np.array([1, 2, 3, 4])\n",
    "print(arr1[2]) #3rd element\n"
   ]
  },
  {
   "cell_type": "markdown",
   "id": "5fe149a0",
   "metadata": {},
   "source": [
    "- Acessing 2-D Array"
   ]
  },
  {
   "cell_type": "code",
   "execution_count": 12,
   "id": "d731d536",
   "metadata": {},
   "outputs": [
    {
     "name": "stdout",
     "output_type": "stream",
     "text": [
      "10\n"
     ]
    }
   ],
   "source": [
    "arr2 = np.array([[1,2,3,4,5], [6,7,8,9,10]])\n",
    "print(arr2[1,-1])   # Last element of 2nd array"
   ]
  },
  {
   "cell_type": "markdown",
   "id": "f556329f",
   "metadata": {},
   "source": [
    "\n",
    "- Acessing 3-D Array"
   ]
  },
  {
   "cell_type": "code",
   "execution_count": 13,
   "id": "d83f44d7",
   "metadata": {},
   "outputs": [
    {
     "name": "stdout",
     "output_type": "stream",
     "text": [
      "8\n"
     ]
    }
   ],
   "source": [
    "arr3 = np.array([[[1, 2, 3], [4, 5, 6]], [[7, 8, 9], [10, 11, 12]]])\n",
    "# 3rd element of 2nd array of 1st\n",
    "print(arr3[1,0,1])  "
   ]
  },
  {
   "cell_type": "markdown",
   "id": "d46dd053",
   "metadata": {},
   "source": [
    "Slicing works same int the Arrays as they did in List."
   ]
  },
  {
   "cell_type": "markdown",
   "id": "2fba4031",
   "metadata": {},
   "source": [
    "### 4. Checking Data Type of an array (arr.dtype)\n",
    "\n",
    "- List of all data types in numpy\n",
    "    - i - integer\n",
    "    - b - boolean\n",
    "    - u - unsigned integer\n",
    "    - f - float\n",
    "    - c - complex float\n",
    "    - m - timedelta\n",
    "    - M - datetime\n",
    "    - O - object\n",
    "    - S - string\n",
    "    - U - unicode string\n",
    "    - V - fixed chunk of memory for other type (void )"
   ]
  },
  {
   "cell_type": "code",
   "execution_count": 14,
   "id": "8c29f937",
   "metadata": {},
   "outputs": [
    {
     "name": "stdout",
     "output_type": "stream",
     "text": [
      "int64\n"
     ]
    }
   ],
   "source": [
    "sarr = np.array([1, 2, 3, 4])\n",
    "\n",
    "print(sarr.dtype)"
   ]
  },
  {
   "cell_type": "code",
   "execution_count": 15,
   "id": "a77a6de4",
   "metadata": {},
   "outputs": [
    {
     "name": "stdout",
     "output_type": "stream",
     "text": [
      "<U6\n"
     ]
    }
   ],
   "source": [
    "sarr = np.array(['apple', 'banana', 'cherry'])\n",
    "\n",
    "print(sarr.dtype)"
   ]
  },
  {
   "cell_type": "markdown",
   "id": "48fc7cb6",
   "metadata": {},
   "source": [
    "\n",
    "### 5. Creating Arrays With a Defined Data Type\n",
    "\n",
    "- We use the **array()** function to create arrays, this function can take an optional argument: **dtype** that allows us to define the expected data type of the array elements"
   ]
  },
  {
   "cell_type": "code",
   "execution_count": 16,
   "id": "b5914d96",
   "metadata": {},
   "outputs": [
    {
     "name": "stdout",
     "output_type": "stream",
     "text": [
      "[b'1' b'2' b'3' b'4']\n",
      "|S1\n"
     ]
    }
   ],
   "source": [
    "arr = np.array([1, 2, 3, 4], dtype='S')\n",
    "\n",
    "print(arr)\n",
    "print(arr.dtype)"
   ]
  },
  {
   "cell_type": "code",
   "execution_count": 17,
   "id": "e18e6412",
   "metadata": {},
   "outputs": [
    {
     "name": "stdout",
     "output_type": "stream",
     "text": [
      "[1 2 3 4]\n",
      "int32\n"
     ]
    }
   ],
   "source": [
    "arr = np.array([1, 2, 3, 4], dtype='i4')\n",
    "\n",
    "print(arr)\n",
    "print(arr.dtype)"
   ]
  },
  {
   "cell_type": "markdown",
   "id": "cc8b4265",
   "metadata": {},
   "source": [
    "- Converting Data Type on Existing Arrays"
   ]
  },
  {
   "cell_type": "code",
   "execution_count": 18,
   "id": "5ae2afc1",
   "metadata": {},
   "outputs": [
    {
     "name": "stdout",
     "output_type": "stream",
     "text": [
      "[1 2 3]\n",
      "int64\n"
     ]
    }
   ],
   "source": [
    "arr = np.array([1.1, 2.1, 3.1])\n",
    "\n",
    "newarr = arr.astype(int)\n",
    "\n",
    "print(newarr)\n",
    "print(newarr.dtype)"
   ]
  },
  {
   "cell_type": "code",
   "execution_count": 19,
   "id": "d4b66517",
   "metadata": {},
   "outputs": [
    {
     "name": "stdout",
     "output_type": "stream",
     "text": [
      "[1 2 3]\n",
      "int32\n"
     ]
    }
   ],
   "source": [
    "arr = np.array([1.1, 2.1, 3.1])\n",
    "\n",
    "newarr = arr.astype('i')\n",
    "\n",
    "print(newarr)\n",
    "print(newarr.dtype)"
   ]
  },
  {
   "cell_type": "markdown",
   "id": "a66c841d",
   "metadata": {},
   "source": [
    "### 6. Copy and View\n",
    "\n",
    "The main difference between a copy and a view of an array is that the copy is a new array, and the view is just a view of the original array.\n",
    "\n",
    "- Changes is **Copy** does not affect the original Array.\n",
    "\n",
    "- But changes in **View** will also reflect in the original Array "
   ]
  },
  {
   "cell_type": "code",
   "execution_count": 20,
   "id": "0bc3db7b",
   "metadata": {},
   "outputs": [
    {
     "name": "stdout",
     "output_type": "stream",
     "text": [
      "[42  2  3  4  5]\n",
      "[1 2 3 4 5]\n"
     ]
    }
   ],
   "source": [
    "arr = np.array([1, 2, 3, 4, 5])\n",
    "x = arr.copy()\n",
    "arr[0] = 42 # Won't get chaged in x\n",
    "\n",
    "print(arr)\n",
    "print(x)"
   ]
  },
  {
   "cell_type": "code",
   "execution_count": 21,
   "id": "e354ee04",
   "metadata": {},
   "outputs": [
    {
     "name": "stdout",
     "output_type": "stream",
     "text": [
      "[42  2  3  4  5]\n",
      "[42  2  3  4  5]\n"
     ]
    }
   ],
   "source": [
    "arr = np.array([1, 2, 3, 4, 5])\n",
    "x = arr.view()\n",
    "arr[0] = 42 # Will get chaged in x\n",
    "\n",
    "print(arr)\n",
    "print(x)"
   ]
  },
  {
   "cell_type": "markdown",
   "id": "50fef8ef",
   "metadata": {},
   "source": [
    "#### 6.1 Check whether the Array Owns it's data\n",
    "- Every NumPy array has the attribute base that returns None if the array owns the data.\n",
    "\n",
    "- Otherwise, the base  attribute refers to the original object."
   ]
  },
  {
   "cell_type": "code",
   "execution_count": 22,
   "id": "8fbb5ec1",
   "metadata": {},
   "outputs": [
    {
     "name": "stdout",
     "output_type": "stream",
     "text": [
      "None\n",
      "[1 2 3 4 5]\n"
     ]
    }
   ],
   "source": [
    "arr = np.array([1, 2, 3, 4, 5])\n",
    "\n",
    "x = arr.copy()\n",
    "y = arr.view()\n",
    "\n",
    "print(x.base)\n",
    "print(y.base)"
   ]
  },
  {
   "cell_type": "markdown",
   "id": "11d63ad0",
   "metadata": {},
   "source": [
    "### 7. NumPy Array Shape\n",
    "The shape of an array is the number of elements in each dimension.\n"
   ]
  },
  {
   "cell_type": "code",
   "execution_count": 23,
   "id": "6074d4fb",
   "metadata": {},
   "outputs": [
    {
     "name": "stdout",
     "output_type": "stream",
     "text": [
      "(2, 4)\n"
     ]
    }
   ],
   "source": [
    "arr = np.array([[1, 2, 3, 4], [5, 6, 7, 8]])\n",
    "print(arr.shape)"
   ]
  },
  {
   "cell_type": "code",
   "execution_count": 24,
   "id": "12f1eccd",
   "metadata": {},
   "outputs": [
    {
     "name": "stdout",
     "output_type": "stream",
     "text": [
      "[[[[[1 2 3 4]]]]]\n",
      "shape of array : (1, 1, 1, 1, 4)\n"
     ]
    }
   ],
   "source": [
    "arr = np.array([1, 2, 3, 4], ndmin=5)\n",
    "print(arr)\n",
    "print('shape of array :', arr.shape)"
   ]
  },
  {
   "cell_type": "markdown",
   "id": "38bd318f",
   "metadata": {},
   "source": [
    "### 8. NumPy Array Reshaping\n",
    "\n",
    "- Reshaping means changing the shape of an array.\n",
    "\n",
    "- By reshaping we can add or remove dimensions or change number of elements in each dimension."
   ]
  },
  {
   "cell_type": "code",
   "execution_count": 25,
   "id": "7cf99391",
   "metadata": {},
   "outputs": [
    {
     "name": "stdout",
     "output_type": "stream",
     "text": [
      "[[ 1  2  3]\n",
      " [ 4  5  6]\n",
      " [ 7  8  9]\n",
      " [10 11 12]]\n"
     ]
    }
   ],
   "source": [
    "arr = np.array([1, 2, 3, 4, 5, 6, 7, 8, 9, 10, 11, 12])\n",
    "\n",
    "newarr = arr.reshape(4, 3) # from 1-D to 2-D\n",
    "print(newarr)"
   ]
  },
  {
   "cell_type": "code",
   "execution_count": 26,
   "id": "59754469",
   "metadata": {},
   "outputs": [
    {
     "name": "stdout",
     "output_type": "stream",
     "text": [
      "[ 1  2  3  4  5  6  7  8  9 10 11 12]\n"
     ]
    }
   ],
   "source": [
    "arr = np.array([1, 2, 3, 4, 5, 6, 7, 8, 9, 10, 11, 12])\n",
    "\n",
    "newarr = arr.reshape(2, 2, 3) # from 1-D to 3-D\n",
    "print(newarr.base)"
   ]
  },
  {
   "cell_type": "code",
   "execution_count": 27,
   "id": "39d51ec8",
   "metadata": {},
   "outputs": [
    {
     "name": "stdout",
     "output_type": "stream",
     "text": [
      "[ 1  2  3  4  5  6  7  8  9 10 11 12]\n"
     ]
    }
   ],
   "source": [
    "arr = np.array([[1, 2, 3, 4, 5, 6,], [7, 8, 9, 10, 11, 12]])\n",
    "\n",
    "newarr = arr.reshape(-1) # from 1-D to 3-D\n",
    "print(newarr)"
   ]
  },
  {
   "cell_type": "markdown",
   "id": "a527f028",
   "metadata": {},
   "source": [
    "### 9. NumPy Array Iterating\n",
    "- Iterating means going through elements one by one.\n",
    "\n",
    "- As we deal with multi-dimensional arrays in numpy, we can do this using basic for loop of python.\n",
    "\n",
    "#### 9.1 Iterating 1-D Arrays"
   ]
  },
  {
   "cell_type": "code",
   "execution_count": 28,
   "id": "8d193975",
   "metadata": {},
   "outputs": [
    {
     "name": "stdout",
     "output_type": "stream",
     "text": [
      "1\n",
      "2\n",
      "3\n"
     ]
    }
   ],
   "source": [
    "arr = np.array([1, 2, 3])\n",
    "\n",
    "for x in arr:\n",
    "  print(x)"
   ]
  },
  {
   "cell_type": "markdown",
   "id": "2f44f420",
   "metadata": {},
   "source": [
    "#### 9.2 Iterating 2-D Arrays"
   ]
  },
  {
   "cell_type": "code",
   "execution_count": 29,
   "id": "488d67c4",
   "metadata": {},
   "outputs": [
    {
     "name": "stdout",
     "output_type": "stream",
     "text": [
      "1\n",
      "2\n",
      "3\n",
      "4\n",
      "5\n",
      "6\n"
     ]
    }
   ],
   "source": [
    "arr = np.array([[1, 2, 3], [4, 5, 6]])\n",
    "\n",
    "for i in arr:\n",
    "  for j in i:\n",
    "    print(j)"
   ]
  },
  {
   "cell_type": "markdown",
   "id": "c151d00e",
   "metadata": {},
   "source": [
    "#### 9.3 Iterating 3-D Arrays"
   ]
  },
  {
   "cell_type": "code",
   "execution_count": 30,
   "id": "da564988",
   "metadata": {},
   "outputs": [
    {
     "name": "stdout",
     "output_type": "stream",
     "text": [
      "1\n",
      "2\n",
      "3\n",
      "4\n",
      "5\n",
      "6\n",
      "7\n",
      "8\n",
      "9\n",
      "10\n",
      "11\n",
      "12\n"
     ]
    }
   ],
   "source": [
    "arr = np.array([[[1, 2, 3], [4, 5, 6]], [[7, 8, 9], [10, 11, 12]]])\n",
    "\n",
    "for i in arr:\n",
    "  for j in i :\n",
    "    for k in j :\n",
    "        print(k)"
   ]
  },
  {
   "cell_type": "markdown",
   "id": "9f8cc369",
   "metadata": {},
   "source": [
    "#### 9.4 Iterating Arrays Using **nditer()**"
   ]
  },
  {
   "cell_type": "code",
   "execution_count": 31,
   "id": "4d1909c3",
   "metadata": {},
   "outputs": [
    {
     "name": "stdout",
     "output_type": "stream",
     "text": [
      "1\n",
      "2\n",
      "3\n",
      "4\n",
      "5\n",
      "6\n",
      "7\n",
      "8\n"
     ]
    }
   ],
   "source": [
    "arr = np.array([[[1, 2], [3, 4]], [[5, 6], [7, 8]]])\n",
    "\n",
    "for i in np.nditer(arr):\n",
    "  print(i)"
   ]
  },
  {
   "cell_type": "markdown",
   "id": "75eca51a",
   "metadata": {},
   "source": [
    "#### 9.5 Iterating Array With Different Data Types"
   ]
  },
  {
   "cell_type": "code",
   "execution_count": 32,
   "id": "e7e63aa1",
   "metadata": {},
   "outputs": [
    {
     "name": "stdout",
     "output_type": "stream",
     "text": [
      "np.bytes_(b'1')\n",
      "np.bytes_(b'2')\n",
      "np.bytes_(b'3')\n"
     ]
    }
   ],
   "source": [
    "arr = np.array([1, 2, 3])\n",
    "\n",
    "for x in np.nditer(arr, flags=['buffered'], op_dtypes=['S']):\n",
    "  print(x)"
   ]
  },
  {
   "cell_type": "markdown",
   "id": "e8e089a6",
   "metadata": {},
   "source": [
    "### 10. NumPy Joining Array\n",
    "\n",
    "- Joining means putting contents of two or more arrays in a single array.\n",
    "\n",
    "- In SQL we join tables based on a key, whereas in NumPy we join arrays by axes.\n",
    "\n",
    "- We pass a sequence of arrays that we want to join to the **concatenate()** function, along with the axis. If axis is not explicitly passed, it is taken as 0.\n"
   ]
  },
  {
   "cell_type": "code",
   "execution_count": 33,
   "id": "4c5dd18d",
   "metadata": {},
   "outputs": [
    {
     "name": "stdout",
     "output_type": "stream",
     "text": [
      "[1 2 3 4 5 6 7]\n"
     ]
    }
   ],
   "source": [
    "arr1 = np.array([ 1, 2, 3, 4])\n",
    "arr2 = np.array([ 5, 6, 7])\n",
    "\n",
    "arr3 = np.concatenate((arr1, arr2))\n",
    "print(arr3)"
   ]
  },
  {
   "cell_type": "markdown",
   "id": "efffccc1",
   "metadata": {},
   "source": [
    "- Join two 2-D arrays along rows (axis=1):"
   ]
  },
  {
   "cell_type": "code",
   "execution_count": 34,
   "id": "c8c885f0",
   "metadata": {},
   "outputs": [
    {
     "name": "stdout",
     "output_type": "stream",
     "text": [
      "[[1 2 7 8]\n",
      " [4 5 9 0]]\n"
     ]
    }
   ],
   "source": [
    "arr1 = np.array([[ 1, 2], [4, 5]])\n",
    "arr2 = np.array([[ 7, 8], [ 9, 0]])\n",
    "\n",
    "arr3 = np.concatenate((arr1, arr2), axis = 1)\n",
    "print(arr3)"
   ]
  },
  {
   "cell_type": "markdown",
   "id": "83e9dfb7",
   "metadata": {},
   "source": [
    "#### 10.1 Joining Arrays Using Stack Functions\n",
    "\n",
    "- Stacking is same as concatenation, the only difference is that stacking is done along a new axis.\n",
    "\n",
    "- We can concatenate two 1-D arrays along the second axis which would result in putting them one over the other, ie. stacking.\n",
    "\n",
    "- We pass a sequence of arrays that we want to join to the **stack()** method along with the axis. If axis is not explicitly passed it is taken as 0."
   ]
  },
  {
   "cell_type": "code",
   "execution_count": 35,
   "id": "98f99ef9",
   "metadata": {},
   "outputs": [
    {
     "name": "stdout",
     "output_type": "stream",
     "text": [
      "[[1 2 7 8]\n",
      " [4 5 9 0]]\n",
      "[[1 5]\n",
      " [2 6]\n",
      " [3 7]]\n"
     ]
    }
   ],
   "source": [
    "arr1 = np.array([ 1, 2, 3, ])\n",
    "arr2 = np.array([ 5, 6, 7])\n",
    "\n",
    "# arr3 = np.concatenate((arr1, arr2), axis=1)   # Returns an Error, becasuse axis = 1\n",
    "arr4 = np.stack((arr1, arr2), axis=1)\n",
    "print(arr3)\n",
    "print(arr4)"
   ]
  },
  {
   "cell_type": "markdown",
   "id": "411a2641",
   "metadata": {},
   "source": [
    "#### 10.1.1 Stacking Along Rows\n",
    "- NumPy provides a helper function: **hstack()** to stack along rows."
   ]
  },
  {
   "cell_type": "code",
   "execution_count": 36,
   "id": "efd055a1",
   "metadata": {},
   "outputs": [
    {
     "name": "stdout",
     "output_type": "stream",
     "text": [
      "[1 2 3 4 5 6 7]\n"
     ]
    }
   ],
   "source": [
    "arr1 = np.array([ 1, 2, 3, 4])\n",
    "arr2 = np.array([ 5, 6 ,7])\n",
    "\n",
    "arr3 = np.hstack((arr1, arr2))\n",
    "print(arr3)"
   ]
  },
  {
   "cell_type": "markdown",
   "id": "9ed477c5",
   "metadata": {},
   "source": [
    "#### 10.1.2 Stacking Along Columns\n",
    "- NumPy provides a helper function: **vstack()**  to stack along columns."
   ]
  },
  {
   "cell_type": "code",
   "execution_count": 37,
   "id": "7912287b",
   "metadata": {},
   "outputs": [
    {
     "name": "stdout",
     "output_type": "stream",
     "text": [
      "[[1 2 3]\n",
      " [5 6 7]]\n"
     ]
    }
   ],
   "source": [
    "arr1 = np.array([ 1, 2, 3,])\n",
    "arr2 = np.array([ 5, 6, 7])\n",
    "\n",
    "arr3 = np.vstack((arr1, arr2))\n",
    "print(arr3)"
   ]
  },
  {
   "cell_type": "markdown",
   "id": "402a5321",
   "metadata": {},
   "source": [
    "#### 10.1.3 Stacking Along Height (depth)\n",
    "- NumPy provides a helper function: **dstack()** to stack along height, which is the same as depth."
   ]
  },
  {
   "cell_type": "code",
   "execution_count": 38,
   "id": "69d53447",
   "metadata": {},
   "outputs": [
    {
     "name": "stdout",
     "output_type": "stream",
     "text": [
      "3\n"
     ]
    }
   ],
   "source": [
    "arr1 = np.array([ 1, 2, 3])\n",
    "arr2 = np.array([ 4, 5, 6])\n",
    "\n",
    "arr3 = np.dstack((arr1, arr2))\n",
    "print(arr3.ndim)"
   ]
  },
  {
   "cell_type": "markdown",
   "id": "eaf1e638",
   "metadata": {},
   "source": [
    "### 11. NumPy Splitting Array\n",
    "\n",
    "- Splitting is reverse operation of Joining.\n",
    "\n",
    "- Joining merges multiple arrays into one and Splitting breaks one array into multiple.\n",
    "\n",
    "- We use array_split() for splitting arrays, we pass it the array we want to split and the number of splits."
   ]
  },
  {
   "cell_type": "code",
   "execution_count": 39,
   "id": "34a82ba0",
   "metadata": {},
   "outputs": [
    {
     "name": "stdout",
     "output_type": "stream",
     "text": [
      "[array([1, 2, 3]), array([4, 5]), array([6, 7])]\n",
      "[1 2 3]\n",
      "[4 5]\n",
      "[6 7]\n"
     ]
    }
   ],
   "source": [
    "arr = np.array([ 1, 2, 3, 4, 5, 6, 7])\n",
    "spa = np.array_split(arr, 3)\n",
    "print(spa)\n",
    "print(spa[0])\n",
    "print(spa[1])\n",
    "print(spa[2])"
   ]
  },
  {
   "cell_type": "markdown",
   "id": "1e5d19b8",
   "metadata": {},
   "source": [
    "#### 11.1 Splitting 2-D Arrays\n",
    "\n",
    "- Use the same syntax when splitting 2-D arrays.\n",
    "\n",
    "- Use the array_split() method, pass in the array we want to split and the number of splits we want to do."
   ]
  },
  {
   "cell_type": "code",
   "execution_count": 40,
   "id": "eb522c63",
   "metadata": {},
   "outputs": [
    {
     "name": "stdout",
     "output_type": "stream",
     "text": [
      "[array([[1, 2, 3],\n",
      "       [4, 5, 6]]), array([[7, 8, 9]])]\n"
     ]
    }
   ],
   "source": [
    "arr = np.array([[ 1, 2, 3], [ 4, 5, 6], [7, 8, 9]])\n",
    "spa = np.array_split(arr, 2)\n",
    "print(spa)"
   ]
  },
  {
   "cell_type": "code",
   "execution_count": 41,
   "id": "6d96fd37",
   "metadata": {},
   "outputs": [
    {
     "name": "stdout",
     "output_type": "stream",
     "text": [
      "[array([[1],\n",
      "       [4],\n",
      "       [7],\n",
      "       [0]]), array([[2],\n",
      "       [5],\n",
      "       [8],\n",
      "       [0]]), array([[3],\n",
      "       [6],\n",
      "       [9],\n",
      "       [0]]), array([], shape=(4, 0), dtype=int64)]\n",
      "[[1]\n",
      " [4]\n",
      " [7]\n",
      " [0]]\n",
      "[[2]\n",
      " [5]\n",
      " [8]\n",
      " [0]]\n"
     ]
    }
   ],
   "source": [
    "arr = np.array([[ 1, 2, 3], [ 4, 5, 6], [ 7, 8, 9], [ 0, 0, 0]])\n",
    "spa = np.array_split(arr, 4, axis=1)\n",
    "print(spa)\n",
    "print(spa[0])\n",
    "print(spa[1])"
   ]
  },
  {
   "cell_type": "markdown",
   "id": "233c1632",
   "metadata": {},
   "source": [
    "### 12. NumPy Searching Arrays\n",
    "\n",
    "- We can search an array for a certain value, and return the indexes that get a match.\n",
    "\n",
    "- To search an array, use the **where()** method."
   ]
  },
  {
   "cell_type": "code",
   "execution_count": 42,
   "id": "dc05d74d",
   "metadata": {},
   "outputs": [
    {
     "name": "stdout",
     "output_type": "stream",
     "text": [
      "(array([1, 4, 5, 7]),)\n"
     ]
    }
   ],
   "source": [
    "arr = np.array([ 1, 7, 9, 3, 7, 7, 6, 7])\n",
    "\n",
    "x = np.where(arr == 7)\n",
    "print(x)"
   ]
  },
  {
   "cell_type": "code",
   "execution_count": 43,
   "id": "c005795f",
   "metadata": {},
   "outputs": [
    {
     "name": "stdout",
     "output_type": "stream",
     "text": [
      "(array([ 0,  2,  4,  6,  8, 10]),)\n"
     ]
    }
   ],
   "source": [
    "arr = np.array(range(11))\n",
    "\n",
    "# print(arr1)\n",
    "x = np.where(arr%2 == 0)\n",
    "print(x)"
   ]
  },
  {
   "cell_type": "markdown",
   "id": "fcb13baa",
   "metadata": {},
   "source": [
    "#### 12.1 Search Sorted\n",
    "\n",
    "- There is a method called **searchsorted()** which performs a binary search in the array, and returns the index where the specified value would be inserted to maintain the search order.\n",
    "\n",
    "- **Must be used in an Sorted Array**"
   ]
  },
  {
   "cell_type": "code",
   "execution_count": 44,
   "id": "b032f2b8",
   "metadata": {},
   "outputs": [
    {
     "name": "stdout",
     "output_type": "stream",
     "text": [
      "3\n"
     ]
    }
   ],
   "source": [
    "arr = np.array([ 0, 1, 2, 3, 3, 3, 4, 5, 5, 6 ])\n",
    "\n",
    "x = np.searchsorted(arr, 3) # 3 should be inserted at index 3 \n",
    "# this returns the left most index for the value to be insterted at\n",
    "print(x)"
   ]
  },
  {
   "cell_type": "markdown",
   "id": "d4ca4b24",
   "metadata": {},
   "source": [
    "#### 12.2 Search from the Right Side\n",
    "\n",
    "- By default the left most index is returned, but we can give side='right' to return the right most index instead."
   ]
  },
  {
   "cell_type": "code",
   "execution_count": 45,
   "id": "428094ec",
   "metadata": {},
   "outputs": [
    {
     "name": "stdout",
     "output_type": "stream",
     "text": [
      "6\n"
     ]
    }
   ],
   "source": [
    "arr = np.array([0, 1, 2, 3, 3, 3, 4, 5, 5, 6 ])\n",
    "\n",
    "x = np.searchsorted(arr, 3, side = 'right')# 3 should be inserted at index 6 \n",
    "# this returns the right most index for the value to be inserted at\n",
    "print(x)"
   ]
  },
  {
   "cell_type": "markdown",
   "id": "f3471b32",
   "metadata": {},
   "source": [
    "#### 12.3 Multiple Values\n",
    "- To search for more than one value, use an array with the specified values."
   ]
  },
  {
   "cell_type": "code",
   "execution_count": 46,
   "id": "c07a2e2c",
   "metadata": {},
   "outputs": [
    {
     "name": "stdout",
     "output_type": "stream",
     "text": [
      "[1 2 4]\n"
     ]
    }
   ],
   "source": [
    "arr = np.array([ 1, 3, 5, 6])\n",
    "\n",
    "x = np.searchsorted(arr, [ 2, 4, 7])\n",
    "print(x)"
   ]
  },
  {
   "cell_type": "markdown",
   "id": "13516f69",
   "metadata": {},
   "source": [
    "### 13. Sorting Array\n",
    "- Sorting means putting elements in an ordered sequence.\n",
    "\n",
    "- Ordered sequence is any sequence that has an order corresponding to elements, like numeric or alphabetical, ascending or descending.\n",
    "\n",
    "- The NumPy ndarray object has a function called **sort()**, that will sort a specified array."
   ]
  },
  {
   "cell_type": "code",
   "execution_count": 47,
   "id": "dc5173e4",
   "metadata": {},
   "outputs": [
    {
     "name": "stdout",
     "output_type": "stream",
     "text": [
      "[  1   7  12  17  48  90  93 100]\n"
     ]
    }
   ],
   "source": [
    "arr = np.array([7, 12, 48, 93, 1, 17, 90, 100])\n",
    "\n",
    "print(np.sort(arr))\n",
    "#This method returns a copy of the array, leaving the original array unchanged."
   ]
  },
  {
   "cell_type": "markdown",
   "id": "15a705f8",
   "metadata": {},
   "source": [
    "- We can also sort arrays of strings, or any other data type"
   ]
  },
  {
   "cell_type": "code",
   "execution_count": 48,
   "id": "fa22c620",
   "metadata": {},
   "outputs": [
    {
     "name": "stdout",
     "output_type": "stream",
     "text": [
      "['apple' 'banana' 'cherry']\n"
     ]
    }
   ],
   "source": [
    "arr = np.array(['banana', 'cherry', 'apple'])\n",
    "\n",
    "print(np.sort(arr))"
   ]
  },
  {
   "cell_type": "code",
   "execution_count": 49,
   "id": "6c2c5fb2",
   "metadata": {},
   "outputs": [
    {
     "name": "stdout",
     "output_type": "stream",
     "text": [
      "[False False  True]\n"
     ]
    }
   ],
   "source": [
    "arr = np.array([True, False, False])\n",
    "\n",
    "print(np.sort(arr))"
   ]
  },
  {
   "cell_type": "markdown",
   "id": "7576638c",
   "metadata": {},
   "source": [
    "#### 13.1 Sorting a 2-D Array\n",
    "- If we use the **sort()** method on a 2-D array, both arrays will be sorted."
   ]
  },
  {
   "cell_type": "code",
   "execution_count": 50,
   "id": "e0873d93",
   "metadata": {},
   "outputs": [
    {
     "name": "stdout",
     "output_type": "stream",
     "text": [
      "[[3 7 8]\n",
      " [0 3 5]]\n"
     ]
    }
   ],
   "source": [
    "arr = np.array([[8,7,3], [5,3,0]])\n",
    "\n",
    "print(np.sort(arr))\n",
    "# Every Array gets individually sorted"
   ]
  },
  {
   "cell_type": "markdown",
   "id": "51557b63",
   "metadata": {},
   "source": [
    "### 14. NumPy Filter Array\n",
    "- Getting some elements out of an existing array and creating a new array out of them is called filtering.\n",
    "\n",
    "- In NumPy, we filter an array using a boolean index list.\n",
    "- If the value at an index is True that element is contained in the filtered array.\n",
    "- If the value at that index is False that element is excluded from the filtered array."
   ]
  },
  {
   "cell_type": "code",
   "execution_count": 51,
   "id": "20085203",
   "metadata": {},
   "outputs": [
    {
     "name": "stdout",
     "output_type": "stream",
     "text": [
      "[ 5  8 11]\n"
     ]
    }
   ],
   "source": [
    "arr = np.array(range(5, 20, 3))\n",
    "x = [True, True, True, False, False, ]\n",
    "\n",
    "newarr = arr[x]\n",
    "print(newarr)"
   ]
  },
  {
   "cell_type": "code",
   "execution_count": 52,
   "id": "c3d293d1",
   "metadata": {},
   "outputs": [
    {
     "name": "stdout",
     "output_type": "stream",
     "text": [
      "True\n"
     ]
    }
   ],
   "source": [
    "print(True==1)"
   ]
  },
  {
   "cell_type": "markdown",
   "id": "2a41492b",
   "metadata": {},
   "source": [
    "- The common use is to create a filter array based on conditions."
   ]
  },
  {
   "cell_type": "code",
   "execution_count": 53,
   "id": "60089285",
   "metadata": {},
   "outputs": [
    {
     "name": "stdout",
     "output_type": "stream",
     "text": [
      "[ 8 10 12 14 16]\n"
     ]
    }
   ],
   "source": [
    "arr = np.array(range(7,17))\n",
    "\n",
    "filarr = []\n",
    "\n",
    "for e in arr:\n",
    "    if e%2 == 0 :\n",
    "        filarr.append(True)\n",
    "    else:\n",
    "        filarr.append(False)\n",
    "\n",
    "\n",
    "newarr = arr[filarr]\n",
    "print(newarr)"
   ]
  },
  {
   "cell_type": "markdown",
   "id": "8bdebf4b",
   "metadata": {},
   "source": [
    "- Creating Filter Directly From Array"
   ]
  },
  {
   "cell_type": "code",
   "execution_count": 54,
   "id": "4aef981c",
   "metadata": {},
   "outputs": [
    {
     "name": "stdout",
     "output_type": "stream",
     "text": [
      "[False False False False False False  True  True  True  True  True]\n",
      "[ 6  7  8  9 10]\n"
     ]
    }
   ],
   "source": [
    "arr = np.array(range(11))\n",
    "\n",
    "filarr = arr > 5\n",
    "newarr = arr[filarr]\n",
    "\n",
    "print(filarr)\n",
    "print(newarr)"
   ]
  },
  {
   "cell_type": "code",
   "execution_count": null,
   "id": "9ba56573",
   "metadata": {},
   "outputs": [],
   "source": []
  }
 ],
 "metadata": {
  "kernelspec": {
   "display_name": "myenv",
   "language": "python",
   "name": "python3"
  },
  "language_info": {
   "codemirror_mode": {
    "name": "ipython",
    "version": 3
   },
   "file_extension": ".py",
   "mimetype": "text/x-python",
   "name": "python",
   "nbconvert_exporter": "python",
   "pygments_lexer": "ipython3",
   "version": "3.13.4"
  }
 },
 "nbformat": 4,
 "nbformat_minor": 5
}
