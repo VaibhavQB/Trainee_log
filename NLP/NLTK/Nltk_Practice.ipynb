{
 "cells": [
  {
   "cell_type": "markdown",
   "id": "fdcff611",
   "metadata": {},
   "source": [
    "## NLTK Practice Cleaning\n",
    "1. Installing and Importing NLTK\n",
    "2. Tokenization\n",
    "3. Stemming\n",
    "4. Lemmatization\n",
    "5. Stopwords\n",
    "6. Parts of Speech Tagging\n",
    "7. Named Entity Recognition\n",
    "\n",
    "\n",
    "\n",
    "---\n",
    "### 1. Installing and Importing NLTK"
   ]
  },
  {
   "cell_type": "code",
   "execution_count": 47,
   "id": "09925da7",
   "metadata": {},
   "outputs": [],
   "source": [
    "# !pip install nltk"
   ]
  },
  {
   "cell_type": "code",
   "execution_count": 48,
   "id": "ac009017",
   "metadata": {},
   "outputs": [],
   "source": [
    "import nltk "
   ]
  },
  {
   "cell_type": "code",
   "execution_count": 49,
   "id": "bcb75e9d",
   "metadata": {},
   "outputs": [
    {
     "data": {
      "text/plain": [
       "\"import nltk\\n\\nnd = ['punkt', 'punkt_tab', 'wordnet', 'stopwords', 'averaged_perceptron_tagger', 'averaged_perceptron_tagger_eng', 'maxent_ne_chunker', 'maxent_ne_chunker_tab', 'words']\\nfor i in nd :\\n    nltk.download(i)\""
      ]
     },
     "execution_count": 49,
     "metadata": {},
     "output_type": "execute_result"
    }
   ],
   "source": [
    "# IMPORTANT DOWNLOADS\n",
    "\n",
    "\"\"\"import nltk\n",
    "\n",
    "nd = ['punkt', 'punkt_tab', 'wordnet', 'stopwords', 'averaged_perceptron_tagger', 'averaged_perceptron_tagger_eng', 'maxent_ne_chunker', 'maxent_ne_chunker_tab', 'words']\n",
    "for i in nd :\n",
    "    nltk.download(i)\"\"\""
   ]
  },
  {
   "cell_type": "markdown",
   "id": "74311dc8",
   "metadata": {},
   "source": [
    "### 2. Tokenization\n",
    "- **Tokenization** is the process of breaking down a text (like a sentence or paragraph) into smaller pieces called tokens. \n",
    "- It’s the first step in most NLP tasks (like translation, sentiment analysis, text classification).\n",
    "\n",
    "#### 2.1 Turning CORPUS into DOCUMENTS\n",
    "\n",
    "- If you have a corpus as a big chunk of text, you might want to split it into smaller pieces (the documents) so you can process or analyze them individually.\n",
    "    - CORPUS ---> Paragraph \n",
    "    - DOCUMENTS ---> Sentences\n",
    "    - Vocabulary ---> Unique words\n",
    "    - Words ---> word"
   ]
  },
  {
   "cell_type": "code",
   "execution_count": 50,
   "id": "3ef4f850",
   "metadata": {},
   "outputs": [],
   "source": [
    "corpus = \"\"\"Hello welcome to my NLTK Prctice i.e., my rough work on nltk.\n",
    "Let's explore what nltk can do.\n",
    "I'm really excited! ready set go.\n",
    "\"\"\""
   ]
  },
  {
   "cell_type": "code",
   "execution_count": 51,
   "id": "8f7a7de1",
   "metadata": {},
   "outputs": [
    {
     "name": "stdout",
     "output_type": "stream",
     "text": [
      "Hello welcome to my NLTK Prctice i.e., my rough work on nltk.\n",
      "Let's explore what nltk can do.\n",
      "I'm really excited! ready set go.\n",
      "\n"
     ]
    }
   ],
   "source": [
    "print(corpus)"
   ]
  },
  {
   "cell_type": "code",
   "execution_count": 52,
   "id": "b4afe162",
   "metadata": {},
   "outputs": [],
   "source": [
    "from nltk.tokenize import sent_tokenize\n",
    "# nltk.download('punkt_tab')"
   ]
  },
  {
   "cell_type": "code",
   "execution_count": 53,
   "id": "dc0c3468",
   "metadata": {},
   "outputs": [
    {
     "data": {
      "text/plain": [
       "['Hello welcome to my NLTK Prctice i.e., my rough work on nltk.',\n",
       " \"Let's explore what nltk can do.\",\n",
       " \"I'm really excited!\",\n",
       " 'ready set go.']"
      ]
     },
     "execution_count": 53,
     "metadata": {},
     "output_type": "execute_result"
    }
   ],
   "source": [
    "documents = sent_tokenize(corpus)\n",
    "documents"
   ]
  },
  {
   "cell_type": "code",
   "execution_count": 54,
   "id": "e5459c8b",
   "metadata": {},
   "outputs": [
    {
     "name": "stdout",
     "output_type": "stream",
     "text": [
      "Hello welcome to my NLTK Prctice i.e., my rough work on nltk.\n",
      "Let's explore what nltk can do.\n",
      "I'm really excited!\n",
      "ready set go.\n"
     ]
    }
   ],
   "source": [
    "for sent in documents:\n",
    "    print(sent)"
   ]
  },
  {
   "cell_type": "markdown",
   "id": "5602b283",
   "metadata": {},
   "source": [
    "#### 2.2 Turning DOCUMENTS into WORDS\n",
    "- Each document is a chunk of text, and **word tokenization** splits that text into individual words (tokens)."
   ]
  },
  {
   "cell_type": "code",
   "execution_count": 55,
   "id": "503426a4",
   "metadata": {},
   "outputs": [],
   "source": [
    "from nltk.tokenize import word_tokenize"
   ]
  },
  {
   "cell_type": "code",
   "execution_count": 56,
   "id": "cca467ff",
   "metadata": {},
   "outputs": [
    {
     "data": {
      "text/plain": [
       "['Hello',\n",
       " 'welcome',\n",
       " 'to',\n",
       " 'my',\n",
       " 'NLTK',\n",
       " 'Prctice',\n",
       " 'i.e.',\n",
       " ',',\n",
       " 'my',\n",
       " 'rough',\n",
       " 'work',\n",
       " 'on',\n",
       " 'nltk',\n",
       " '.',\n",
       " 'Let',\n",
       " \"'s\",\n",
       " 'explore',\n",
       " 'what',\n",
       " 'nltk',\n",
       " 'can',\n",
       " 'do',\n",
       " '.',\n",
       " 'I',\n",
       " \"'m\",\n",
       " 'really',\n",
       " 'excited',\n",
       " '!',\n",
       " 'ready',\n",
       " 'set',\n",
       " 'go',\n",
       " '.']"
      ]
     },
     "execution_count": 56,
     "metadata": {},
     "output_type": "execute_result"
    }
   ],
   "source": [
    "word_tokenize(corpus)"
   ]
  },
  {
   "cell_type": "code",
   "execution_count": 57,
   "id": "ccea6e20",
   "metadata": {},
   "outputs": [
    {
     "name": "stdout",
     "output_type": "stream",
     "text": [
      "['Hello', 'welcome', 'to', 'my', 'NLTK', 'Prctice', 'i.e.', ',', 'my', 'rough', 'work', 'on', 'nltk', '.']\n",
      "['Let', \"'s\", 'explore', 'what', 'nltk', 'can', 'do', '.']\n",
      "['I', \"'m\", 'really', 'excited', '!']\n",
      "['ready', 'set', 'go', '.']\n"
     ]
    }
   ],
   "source": [
    "for sent in documents:\n",
    "    print(word_tokenize(sent))"
   ]
  },
  {
   "cell_type": "code",
   "execution_count": 58,
   "id": "44dc3221",
   "metadata": {},
   "outputs": [
    {
     "data": {
      "text/plain": [
       "['Hello',\n",
       " 'welcome',\n",
       " 'to',\n",
       " 'my',\n",
       " 'NLTK',\n",
       " 'Prctice',\n",
       " 'i',\n",
       " '.',\n",
       " 'e',\n",
       " '.,',\n",
       " 'my',\n",
       " 'rough',\n",
       " 'work',\n",
       " 'on',\n",
       " 'nltk',\n",
       " '.',\n",
       " 'Let',\n",
       " \"'\",\n",
       " 's',\n",
       " 'explore',\n",
       " 'what',\n",
       " 'nltk',\n",
       " 'can',\n",
       " 'do',\n",
       " '.',\n",
       " 'I',\n",
       " \"'\",\n",
       " 'm',\n",
       " 'really',\n",
       " 'excited',\n",
       " '!',\n",
       " 'ready',\n",
       " 'set',\n",
       " 'go',\n",
       " '.']"
      ]
     },
     "execution_count": 58,
     "metadata": {},
     "output_type": "execute_result"
    }
   ],
   "source": [
    "from nltk.tokenize import wordpunct_tokenize\n",
    "\n",
    "wordpunct_tokenize(corpus) # will consider puncuations as words"
   ]
  },
  {
   "cell_type": "code",
   "execution_count": 59,
   "id": "8acc1485",
   "metadata": {},
   "outputs": [
    {
     "data": {
      "text/plain": [
       "['Hello',\n",
       " 'welcome',\n",
       " 'to',\n",
       " 'my',\n",
       " 'NLTK',\n",
       " 'Prctice',\n",
       " 'i.e.',\n",
       " ',',\n",
       " 'my',\n",
       " 'rough',\n",
       " 'work',\n",
       " 'on',\n",
       " 'nltk.',\n",
       " 'Let',\n",
       " \"'s\",\n",
       " 'explore',\n",
       " 'what',\n",
       " 'nltk',\n",
       " 'can',\n",
       " 'do.',\n",
       " 'I',\n",
       " \"'m\",\n",
       " 'really',\n",
       " 'excited',\n",
       " '!',\n",
       " 'ready',\n",
       " 'set',\n",
       " 'go',\n",
       " '.']"
      ]
     },
     "execution_count": 59,
     "metadata": {},
     "output_type": "execute_result"
    }
   ],
   "source": [
    "from nltk.tokenize import TreebankWordTokenizer\n",
    "\n",
    "tokenizer = TreebankWordTokenizer()\n",
    "\n",
    "tokenizer.tokenize(corpus)   # won't treat fullstop as a word will consider it in the previous word"
   ]
  },
  {
   "cell_type": "markdown",
   "id": "9c8bc6c3",
   "metadata": {},
   "source": [
    "### 3. Stemming\n",
    "- **Stemming** is the process of reducing a word to its root word called **Stem**, that affixes, suffixes or perfixes to the root word known as a **Lemma**\n",
    "- **Stemming** is important in Natural Language Understanding (NLU) and Natural Langugae Processing\n",
    "- **Stemming** Examples\n",
    "    - [eat, eating, eaten] --> eat (root word, stem word)\n",
    "    - [running, run, ran] --> run  (root word, stem word)"
   ]
  },
  {
   "cell_type": "code",
   "execution_count": 60,
   "id": "ec88af7a",
   "metadata": {},
   "outputs": [],
   "source": [
    "words = ['playing', 'played', 'plays', 'flying', 'flies', 'cried', 'crying', 'happier', 'happyly', 'studies', 'studying']"
   ]
  },
  {
   "cell_type": "markdown",
   "id": "8a54999c",
   "metadata": {},
   "source": [
    "#### 3.1 Porter Stemming\n",
    "- The **Porter Stemmer** is a widely used algorithm in natural language processing (NLP) for word stemming—reducing words to their base or root form"
   ]
  },
  {
   "cell_type": "code",
   "execution_count": 61,
   "id": "fb66e043",
   "metadata": {},
   "outputs": [],
   "source": [
    "from nltk.stem import PorterStemmer\n",
    "stemming = PorterStemmer()"
   ]
  },
  {
   "cell_type": "code",
   "execution_count": 62,
   "id": "0f74f60d",
   "metadata": {},
   "outputs": [
    {
     "name": "stdout",
     "output_type": "stream",
     "text": [
      "playing ---> play\n",
      "played ---> play\n",
      "plays ---> play\n",
      "flying ---> fli\n",
      "flies ---> fli\n",
      "cried ---> cri\n",
      "crying ---> cri\n",
      "happier ---> happier\n",
      "happyly ---> happyli\n",
      "studies ---> studi\n",
      "studying ---> studi\n"
     ]
    }
   ],
   "source": [
    "for word in words :\n",
    "    print(f\"{word} ---> {stemming.stem(word)}\")\n",
    "# will give some errors e.g. [flying ---> fli], [crying ---> cri] etc"
   ]
  },
  {
   "cell_type": "code",
   "execution_count": 63,
   "id": "e73d8ef0",
   "metadata": {},
   "outputs": [
    {
     "data": {
      "text/plain": [
       "'congratul'"
      ]
     },
     "execution_count": 63,
     "metadata": {},
     "output_type": "execute_result"
    }
   ],
   "source": [
    "stemming.stem('Congratulations') \n",
    "# returns word 'congratul' which completly changes the meaning"
   ]
  },
  {
   "cell_type": "code",
   "execution_count": 64,
   "id": "d6270218",
   "metadata": {},
   "outputs": [
    {
     "name": "stdout",
     "output_type": "stream",
     "text": [
      "sit\n",
      "ssit\n"
     ]
    }
   ],
   "source": [
    "print(stemming.stem('sitting')) # returns sit\n",
    "print(stemming.stem('ssitting')) # returns ssit\n",
    "\n",
    "# This problem will get fixed with the help of Lemmatzation"
   ]
  },
  {
   "cell_type": "markdown",
   "id": "f9278e99",
   "metadata": {},
   "source": [
    "#### 3.2 RegexpStemmer\n",
    "- The **RegexpStemmer** (Regular Expression Stemmer) is a simple and customizable rule-based stemmer that removes suffixes from words using regular expressions.\n",
    "- Unlike more complex stemmers like the **PorterStemmer**, which use rule sets and conditions, **RegexpStemmer** works by applying your specified regular expression—which makes it very flexible but also very manual."
   ]
  },
  {
   "cell_type": "code",
   "execution_count": 65,
   "id": "720a7cb4",
   "metadata": {},
   "outputs": [],
   "source": [
    "from nltk.stem import RegexpStemmer\n",
    "\n",
    "reg_stemmer = RegexpStemmer('ing$|s$|e$|able$', min=4)"
   ]
  },
  {
   "cell_type": "code",
   "execution_count": 66,
   "id": "21b472e0",
   "metadata": {},
   "outputs": [
    {
     "name": "stdout",
     "output_type": "stream",
     "text": [
      "eat\n",
      "ingeat\n"
     ]
    }
   ],
   "source": [
    "print(reg_stemmer.stem('eating'))\n",
    "print(reg_stemmer.stem('ingeating')) # returns 'ingeat' coz we addded '$' at last if we'll remove '$' then it will return 'eat' for the same input"
   ]
  },
  {
   "cell_type": "code",
   "execution_count": 67,
   "id": "0d11500c",
   "metadata": {},
   "outputs": [
    {
     "name": "stdout",
     "output_type": "stream",
     "text": [
      "playing ---> play\n",
      "played ---> played\n",
      "plays ---> play\n",
      "flying ---> fly\n",
      "flies ---> flie\n",
      "cried ---> cried\n",
      "crying ---> cry\n",
      "happier ---> happier\n",
      "happyly ---> happyly\n",
      "studies ---> studie\n",
      "studying ---> study\n"
     ]
    }
   ],
   "source": [
    "for word in words :\n",
    "    print(f\"{word} ---> {reg_stemmer.stem(word)}\")"
   ]
  },
  {
   "cell_type": "markdown",
   "id": "39da3d05",
   "metadata": {},
   "source": [
    "#### 3.3 Snowball Stemmer\n",
    "-  The **Snowball Stemmer** uses an improved version of the original Porter algorithm (often called Porter2), which is less aggressive and more accurate.\n",
    "-  Unlike the **Porter Stemmer**, which primarily works for English, the **Snowball Stemmer** supports several languages."
   ]
  },
  {
   "cell_type": "code",
   "execution_count": 68,
   "id": "c6f18d36",
   "metadata": {},
   "outputs": [],
   "source": [
    "from nltk.stem import SnowballStemmer\n",
    "\n",
    "snowballstemmer = SnowballStemmer('english')"
   ]
  },
  {
   "cell_type": "code",
   "execution_count": 69,
   "id": "c841b781",
   "metadata": {},
   "outputs": [
    {
     "name": "stdout",
     "output_type": "stream",
     "text": [
      "playing ---> play\n",
      "played ---> play\n",
      "plays ---> play\n",
      "flying ---> fli\n",
      "flies ---> fli\n",
      "cried ---> cri\n",
      "crying ---> cri\n",
      "happier ---> happier\n",
      "happyly ---> happyli\n",
      "studies ---> studi\n",
      "studying ---> studi\n"
     ]
    }
   ],
   "source": [
    "for word in words :\n",
    "    print(f'{word} ---> {snowballstemmer.stem(word)}')"
   ]
  },
  {
   "cell_type": "code",
   "execution_count": 70,
   "id": "3800b14a",
   "metadata": {},
   "outputs": [
    {
     "name": "stdout",
     "output_type": "stream",
     "text": [
      "Porter : fairli sportingli\n",
      "Snowball : fair sport\n"
     ]
    }
   ],
   "source": [
    "print('Porter : ' + stemming.stem('fairly'), stemming.stem('sportingly'))\n",
    "\n",
    "print('Snowball : ' + snowballstemmer.stem('fairly'), snowballstemmer.stem('sportingly'))"
   ]
  },
  {
   "cell_type": "markdown",
   "id": "0bb564fa",
   "metadata": {},
   "source": [
    "### 4. Lemmatization\n",
    "\n",
    "- **Lemmatization** is another text preprocessing technique in Natural Language Processing (NLP) that aims to reduce words to their base or dictionary form (called a lemma).\n",
    "- Unlike **stemming**, which often removes suffixes in a mechanical or rule-based manner, **lemmatization** takes into account the context and the part of speech of a word."
   ]
  },
  {
   "cell_type": "code",
   "execution_count": 71,
   "id": "994a7cb8",
   "metadata": {},
   "outputs": [],
   "source": [
    "from nltk.stem import WordNetLemmatizer\n",
    "\n",
    "lemmatizer = WordNetLemmatizer()"
   ]
  },
  {
   "cell_type": "code",
   "execution_count": 72,
   "id": "4e203d9e",
   "metadata": {},
   "outputs": [],
   "source": [
    "# nltk.download('wordnet')"
   ]
  },
  {
   "cell_type": "markdown",
   "id": "c9d41085",
   "metadata": {},
   "source": [
    "#### 4.1 The Part Of Speech tag. Valid options are :\n",
    "- \"n\" : nouns **(By Deafult)**\n",
    "- \"v\" : verbs\n",
    "- \"a\" : adjectives \n",
    "- \"r\" : adverbs \n",
    "- \"s\" : satellite adjectives"
   ]
  },
  {
   "cell_type": "code",
   "execution_count": 73,
   "id": "47bba0ab",
   "metadata": {},
   "outputs": [
    {
     "data": {
      "text/plain": [
       "'go'"
      ]
     },
     "execution_count": 73,
     "metadata": {},
     "output_type": "execute_result"
    }
   ],
   "source": [
    "lemmatizer.lemmatize('going', pos = 'v')"
   ]
  },
  {
   "cell_type": "code",
   "execution_count": 74,
   "id": "27f52682",
   "metadata": {},
   "outputs": [
    {
     "name": "stdout",
     "output_type": "stream",
     "text": [
      "playing ---> play\n",
      "played ---> play\n",
      "plays ---> play\n",
      "flying ---> fly\n",
      "flies ---> fly\n",
      "cried ---> cry\n",
      "crying ---> cry\n",
      "happier ---> happier\n",
      "happyly ---> happyly\n",
      "studies ---> study\n",
      "studying ---> study\n"
     ]
    }
   ],
   "source": [
    "for word in words:\n",
    "    print(f'{word} ---> {lemmatizer.lemmatize(word, pos = 'v')}')"
   ]
  },
  {
   "cell_type": "markdown",
   "id": "7a048317",
   "metadata": {},
   "source": [
    "### 5. Stopwords\n",
    "- **Stopwords** are common words in a language that are usually filtered out before or after processing text in Natural Language Processing (NLP) tasks, because they are considered to carry little meaningful information."
   ]
  },
  {
   "cell_type": "code",
   "execution_count": 75,
   "id": "e45f0791",
   "metadata": {},
   "outputs": [],
   "source": [
    "paragraph = \"\"\"I have three visions for India. In 3000 years of our history people from all over the world have come and invaded us, captured our lands, conquered our minds. From Alexander onwards the Greeks, the Turks, the Moguls, the Portuguese, the British, the French, the Dutch, all of them came and looted us, took over what was ours. Yet we have not done this to any other nation. We have not conquered anyone. We have not grabbed their land, their culture and their history and tried to enforce our way of life on them. Why? Because we respect the freedom of others. That is why my FIRST VISION is that of FREEDOM. I believe that India got its first vision of this in 1857, when we started the war of Independence. It is this freedom that we must protect and nurture and build on. If we are not free, no one will respect us.\n",
    "\n",
    "We have 10 percent growth rate in most areas. Our poverty levels are falling. Our achievements are being globally recognised today. Yet we lack the self-confidence to see ourselves as a developed nation, self-reliant and self-assured. Isn't this incorrect? MY SECOND VISION for India is DEVELOPMENT. For fifty years we have been a developing nation. It is time we see ourselves as a developed nation. We are among top five nations in the world in terms of GDP.\n",
    "\n",
    "I have a THIRD VISION. India must stand up to the world. Because I believe that unless India stands up to the world, no one will respect us. Only strength respects strength. We must be strong not only as a military power but also as an economic power. Both must go hand-in-hand. My good fortune was to have worked with three great minds. Dr.Vikram Sarabhai, of the Dept. of Space, Professor Satish Dhawan, who succeeded him and Dr. Brahm Prakash, father of nuclear material. I was lucky to have worked with all three of them closely and consider this the great opportunity of my life.\n",
    "\n",
    "I was in Hyderabad giving this lecture, when a 14 year-old girl asked me for my autograph. I asked her what her goal in life is. She replied: I want to live in a developed India. For her, you and I will have to build this developed India. You must proclaim India is not an underdeveloped nation; it is a highly developed nation.\n",
    "\n",
    "You say that our government is inefficient. You say that our laws are too old. You say that the municipality does not pick up the garbage. You say that the phones don't work, the railways are a joke, the airline is the worst in the world, and mails never reach their destination. You say that our country has been fed to the dogs and is the absolute pits. You say, say and say. What do you do about it?\n",
    "\n",
    "Dear Indians, I am echoing J.F.Kennedy's words to his fellow Americans to relate to Indians ……. “ASK WHAT WE CAN DO FOR INDIA AND DO WHAT HAS TO BE DONE TO MAKE INDIA WHAT AMERICA AND OTHER WESTERN COUNTRIES ARE TODAY.”\"\"\""
   ]
  },
  {
   "cell_type": "code",
   "execution_count": 76,
   "id": "1c46b55f",
   "metadata": {},
   "outputs": [],
   "source": [
    "# from nltk.stem import PorterStemmer\n",
    "# from nltk.stem import SnowballStemmer\n",
    "# from nltk.stem import WordNetLemmatizer\n",
    "# from nltk.corpus import stopwords\n",
    "from nltk.tokenize import sent_tokenize\n",
    "from nltk.tokenize import word_tokenize\n",
    "\n",
    "\n",
    "\n",
    "\n"
   ]
  },
  {
   "cell_type": "code",
   "execution_count": 77,
   "id": "6b48564a",
   "metadata": {},
   "outputs": [],
   "source": [
    "import nltk\n",
    "# nltk.download('stopwords')"
   ]
  },
  {
   "cell_type": "code",
   "execution_count": 78,
   "id": "5fceb4f2",
   "metadata": {},
   "outputs": [
    {
     "data": {
      "text/plain": [
       "['a',\n",
       " 'about',\n",
       " 'above',\n",
       " 'after',\n",
       " 'again',\n",
       " 'against',\n",
       " 'ain',\n",
       " 'all',\n",
       " 'am',\n",
       " 'an',\n",
       " 'and',\n",
       " 'any',\n",
       " 'are',\n",
       " 'aren',\n",
       " \"aren't\",\n",
       " 'as',\n",
       " 'at',\n",
       " 'be',\n",
       " 'because',\n",
       " 'been',\n",
       " 'before',\n",
       " 'being',\n",
       " 'below',\n",
       " 'between',\n",
       " 'both',\n",
       " 'but',\n",
       " 'by',\n",
       " 'can',\n",
       " 'couldn',\n",
       " \"couldn't\",\n",
       " 'd',\n",
       " 'did',\n",
       " 'didn',\n",
       " \"didn't\",\n",
       " 'do',\n",
       " 'does',\n",
       " 'doesn',\n",
       " \"doesn't\",\n",
       " 'doing',\n",
       " 'don',\n",
       " \"don't\",\n",
       " 'down',\n",
       " 'during',\n",
       " 'each',\n",
       " 'few',\n",
       " 'for',\n",
       " 'from',\n",
       " 'further',\n",
       " 'had',\n",
       " 'hadn',\n",
       " \"hadn't\",\n",
       " 'has',\n",
       " 'hasn',\n",
       " \"hasn't\",\n",
       " 'have',\n",
       " 'haven',\n",
       " \"haven't\",\n",
       " 'having',\n",
       " 'he',\n",
       " \"he'd\",\n",
       " \"he'll\",\n",
       " 'her',\n",
       " 'here',\n",
       " 'hers',\n",
       " 'herself',\n",
       " \"he's\",\n",
       " 'him',\n",
       " 'himself',\n",
       " 'his',\n",
       " 'how',\n",
       " 'i',\n",
       " \"i'd\",\n",
       " 'if',\n",
       " \"i'll\",\n",
       " \"i'm\",\n",
       " 'in',\n",
       " 'into',\n",
       " 'is',\n",
       " 'isn',\n",
       " \"isn't\",\n",
       " 'it',\n",
       " \"it'd\",\n",
       " \"it'll\",\n",
       " \"it's\",\n",
       " 'its',\n",
       " 'itself',\n",
       " \"i've\",\n",
       " 'just',\n",
       " 'll',\n",
       " 'm',\n",
       " 'ma',\n",
       " 'me',\n",
       " 'mightn',\n",
       " \"mightn't\",\n",
       " 'more',\n",
       " 'most',\n",
       " 'mustn',\n",
       " \"mustn't\",\n",
       " 'my',\n",
       " 'myself',\n",
       " 'needn',\n",
       " \"needn't\",\n",
       " 'no',\n",
       " 'nor',\n",
       " 'not',\n",
       " 'now',\n",
       " 'o',\n",
       " 'of',\n",
       " 'off',\n",
       " 'on',\n",
       " 'once',\n",
       " 'only',\n",
       " 'or',\n",
       " 'other',\n",
       " 'our',\n",
       " 'ours',\n",
       " 'ourselves',\n",
       " 'out',\n",
       " 'over',\n",
       " 'own',\n",
       " 're',\n",
       " 's',\n",
       " 'same',\n",
       " 'shan',\n",
       " \"shan't\",\n",
       " 'she',\n",
       " \"she'd\",\n",
       " \"she'll\",\n",
       " \"she's\",\n",
       " 'should',\n",
       " 'shouldn',\n",
       " \"shouldn't\",\n",
       " \"should've\",\n",
       " 'so',\n",
       " 'some',\n",
       " 'such',\n",
       " 't',\n",
       " 'than',\n",
       " 'that',\n",
       " \"that'll\",\n",
       " 'the',\n",
       " 'their',\n",
       " 'theirs',\n",
       " 'them',\n",
       " 'themselves',\n",
       " 'then',\n",
       " 'there',\n",
       " 'these',\n",
       " 'they',\n",
       " \"they'd\",\n",
       " \"they'll\",\n",
       " \"they're\",\n",
       " \"they've\",\n",
       " 'this',\n",
       " 'those',\n",
       " 'through',\n",
       " 'to',\n",
       " 'too',\n",
       " 'under',\n",
       " 'until',\n",
       " 'up',\n",
       " 've',\n",
       " 'very',\n",
       " 'was',\n",
       " 'wasn',\n",
       " \"wasn't\",\n",
       " 'we',\n",
       " \"we'd\",\n",
       " \"we'll\",\n",
       " \"we're\",\n",
       " 'were',\n",
       " 'weren',\n",
       " \"weren't\",\n",
       " \"we've\",\n",
       " 'what',\n",
       " 'when',\n",
       " 'where',\n",
       " 'which',\n",
       " 'while',\n",
       " 'who',\n",
       " 'whom',\n",
       " 'why',\n",
       " 'will',\n",
       " 'with',\n",
       " 'won',\n",
       " \"won't\",\n",
       " 'wouldn',\n",
       " \"wouldn't\",\n",
       " 'y',\n",
       " 'you',\n",
       " \"you'd\",\n",
       " \"you'll\",\n",
       " 'your',\n",
       " \"you're\",\n",
       " 'yours',\n",
       " 'yourself',\n",
       " 'yourselves',\n",
       " \"you've\"]"
      ]
     },
     "execution_count": 78,
     "metadata": {},
     "output_type": "execute_result"
    }
   ],
   "source": [
    "from nltk.corpus import stopwords\n",
    "stopwords.words('english')"
   ]
  },
  {
   "cell_type": "code",
   "execution_count": 79,
   "id": "a21d8c10",
   "metadata": {},
   "outputs": [],
   "source": [
    "sentences = sent_tokenize(paragraph)"
   ]
  },
  {
   "cell_type": "code",
   "execution_count": 80,
   "id": "a83ad600",
   "metadata": {},
   "outputs": [],
   "source": [
    "from nltk.stem import PorterStemmer\n",
    "\n",
    "stemmer = PorterStemmer()\n",
    "\n",
    "sentences_p = sentences.copy()\n",
    "\n",
    "for i in range(len(sentences_p)) :\n",
    "    words = word_tokenize(sentences_p[i])\n",
    "    words = [stemmer.stem(word) for word in words if word not in set(stopwords.words('english'))]\n",
    "    sentences_p[i] = ' '.join(words) # converting all the words into sentence"
   ]
  },
  {
   "cell_type": "code",
   "execution_count": 81,
   "id": "ff4074f0",
   "metadata": {},
   "outputs": [
    {
     "data": {
      "text/plain": [
       "['i three vision india .',\n",
       " 'in 3000 year histori peopl world come invad us , captur land , conquer mind .',\n",
       " 'from alexand onward greek , turk , mogul , portugues , british , french , dutch , came loot us , took .',\n",
       " 'yet done nation .',\n",
       " 'we conquer anyon .',\n",
       " 'we grab land , cultur histori tri enforc way life .',\n",
       " 'whi ?',\n",
       " 'becaus respect freedom other .',\n",
       " 'that first vision freedom .',\n",
       " 'i believ india got first vision 1857 , start war independ .',\n",
       " 'it freedom must protect nurtur build .',\n",
       " 'if free , one respect us .',\n",
       " 'we 10 percent growth rate area .',\n",
       " 'our poverti level fall .',\n",
       " 'our achiev global recognis today .',\n",
       " 'yet lack self-confid see develop nation , self-reli self-assur .',\n",
       " \"is n't incorrect ?\",\n",
       " 'my second vision india develop .',\n",
       " 'for fifti year develop nation .',\n",
       " 'it time see develop nation .',\n",
       " 'we among top five nation world term gdp .',\n",
       " 'i third vision .',\n",
       " 'india must stand world .',\n",
       " 'becaus i believ unless india stand world , one respect us .',\n",
       " 'onli strength respect strength .',\n",
       " 'we must strong militari power also econom power .',\n",
       " 'both must go hand-in-hand .',\n",
       " 'my good fortun work three great mind .',\n",
       " 'dr.vikram sarabhai , dept .',\n",
       " 'space , professor satish dhawan , succeed dr. brahm prakash , father nuclear materi .',\n",
       " 'i lucki work three close consid great opportun life .',\n",
       " 'i hyderabad give lectur , 14 year-old girl ask autograph .',\n",
       " 'i ask goal life .',\n",
       " 'she repli : i want live develop india .',\n",
       " 'for , i build develop india .',\n",
       " 'you must proclaim india underdevelop nation ; highli develop nation .',\n",
       " 'you say govern ineffici .',\n",
       " 'you say law old .',\n",
       " 'you say municip pick garbag .',\n",
       " \"you say phone n't work , railway joke , airlin worst world , mail never reach destin .\",\n",
       " 'you say countri fed dog absolut pit .',\n",
       " 'you say , say say .',\n",
       " 'what ?',\n",
       " \"dear indian , i echo j.f.kennedi 's word fellow american relat indian …… .\",\n",
       " '“ ask what we can do for india and do what ha to be done to make india what america and other western countri are today . ”']"
      ]
     },
     "execution_count": 81,
     "metadata": {},
     "output_type": "execute_result"
    }
   ],
   "source": [
    "sentences_p"
   ]
  },
  {
   "cell_type": "code",
   "execution_count": 82,
   "id": "fcc10465",
   "metadata": {},
   "outputs": [],
   "source": [
    "from nltk.stem import SnowballStemmer\n",
    "\n",
    "snowballstemmer = SnowballStemmer('english')\n",
    "\n",
    "sentences_s = sentences.copy()\n",
    "\n",
    "for i in range(len(sentences_s)) :\n",
    "    words = nltk.word_tokenize(sentences_s[i])\n",
    "    words = [snowballstemmer.stem(word) for word in words if word not in set(stopwords.words('english'))]\n",
    "    sentences_s[i] = ' '.join(words) # converting all the words into sentence"
   ]
  },
  {
   "cell_type": "code",
   "execution_count": 83,
   "id": "0a3ff543",
   "metadata": {},
   "outputs": [
    {
     "data": {
      "text/plain": [
       "['i three vision india .',\n",
       " 'in 3000 year histori peopl world come invad us , captur land , conquer mind .',\n",
       " 'from alexand onward greek , turk , mogul , portugues , british , french , dutch , came loot us , took .',\n",
       " 'yet done nation .',\n",
       " 'we conquer anyon .',\n",
       " 'we grab land , cultur histori tri enforc way life .',\n",
       " 'whi ?',\n",
       " 'becaus respect freedom other .',\n",
       " 'that first vision freedom .',\n",
       " 'i believ india got first vision 1857 , start war independ .',\n",
       " 'it freedom must protect nurtur build .',\n",
       " 'if free , one respect us .',\n",
       " 'we 10 percent growth rate area .',\n",
       " 'our poverti level fall .',\n",
       " 'our achiev global recognis today .',\n",
       " 'yet lack self-confid see develop nation , self-reli self-assur .',\n",
       " \"is n't incorrect ?\",\n",
       " 'my second vision india develop .',\n",
       " 'for fifti year develop nation .',\n",
       " 'it time see develop nation .',\n",
       " 'we among top five nation world term gdp .',\n",
       " 'i third vision .',\n",
       " 'india must stand world .',\n",
       " 'becaus i believ unless india stand world , one respect us .',\n",
       " 'onli strength respect strength .',\n",
       " 'we must strong militari power also econom power .',\n",
       " 'both must go hand-in-hand .',\n",
       " 'my good fortun work three great mind .',\n",
       " 'dr.vikram sarabhai , dept .',\n",
       " 'space , professor satish dhawan , succeed dr. brahm prakash , father nuclear materi .',\n",
       " 'i lucki work three close consid great opportun life .',\n",
       " 'i hyderabad give lectur , 14 year-old girl ask autograph .',\n",
       " 'i ask goal life .',\n",
       " 'she repli : i want live develop india .',\n",
       " 'for , i build develop india .',\n",
       " 'you must proclaim india underdevelop nation ; high develop nation .',\n",
       " 'you say govern ineffici .',\n",
       " 'you say law old .',\n",
       " 'you say municip pick garbag .',\n",
       " \"you say phone n't work , railway joke , airlin worst world , mail never reach destin .\",\n",
       " 'you say countri fed dog absolut pit .',\n",
       " 'you say , say say .',\n",
       " 'what ?',\n",
       " \"dear indian , i echo j.f.kennedi 's word fellow american relat indian …… .\",\n",
       " '“ ask what we can do for india and do what has to be done to make india what america and other western countri are today . ”']"
      ]
     },
     "execution_count": 83,
     "metadata": {},
     "output_type": "execute_result"
    }
   ],
   "source": [
    "sentences_s"
   ]
  },
  {
   "cell_type": "code",
   "execution_count": 84,
   "id": "2d7aeb5f",
   "metadata": {},
   "outputs": [],
   "source": [
    "from nltk.stem import WordNetLemmatizer\n",
    "\n",
    "lemmatizer = WordNetLemmatizer()\n",
    "\n",
    "sentences_l = sentences.copy()\n",
    "\n",
    "for i in range(len(sentences_l)) :\n",
    "    words = word_tokenize(sentences_l[i])\n",
    "    words = [lemmatizer.lemmatize(word.lower(), pos='v') for word in words if word not in set(stopwords.words('english'))]\n",
    "    sentences_l[i] = ' '.join(words) # converting all the words into sentence"
   ]
  },
  {
   "cell_type": "code",
   "execution_count": 85,
   "id": "6beff1da",
   "metadata": {},
   "outputs": [
    {
     "data": {
      "text/plain": [
       "['i three visions india .',\n",
       " 'in 3000 years history people world come invade us , capture land , conquer mind .',\n",
       " 'from alexander onwards greeks , turks , moguls , portuguese , british , french , dutch , come loot us , take .',\n",
       " 'yet do nation .',\n",
       " 'we conquer anyone .',\n",
       " 'we grab land , culture history try enforce way life .',\n",
       " 'why ?',\n",
       " 'because respect freedom others .',\n",
       " 'that first vision freedom .',\n",
       " 'i believe india get first vision 1857 , start war independence .',\n",
       " 'it freedom must protect nurture build .',\n",
       " 'if free , one respect us .',\n",
       " 'we 10 percent growth rate areas .',\n",
       " 'our poverty level fall .',\n",
       " 'our achievements globally recognise today .',\n",
       " 'yet lack self-confidence see develop nation , self-reliant self-assured .',\n",
       " \"be n't incorrect ?\",\n",
       " 'my second vision india development .',\n",
       " 'for fifty years develop nation .',\n",
       " 'it time see develop nation .',\n",
       " 'we among top five nations world term gdp .',\n",
       " 'i third vision .',\n",
       " 'india must stand world .',\n",
       " 'because i believe unless india stand world , one respect us .',\n",
       " 'only strength respect strength .',\n",
       " 'we must strong military power also economic power .',\n",
       " 'both must go hand-in-hand .',\n",
       " 'my good fortune work three great mind .',\n",
       " 'dr.vikram sarabhai , dept .',\n",
       " 'space , professor satish dhawan , succeed dr. brahm prakash , father nuclear material .',\n",
       " 'i lucky work three closely consider great opportunity life .',\n",
       " 'i hyderabad give lecture , 14 year-old girl ask autograph .',\n",
       " 'i ask goal life .',\n",
       " 'she reply : i want live develop india .',\n",
       " 'for , i build develop india .',\n",
       " 'you must proclaim india underdevelop nation ; highly develop nation .',\n",
       " 'you say government inefficient .',\n",
       " 'you say laws old .',\n",
       " 'you say municipality pick garbage .',\n",
       " \"you say phone n't work , railways joke , airline worst world , mail never reach destination .\",\n",
       " 'you say country feed dog absolute pit .',\n",
       " 'you say , say say .',\n",
       " 'what ?',\n",
       " \"dear indians , i echo j.f.kennedy 's word fellow americans relate indians …… .\",\n",
       " '“ ask what we can do for india and do what have to be do to make india what america and other western countries be today . ”']"
      ]
     },
     "execution_count": 85,
     "metadata": {},
     "output_type": "execute_result"
    }
   ],
   "source": [
    "sentences_l"
   ]
  },
  {
   "cell_type": "markdown",
   "id": "c8728694",
   "metadata": {},
   "source": [
    "### 6. Parts of Speech Tagging\n",
    "- **Part-of-Speech** (POS) tagging is the process of labeling each word in a sentence with its corresponding part of speech\n",
    "    - such as noun, verb, adjective, etc\n",
    "- Based on both definition and context.\n",
    "\n",
    "\n",
    "- Full list of POS tags :\n",
    " Penn Treebank POS Tagset (36 Tags)\n",
    "\n",
    "| Tag   | Description                                | Example(s)               |\n",
    "|--------|--------------------------------------------|---------------------------|\n",
    "| **CC**  | Coordinating conjunction                   | and, but, or              |\n",
    "| **CD**  | Cardinal number                            | one, two, 100             |\n",
    "| **DT**  | Determiner                                 | the, a, an, this          |\n",
    "| **EX**  | Existential \"there\"                        | there (in \"there is\")     |\n",
    "| **FW**  | Foreign word                               | d'accord, coup d’état     |\n",
    "| **IN**  | Preposition/subordinating conjunction      | in, of, like, because     |\n",
    "| **JJ**  | Adjective                                  | green, quick, easy        |\n",
    "| **JJR** | Adjective, comparative                     | better, faster            |\n",
    "| **JJS** | Adjective, superlative                     | best, fastest             |\n",
    "| **LS**  | List item marker                           | 1., A., a)                |\n",
    "| **MD**  | Modal auxiliary verb                       | can, must, should         |\n",
    "| **NN**  | Noun, singular or mass                     | cat, knowledge            |\n",
    "| **NNS** | Noun, plural                               | cats, cars                |\n",
    "| **NNP** | Proper noun, singular                      | John, London              |\n",
    "| **NNPS**| Proper noun, plural                        | Americans, Beatles        |\n",
    "| **PDT** | Predeterminer                              | all, both (in \"all the children\") |\n",
    "| **POS** | Possessive ending                          | 's                        |\n",
    "| **PRP** | Personal pronoun                           | I, you, he, she, it       |\n",
    "| **PRP$**| Possessive pronoun                         | my, your, his             |\n",
    "| **RB**  | Adverb                                     | quickly, very             |\n",
    "| **RBR** | Adverb, comparative                        | faster, better            |\n",
    "| **RBS** | Adverb, superlative                        | best, most                |\n",
    "| **RP**  | Particle                                   | up, off (in \"give up\")    |\n",
    "| **SYM** | Symbol                                     | $, %, &                   |\n",
    "| **TO**  | \"to\"                                       | to (in \"to go\")           |\n",
    "| **UH**  | Interjection                               | oh, wow, hey              |\n",
    "| **VB**  | Verb, base form                            | go, eat                   |\n",
    "| **VBD** | Verb, past tense                           | went, ate                 |\n",
    "| **VBG** | Verb, gerund/present participle            | going, eating             |\n",
    "| **VBN** | Verb, past participle                      | gone, eaten               |\n",
    "| **VBP** | Verb, non-3rd person singular present      | go, eat                   |\n",
    "| **VBZ** | Verb, 3rd person singular present          | goes, eats                |\n",
    "| **WDT** | Wh-determiner                              | which, that               |\n",
    "| **WP**  | Wh-pronoun                                 | who, what                 |\n",
    "| **WP$** | Possessive wh-pronoun                      | whose                     |\n",
    "| **WRB** | Wh-adverb                                  | where, when, why          |\n",
    "\n"
   ]
  },
  {
   "cell_type": "code",
   "execution_count": 86,
   "id": "fb738578",
   "metadata": {},
   "outputs": [],
   "source": [
    "import nltk\n",
    "from nltk.corpus import stopwords\n",
    "# nltk.download('averaged_perceptron_tagger_eng')"
   ]
  },
  {
   "cell_type": "code",
   "execution_count": 87,
   "id": "85682b8d",
   "metadata": {},
   "outputs": [
    {
     "data": {
      "text/plain": [
       "['I have three visions for India.',\n",
       " 'In 3000 years of our history people from all over the world have come and invaded us, captured our lands, conquered our minds.',\n",
       " 'From Alexander onwards the Greeks, the Turks, the Moguls, the Portuguese, the British, the French, the Dutch, all of them came and looted us, took over what was ours.',\n",
       " 'Yet we have not done this to any other nation.',\n",
       " 'We have not conquered anyone.',\n",
       " 'We have not grabbed their land, their culture and their history and tried to enforce our way of life on them.',\n",
       " 'Why?',\n",
       " 'Because we respect the freedom of others.',\n",
       " 'That is why my FIRST VISION is that of FREEDOM.',\n",
       " 'I believe that India got its first vision of this in 1857, when we started the war of Independence.',\n",
       " 'It is this freedom that we must protect and nurture and build on.',\n",
       " 'If we are not free, no one will respect us.',\n",
       " 'We have 10 percent growth rate in most areas.',\n",
       " 'Our poverty levels are falling.',\n",
       " 'Our achievements are being globally recognised today.',\n",
       " 'Yet we lack the self-confidence to see ourselves as a developed nation, self-reliant and self-assured.',\n",
       " \"Isn't this incorrect?\",\n",
       " 'MY SECOND VISION for India is DEVELOPMENT.',\n",
       " 'For fifty years we have been a developing nation.',\n",
       " 'It is time we see ourselves as a developed nation.',\n",
       " 'We are among top five nations in the world in terms of GDP.',\n",
       " 'I have a THIRD VISION.',\n",
       " 'India must stand up to the world.',\n",
       " 'Because I believe that unless India stands up to the world, no one will respect us.',\n",
       " 'Only strength respects strength.',\n",
       " 'We must be strong not only as a military power but also as an economic power.',\n",
       " 'Both must go hand-in-hand.',\n",
       " 'My good fortune was to have worked with three great minds.',\n",
       " 'Dr.Vikram Sarabhai, of the Dept.',\n",
       " 'of Space, Professor Satish Dhawan, who succeeded him and Dr. Brahm Prakash, father of nuclear material.',\n",
       " 'I was lucky to have worked with all three of them closely and consider this the great opportunity of my life.',\n",
       " 'I was in Hyderabad giving this lecture, when a 14 year-old girl asked me for my autograph.',\n",
       " 'I asked her what her goal in life is.',\n",
       " 'She replied: I want to live in a developed India.',\n",
       " 'For her, you and I will have to build this developed India.',\n",
       " 'You must proclaim India is not an underdeveloped nation; it is a highly developed nation.',\n",
       " 'You say that our government is inefficient.',\n",
       " 'You say that our laws are too old.',\n",
       " 'You say that the municipality does not pick up the garbage.',\n",
       " \"You say that the phones don't work, the railways are a joke, the airline is the worst in the world, and mails never reach their destination.\",\n",
       " 'You say that our country has been fed to the dogs and is the absolute pits.',\n",
       " 'You say, say and say.',\n",
       " 'What do you do about it?',\n",
       " \"Dear Indians, I am echoing J.F.Kennedy's words to his fellow Americans to relate to Indians …….\",\n",
       " '“ASK WHAT WE CAN DO FOR INDIA AND DO WHAT HAS TO BE DONE TO MAKE INDIA WHAT AMERICA AND OTHER WESTERN COUNTRIES ARE TODAY.”']"
      ]
     },
     "execution_count": 87,
     "metadata": {},
     "output_type": "execute_result"
    }
   ],
   "source": [
    "sentences_pos = nltk.sent_tokenize(paragraph)\n",
    "sentences_pos"
   ]
  },
  {
   "cell_type": "code",
   "execution_count": 88,
   "id": "3bca0ca6",
   "metadata": {},
   "outputs": [
    {
     "name": "stdout",
     "output_type": "stream",
     "text": [
      "[('I', 'PRP'), ('three', 'CD'), ('visions', 'NNS'), ('India', 'NNP'), ('.', '.')]\n",
      "[('In', 'IN'), ('3000', 'CD'), ('years', 'NNS'), ('history', 'NN'), ('people', 'NNS'), ('world', 'NN'), ('come', 'VBP'), ('invaded', 'VBN'), ('us', 'PRP'), (',', ','), ('captured', 'VBD'), ('lands', 'NNS'), (',', ','), ('conquered', 'VBD'), ('minds', 'NNS'), ('.', '.')]\n",
      "[('From', 'IN'), ('Alexander', 'NNP'), ('onwards', 'NNS'), ('Greeks', 'NNP'), (',', ','), ('Turks', 'NNP'), (',', ','), ('Moguls', 'NNP'), (',', ','), ('Portuguese', 'NNP'), (',', ','), ('British', 'NNP'), (',', ','), ('French', 'NNP'), (',', ','), ('Dutch', 'NNP'), (',', ','), ('came', 'VBD'), ('looted', 'JJ'), ('us', 'PRP'), (',', ','), ('took', 'VBD'), ('.', '.')]\n",
      "[('Yet', 'RB'), ('done', 'VBN'), ('nation', 'NN'), ('.', '.')]\n",
      "[('We', 'PRP'), ('conquered', 'VBD'), ('anyone', 'NN'), ('.', '.')]\n",
      "[('We', 'PRP'), ('grabbed', 'VBD'), ('land', 'NN'), (',', ','), ('culture', 'NN'), ('history', 'NN'), ('tried', 'VBD'), ('enforce', 'JJ'), ('way', 'NN'), ('life', 'NN'), ('.', '.')]\n",
      "[('Why', 'WRB'), ('?', '.')]\n",
      "[('Because', 'IN'), ('respect', 'NN'), ('freedom', 'NN'), ('others', 'NNS'), ('.', '.')]\n",
      "[('That', 'DT'), ('FIRST', 'NNP'), ('VISION', 'NNP'), ('FREEDOM', 'NNP'), ('.', '.')]\n",
      "[('I', 'PRP'), ('believe', 'VBP'), ('India', 'NNP'), ('got', 'VBD'), ('first', 'JJ'), ('vision', 'NN'), ('1857', 'CD'), (',', ','), ('started', 'VBD'), ('war', 'NN'), ('Independence', 'NN'), ('.', '.')]\n",
      "[('It', 'PRP'), ('freedom', 'NN'), ('must', 'MD'), ('protect', 'VB'), ('nurture', 'NN'), ('build', 'NN'), ('.', '.')]\n",
      "[('If', 'IN'), ('free', 'JJ'), (',', ','), ('one', 'CD'), ('respect', 'NN'), ('us', 'PRP'), ('.', '.')]\n",
      "[('We', 'PRP'), ('10', 'CD'), ('percent', 'JJ'), ('growth', 'NN'), ('rate', 'NN'), ('areas', 'NNS'), ('.', '.')]\n",
      "[('Our', 'PRP$'), ('poverty', 'NN'), ('levels', 'NNS'), ('falling', 'VBG'), ('.', '.')]\n",
      "[('Our', 'PRP$'), ('achievements', 'NNS'), ('globally', 'RB'), ('recognised', 'VBN'), ('today', 'NN'), ('.', '.')]\n",
      "[('Yet', 'RB'), ('lack', 'JJ'), ('self-confidence', 'NN'), ('see', 'NN'), ('developed', 'JJ'), ('nation', 'NN'), (',', ','), ('self-reliant', 'JJ'), ('self-assured', 'JJ'), ('.', '.')]\n",
      "[('Is', 'VBZ'), (\"n't\", 'RB'), ('incorrect', 'VB'), ('?', '.')]\n",
      "[('MY', 'PRP$'), ('SECOND', 'JJ'), ('VISION', 'NNP'), ('India', 'NNP'), ('DEVELOPMENT', 'NNP'), ('.', '.')]\n",
      "[('For', 'IN'), ('fifty', 'JJ'), ('years', 'NNS'), ('developing', 'VBG'), ('nation', 'NN'), ('.', '.')]\n",
      "[('It', 'PRP'), ('time', 'NN'), ('see', 'VB'), ('developed', 'JJ'), ('nation', 'NN'), ('.', '.')]\n",
      "[('We', 'PRP'), ('among', 'IN'), ('top', 'JJ'), ('five', 'CD'), ('nations', 'NNS'), ('world', 'NN'), ('terms', 'NNS'), ('GDP', 'NNP'), ('.', '.')]\n",
      "[('I', 'PRP'), ('THIRD', 'VBP'), ('VISION', 'NNP'), ('.', '.')]\n",
      "[('India', 'NNP'), ('must', 'MD'), ('stand', 'VB'), ('world', 'NN'), ('.', '.')]\n",
      "[('Because', 'IN'), ('I', 'PRP'), ('believe', 'VBP'), ('unless', 'IN'), ('India', 'NNP'), ('stands', 'VBZ'), ('world', 'NN'), (',', ','), ('one', 'CD'), ('respect', 'NN'), ('us', 'PRP'), ('.', '.')]\n",
      "[('Only', 'RB'), ('strength', 'NN'), ('respects', 'NNS'), ('strength', 'NN'), ('.', '.')]\n",
      "[('We', 'PRP'), ('must', 'MD'), ('strong', 'JJ'), ('military', 'JJ'), ('power', 'NN'), ('also', 'RB'), ('economic', 'JJ'), ('power', 'NN'), ('.', '.')]\n",
      "[('Both', 'DT'), ('must', 'MD'), ('go', 'VB'), ('hand-in-hand', 'NN'), ('.', '.')]\n",
      "[('My', 'PRP$'), ('good', 'JJ'), ('fortune', 'NN'), ('worked', 'VBD'), ('three', 'CD'), ('great', 'JJ'), ('minds', 'NNS'), ('.', '.')]\n",
      "[('Dr.Vikram', 'NNP'), ('Sarabhai', 'NNP'), (',', ','), ('Dept', 'NNP'), ('.', '.')]\n",
      "[('Space', 'NNP'), (',', ','), ('Professor', 'NNP'), ('Satish', 'NNP'), ('Dhawan', 'NNP'), (',', ','), ('succeeded', 'VBD'), ('Dr.', 'NNP'), ('Brahm', 'NNP'), ('Prakash', 'NNP'), (',', ','), ('father', 'RB'), ('nuclear', 'JJ'), ('material', 'NN'), ('.', '.')]\n",
      "[('I', 'PRP'), ('lucky', 'VBP'), ('worked', 'VBD'), ('three', 'CD'), ('closely', 'RB'), ('consider', 'VBP'), ('great', 'JJ'), ('opportunity', 'NN'), ('life', 'NN'), ('.', '.')]\n",
      "[('I', 'PRP'), ('Hyderabad', 'VBP'), ('giving', 'VBG'), ('lecture', 'NN'), (',', ','), ('14', 'CD'), ('year-old', 'JJ'), ('girl', 'NN'), ('asked', 'VBD'), ('autograph', 'NN'), ('.', '.')]\n",
      "[('I', 'PRP'), ('asked', 'VBD'), ('goal', 'NN'), ('life', 'NN'), ('.', '.')]\n",
      "[('She', 'PRP'), ('replied', 'VBD'), (':', ':'), ('I', 'PRP'), ('want', 'VBP'), ('live', 'JJ'), ('developed', 'VBN'), ('India', 'NNP'), ('.', '.')]\n",
      "[('For', 'IN'), (',', ','), ('I', 'PRP'), ('build', 'VBP'), ('developed', 'JJ'), ('India', 'NNP'), ('.', '.')]\n",
      "[('You', 'PRP'), ('must', 'MD'), ('proclaim', 'VB'), ('India', 'NNP'), ('underdeveloped', 'JJ'), ('nation', 'NN'), (';', ':'), ('highly', 'RB'), ('developed', 'JJ'), ('nation', 'NN'), ('.', '.')]\n",
      "[('You', 'PRP'), ('say', 'VBP'), ('government', 'NN'), ('inefficient', 'NN'), ('.', '.')]\n",
      "[('You', 'PRP'), ('say', 'VBP'), ('laws', 'NNS'), ('old', 'JJ'), ('.', '.')]\n",
      "[('You', 'PRP'), ('say', 'VBP'), ('municipality', 'JJ'), ('pick', 'JJ'), ('garbage', 'NN'), ('.', '.')]\n",
      "[('You', 'PRP'), ('say', 'VBP'), ('phones', 'NNS'), (\"n't\", 'RB'), ('work', 'VB'), (',', ','), ('railways', 'NNS'), ('joke', 'VBD'), (',', ','), ('airline', 'NN'), ('worst', 'JJS'), ('world', 'NN'), (',', ','), ('mails', 'NNS'), ('never', 'RB'), ('reach', 'VBP'), ('destination', 'NN'), ('.', '.')]\n",
      "[('You', 'PRP'), ('say', 'VBP'), ('country', 'NN'), ('fed', 'VBD'), ('dogs', 'NNS'), ('absolute', 'JJ'), ('pits', 'NNS'), ('.', '.')]\n",
      "[('You', 'PRP'), ('say', 'VBP'), (',', ','), ('say', 'VBP'), ('say', 'UH'), ('.', '.')]\n",
      "[('What', 'WP'), ('?', '.')]\n",
      "[('Dear', 'NNP'), ('Indians', 'NNPS'), (',', ','), ('I', 'PRP'), ('echoing', 'VBG'), ('J.F.Kennedy', 'NNP'), (\"'s\", 'POS'), ('words', 'NNS'), ('fellow', 'JJ'), ('Americans', 'NNPS'), ('relate', 'VBP'), ('Indians', 'NNPS'), ('……', 'VBP'), ('.', '.')]\n",
      "[('“', 'NN'), ('ASK', 'NNP'), ('WHAT', 'NNP'), ('WE', 'NNP'), ('CAN', 'NNP'), ('DO', 'NNP'), ('FOR', 'NNP'), ('INDIA', 'NNP'), ('AND', 'NNP'), ('DO', 'NNP'), ('WHAT', 'NNP'), ('HAS', 'NNP'), ('TO', 'NNP'), ('BE', 'NNP'), ('DONE', 'NNP'), ('TO', 'NNP'), ('MAKE', 'NNP'), ('INDIA', 'NNP'), ('WHAT', 'NNP'), ('AMERICA', 'NNP'), ('AND', 'NNP'), ('OTHER', 'NNP'), ('WESTERN', 'NNP'), ('COUNTRIES', 'NNP'), ('ARE', 'NNP'), ('TODAY', 'NNP'), ('.', '.'), ('”', 'NN')]\n"
     ]
    }
   ],
   "source": [
    "    \n",
    "for i in range(len(sentences_pos)):\n",
    "    words = nltk.word_tokenize(sentences_pos[i])\n",
    "    words = [word for word in words if word not in set(stopwords.words('english'))]\n",
    "    pos_tag = nltk.pos_tag(words)\n",
    "    print(pos_tag)\n"
   ]
  },
  {
   "cell_type": "markdown",
   "id": "d084e99a",
   "metadata": {},
   "source": [
    "### 7. Named Entity Recognition\n",
    "\n",
    "\n",
    "NLTK’s `ne_chunk()` function identifies and labels the following named entities in text.\n",
    "\n",
    "#### 📋 NER Labels (from `nltk.ne_chunk()`)\n",
    "\n",
    "| Label          | Description                                        | Example(s)                       |\n",
    "|----------------|----------------------------------------------------|----------------------------------|\n",
    "| **PERSON**      | People, fictional characters                       | Barack Obama, Sherlock Holmes    |\n",
    "| **ORGANIZATION**| Companies, agencies, institutions                  | Google, United Nations           |\n",
    "| **GPE**         | Geo-Political Entities (countries, cities, states) | India, New York, California      |\n",
    "| **LOCATION**    | Physical locations (non-GPE)                       | Mount Everest, Nile River        |\n",
    "| **FACILITY**    | Buildings, airports, highways, etc. (less common) | Empire State Building, Heathrow  |\n",
    "| **GSP**         | Geopolitical subgroup (rare in NLTK)              | The South, West Coast            |\n",
    "\n",
    "\n"
   ]
  },
  {
   "cell_type": "code",
   "execution_count": 89,
   "id": "bccdfd4e",
   "metadata": {},
   "outputs": [],
   "source": [
    "sentence_ner = \"\"\"The Eiffel Tower is a landmark in Paris.  It was designed by Gustave Eiffel's company for the 1889 World's Fair and initially intended as a temporary structure. In 1909, there were discussions regarding the potential dismantling of the Eiffel Tower. However, the decision to save this iconic structure was ultimately reached by city officials, who acknowledged its importance as a radiotelegraphy station.\n",
    "The Tower cost 7,799,401.31 French gold francs to build in 1889, an amount equal to $1,495,139.89 at that time. Today, its cost would equal to $36,784,020.11\"\"\""
   ]
  },
  {
   "cell_type": "code",
   "execution_count": 90,
   "id": "54e415f2",
   "metadata": {},
   "outputs": [],
   "source": [
    "import nltk\n",
    "# nltk.download('maxent_ne_chunker')\n",
    "# nltk.download('maxent_ne_chunker_tab')\n",
    "# nltk.download('words')"
   ]
  },
  {
   "cell_type": "code",
   "execution_count": 91,
   "id": "f461dee3",
   "metadata": {},
   "outputs": [],
   "source": [
    "words_ner = nltk.word_tokenize(sentence_ner)\n",
    "tag_elements = nltk.pos_tag(words_ner)"
   ]
  },
  {
   "cell_type": "code",
   "execution_count": 92,
   "id": "b00a9477",
   "metadata": {},
   "outputs": [],
   "source": [
    "nltk.ne_chunk(tag_elements).draw()"
   ]
  },
  {
   "cell_type": "code",
   "execution_count": null,
   "id": "87c7fe7f",
   "metadata": {},
   "outputs": [],
   "source": []
  },
  {
   "cell_type": "code",
   "execution_count": null,
   "id": "3a8fc0b5",
   "metadata": {},
   "outputs": [],
   "source": []
  },
  {
   "cell_type": "code",
   "execution_count": null,
   "id": "377888b1",
   "metadata": {},
   "outputs": [],
   "source": []
  },
  {
   "cell_type": "code",
   "execution_count": null,
   "id": "ef069d1e",
   "metadata": {},
   "outputs": [],
   "source": []
  },
  {
   "cell_type": "code",
   "execution_count": null,
   "id": "1cc0a1ae",
   "metadata": {},
   "outputs": [],
   "source": []
  },
  {
   "cell_type": "code",
   "execution_count": null,
   "id": "6dd59f50",
   "metadata": {},
   "outputs": [],
   "source": []
  }
 ],
 "metadata": {
  "kernelspec": {
   "display_name": "myenv",
   "language": "python",
   "name": "python3"
  },
  "language_info": {
   "codemirror_mode": {
    "name": "ipython",
    "version": 3
   },
   "file_extension": ".py",
   "mimetype": "text/x-python",
   "name": "python",
   "nbconvert_exporter": "python",
   "pygments_lexer": "ipython3",
   "version": "3.13.4"
  }
 },
 "nbformat": 4,
 "nbformat_minor": 5
}
