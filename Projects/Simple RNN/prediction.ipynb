{
 "cells": [
  {
   "cell_type": "markdown",
   "id": "b44d5f79",
   "metadata": {},
   "source": [
    "### 1. Importing the required Libraries"
   ]
  },
  {
   "cell_type": "code",
   "execution_count": 39,
   "id": "bea1e35b",
   "metadata": {},
   "outputs": [],
   "source": [
    "import numpy as np\n",
    "import tensorflow as tf\n",
    "from tensorflow.keras.datasets import imdb\n",
    "from tensorflow.keras.preprocessing import sequence\n",
    "from tensorflow.keras.models import load_model"
   ]
  },
  {
   "cell_type": "code",
   "execution_count": 40,
   "id": "32c1f20c",
   "metadata": {},
   "outputs": [],
   "source": [
    "word_index = imdb.get_word_index()\n",
    "reverse_word_index = {value : key for key, value in word_index.items()}"
   ]
  },
  {
   "cell_type": "markdown",
   "id": "c7bc0f16",
   "metadata": {},
   "source": [
    "### 2. Loading the pre-trained model with Relu activation"
   ]
  },
  {
   "cell_type": "code",
   "execution_count": 41,
   "id": "c3ffd6ba",
   "metadata": {},
   "outputs": [
    {
     "data": {
      "text/html": [
       "<pre style=\"white-space:pre;overflow-x:auto;line-height:normal;font-family:Menlo,'DejaVu Sans Mono',consolas,'Courier New',monospace\"><span style=\"font-weight: bold\">Model: \"sequential_1\"</span>\n",
       "</pre>\n"
      ],
      "text/plain": [
       "\u001b[1mModel: \"sequential_1\"\u001b[0m\n"
      ]
     },
     "metadata": {},
     "output_type": "display_data"
    },
    {
     "data": {
      "text/html": [
       "<pre style=\"white-space:pre;overflow-x:auto;line-height:normal;font-family:Menlo,'DejaVu Sans Mono',consolas,'Courier New',monospace\">┏━━━━━━━━━━━━━━━━━━━━━━━━━━━━━━━━━┳━━━━━━━━━━━━━━━━━━━━━━━━┳━━━━━━━━━━━━━━━┓\n",
       "┃<span style=\"font-weight: bold\"> Layer (type)                    </span>┃<span style=\"font-weight: bold\"> Output Shape           </span>┃<span style=\"font-weight: bold\">       Param # </span>┃\n",
       "┡━━━━━━━━━━━━━━━━━━━━━━━━━━━━━━━━━╇━━━━━━━━━━━━━━━━━━━━━━━━╇━━━━━━━━━━━━━━━┩\n",
       "│ embedding_1 (<span style=\"color: #0087ff; text-decoration-color: #0087ff\">Embedding</span>)         │ (<span style=\"color: #00af00; text-decoration-color: #00af00\">32</span>, <span style=\"color: #00af00; text-decoration-color: #00af00\">500</span>, <span style=\"color: #00af00; text-decoration-color: #00af00\">128</span>)         │     <span style=\"color: #00af00; text-decoration-color: #00af00\">1,280,000</span> │\n",
       "├─────────────────────────────────┼────────────────────────┼───────────────┤\n",
       "│ simple_rnn_1 (<span style=\"color: #0087ff; text-decoration-color: #0087ff\">SimpleRNN</span>)        │ (<span style=\"color: #00af00; text-decoration-color: #00af00\">32</span>, <span style=\"color: #00af00; text-decoration-color: #00af00\">128</span>)              │        <span style=\"color: #00af00; text-decoration-color: #00af00\">32,896</span> │\n",
       "├─────────────────────────────────┼────────────────────────┼───────────────┤\n",
       "│ dense_1 (<span style=\"color: #0087ff; text-decoration-color: #0087ff\">Dense</span>)                 │ (<span style=\"color: #00af00; text-decoration-color: #00af00\">32</span>, <span style=\"color: #00af00; text-decoration-color: #00af00\">1</span>)                │           <span style=\"color: #00af00; text-decoration-color: #00af00\">129</span> │\n",
       "└─────────────────────────────────┴────────────────────────┴───────────────┘\n",
       "</pre>\n"
      ],
      "text/plain": [
       "┏━━━━━━━━━━━━━━━━━━━━━━━━━━━━━━━━━┳━━━━━━━━━━━━━━━━━━━━━━━━┳━━━━━━━━━━━━━━━┓\n",
       "┃\u001b[1m \u001b[0m\u001b[1mLayer (type)                   \u001b[0m\u001b[1m \u001b[0m┃\u001b[1m \u001b[0m\u001b[1mOutput Shape          \u001b[0m\u001b[1m \u001b[0m┃\u001b[1m \u001b[0m\u001b[1m      Param #\u001b[0m\u001b[1m \u001b[0m┃\n",
       "┡━━━━━━━━━━━━━━━━━━━━━━━━━━━━━━━━━╇━━━━━━━━━━━━━━━━━━━━━━━━╇━━━━━━━━━━━━━━━┩\n",
       "│ embedding_1 (\u001b[38;5;33mEmbedding\u001b[0m)         │ (\u001b[38;5;34m32\u001b[0m, \u001b[38;5;34m500\u001b[0m, \u001b[38;5;34m128\u001b[0m)         │     \u001b[38;5;34m1,280,000\u001b[0m │\n",
       "├─────────────────────────────────┼────────────────────────┼───────────────┤\n",
       "│ simple_rnn_1 (\u001b[38;5;33mSimpleRNN\u001b[0m)        │ (\u001b[38;5;34m32\u001b[0m, \u001b[38;5;34m128\u001b[0m)              │        \u001b[38;5;34m32,896\u001b[0m │\n",
       "├─────────────────────────────────┼────────────────────────┼───────────────┤\n",
       "│ dense_1 (\u001b[38;5;33mDense\u001b[0m)                 │ (\u001b[38;5;34m32\u001b[0m, \u001b[38;5;34m1\u001b[0m)                │           \u001b[38;5;34m129\u001b[0m │\n",
       "└─────────────────────────────────┴────────────────────────┴───────────────┘\n"
      ]
     },
     "metadata": {},
     "output_type": "display_data"
    },
    {
     "data": {
      "text/html": [
       "<pre style=\"white-space:pre;overflow-x:auto;line-height:normal;font-family:Menlo,'DejaVu Sans Mono',consolas,'Courier New',monospace\"><span style=\"font-weight: bold\"> Total params: </span><span style=\"color: #00af00; text-decoration-color: #00af00\">3,939,077</span> (15.03 MB)\n",
       "</pre>\n"
      ],
      "text/plain": [
       "\u001b[1m Total params: \u001b[0m\u001b[38;5;34m3,939,077\u001b[0m (15.03 MB)\n"
      ]
     },
     "metadata": {},
     "output_type": "display_data"
    },
    {
     "data": {
      "text/html": [
       "<pre style=\"white-space:pre;overflow-x:auto;line-height:normal;font-family:Menlo,'DejaVu Sans Mono',consolas,'Courier New',monospace\"><span style=\"font-weight: bold\"> Trainable params: </span><span style=\"color: #00af00; text-decoration-color: #00af00\">1,313,025</span> (5.01 MB)\n",
       "</pre>\n"
      ],
      "text/plain": [
       "\u001b[1m Trainable params: \u001b[0m\u001b[38;5;34m1,313,025\u001b[0m (5.01 MB)\n"
      ]
     },
     "metadata": {},
     "output_type": "display_data"
    },
    {
     "data": {
      "text/html": [
       "<pre style=\"white-space:pre;overflow-x:auto;line-height:normal;font-family:Menlo,'DejaVu Sans Mono',consolas,'Courier New',monospace\"><span style=\"font-weight: bold\"> Non-trainable params: </span><span style=\"color: #00af00; text-decoration-color: #00af00\">0</span> (0.00 B)\n",
       "</pre>\n"
      ],
      "text/plain": [
       "\u001b[1m Non-trainable params: \u001b[0m\u001b[38;5;34m0\u001b[0m (0.00 B)\n"
      ]
     },
     "metadata": {},
     "output_type": "display_data"
    },
    {
     "data": {
      "text/html": [
       "<pre style=\"white-space:pre;overflow-x:auto;line-height:normal;font-family:Menlo,'DejaVu Sans Mono',consolas,'Courier New',monospace\"><span style=\"font-weight: bold\"> Optimizer params: </span><span style=\"color: #00af00; text-decoration-color: #00af00\">2,626,052</span> (10.02 MB)\n",
       "</pre>\n"
      ],
      "text/plain": [
       "\u001b[1m Optimizer params: \u001b[0m\u001b[38;5;34m2,626,052\u001b[0m (10.02 MB)\n"
      ]
     },
     "metadata": {},
     "output_type": "display_data"
    }
   ],
   "source": [
    "model = load_model('simple_rnn_imdb.keras')\n",
    "model.summary()"
   ]
  },
  {
   "cell_type": "code",
   "execution_count": 42,
   "id": "5f25c08d",
   "metadata": {},
   "outputs": [
    {
     "data": {
      "text/plain": [
       "[array([[-0.6947406 , -0.76773465,  0.690094  , ...,  0.6942028 ,\n",
       "         -0.69529486,  0.7045555 ],\n",
       "        [-0.02617744, -0.01247214,  0.04007908, ...,  0.03308394,\n",
       "         -0.02920103,  0.08879408],\n",
       "        [-0.19117428, -0.10009935,  0.05120295, ...,  0.15846317,\n",
       "         -0.08866509,  0.12503326],\n",
       "        ...,\n",
       "        [-0.04483758,  0.06395129,  0.00269735, ...,  0.03212619,\n",
       "         -0.01008813,  0.06031103],\n",
       "        [ 0.02538075, -0.08768662, -0.03967236, ..., -0.09089695,\n",
       "          0.00736035, -0.0544133 ],\n",
       "        [-0.09493893,  0.07214647, -0.01309039, ...,  0.07689542,\n",
       "          0.06775349,  0.08995315]], dtype=float32),\n",
       " array([[ 0.10630848, -0.08140456,  0.03937735, ..., -0.00855679,\n",
       "          0.13665926,  0.13583617],\n",
       "        [ 0.04276628, -0.18577175, -0.03683679, ...,  0.06695646,\n",
       "          0.01815373,  0.1518959 ],\n",
       "        [-0.05392982,  0.07294812, -0.00177942, ..., -0.07108973,\n",
       "          0.05081884,  0.06536736],\n",
       "        ...,\n",
       "        [-0.02768939, -0.04892269,  0.00577445, ...,  0.0308844 ,\n",
       "          0.02235684, -0.09514133],\n",
       "        [ 0.0660409 , -0.01967601,  0.05380052, ..., -0.06603554,\n",
       "         -0.05628566, -0.0888586 ],\n",
       "        [ 0.12690839, -0.15585919, -0.10320248, ..., -0.1568456 ,\n",
       "         -0.07987317,  0.10975246]], dtype=float32),\n",
       " array([[ 0.04844783,  0.08711471,  0.0451568 , ..., -0.0222014 ,\n",
       "          0.03264281,  0.01748339],\n",
       "        [-0.11732212, -0.0973372 , -0.08108702, ..., -0.00064546,\n",
       "         -0.11936526, -0.12996714],\n",
       "        [ 0.06363365, -0.02825753, -0.04936378, ...,  0.00038787,\n",
       "          0.01766282,  0.09928432],\n",
       "        ...,\n",
       "        [ 0.0345812 , -0.06994762, -0.11330207, ..., -0.02296103,\n",
       "         -0.04489928, -0.11247188],\n",
       "        [-0.10232974, -0.07944442,  0.00203148, ..., -0.02691563,\n",
       "          0.03049073, -0.15065381],\n",
       "        [ 0.02268215, -0.05293534,  0.17759214, ...,  0.04415064,\n",
       "          0.06773157,  0.07240713]], dtype=float32),\n",
       " array([-0.02766884, -0.01022497, -0.03114308, -0.00428345, -0.00707716,\n",
       "        -0.02638119,  0.00899564,  0.01946195, -0.02898048, -0.01444171,\n",
       "        -0.01177941, -0.01788415, -0.02371689, -0.01606399,  0.0148459 ,\n",
       "        -0.01394858,  0.00572205,  0.01182013,  0.00628982, -0.02988345,\n",
       "        -0.03206067,  0.00550675, -0.01911474, -0.01933558,  0.0160746 ,\n",
       "        -0.01019788,  0.0101199 , -0.01043911,  0.02279976,  0.04974864,\n",
       "         0.00966356, -0.03042167, -0.02021374,  0.00968887,  0.03100011,\n",
       "        -0.00608831, -0.01677852, -0.03674266,  0.01838223, -0.01522536,\n",
       "         0.02219037,  0.00518882, -0.01880893,  0.02853948, -0.01647548,\n",
       "        -0.03050563, -0.01673619,  0.00661697,  0.02603782,  0.0074965 ,\n",
       "        -0.02044878,  0.00227778, -0.02132231,  0.00112552, -0.02659815,\n",
       "         0.00538692,  0.01299672,  0.00314606,  0.00060341,  0.02863286,\n",
       "        -0.02442742, -0.01620804,  0.0228741 , -0.02815173,  0.01124664,\n",
       "        -0.00616674,  0.01311408,  0.00081028, -0.03494817, -0.01168042,\n",
       "         0.00382226,  0.02135408, -0.02079673, -0.01051753,  0.02089781,\n",
       "        -0.03081119, -0.02825765,  0.00822204, -0.00761701, -0.01129216,\n",
       "         0.00410968,  0.01711162, -0.01714667,  0.01333457, -0.01564575,\n",
       "         0.00938444, -0.02441423,  0.00729112, -0.00369472, -0.01449011,\n",
       "         0.01038739,  0.01823731, -0.01212126,  0.02019603, -0.02748982,\n",
       "        -0.02285951,  0.01002122,  0.00336394,  0.03891472,  0.02337839,\n",
       "        -0.02895778,  0.04676684,  0.00160566, -0.02744704, -0.00177814,\n",
       "        -0.01846091,  0.02420235, -0.00500382, -0.00588446, -0.0150757 ,\n",
       "        -0.03083864, -0.02276171,  0.00878906, -0.04081322, -0.00728075,\n",
       "         0.019513  , -0.00895296, -0.029011  , -0.02794926, -0.02476251,\n",
       "        -0.02053916,  0.02087696,  0.00142206,  0.01079946,  0.00312811,\n",
       "        -0.01904818, -0.00202172, -0.02126605], dtype=float32),\n",
       " array([[ 0.00502728],\n",
       "        [-0.17609589],\n",
       "        [-0.14775008],\n",
       "        [-0.2627837 ],\n",
       "        [-0.13462423],\n",
       "        [-0.14777881],\n",
       "        [-0.11578833],\n",
       "        [-0.53081536],\n",
       "        [-0.0250111 ],\n",
       "        [ 0.012326  ],\n",
       "        [-0.04400407],\n",
       "        [ 0.2515578 ],\n",
       "        [ 0.06987262],\n",
       "        [ 0.15099718],\n",
       "        [-0.11687177],\n",
       "        [ 0.04690931],\n",
       "        [-0.03219815],\n",
       "        [-0.03863462],\n",
       "        [ 0.13975833],\n",
       "        [ 0.01998597],\n",
       "        [-0.07039458],\n",
       "        [ 0.23051907],\n",
       "        [ 0.06813052],\n",
       "        [-0.1237745 ],\n",
       "        [-0.18064898],\n",
       "        [-0.15329519],\n",
       "        [-0.12187249],\n",
       "        [-0.0327174 ],\n",
       "        [-0.26762864],\n",
       "        [-0.29887176],\n",
       "        [-0.0644613 ],\n",
       "        [ 0.20065086],\n",
       "        [ 0.10285677],\n",
       "        [-0.36565346],\n",
       "        [ 0.20272599],\n",
       "        [-0.06439622],\n",
       "        [ 0.00959416],\n",
       "        [-0.17905949],\n",
       "        [-1.0365366 ],\n",
       "        [ 0.050798  ],\n",
       "        [-0.1363831 ],\n",
       "        [-0.07830407],\n",
       "        [-0.04660507],\n",
       "        [-0.21124433],\n",
       "        [ 0.31376585],\n",
       "        [ 0.01981475],\n",
       "        [-0.10716893],\n",
       "        [-0.18186162],\n",
       "        [-0.06223691],\n",
       "        [ 0.16942757],\n",
       "        [-0.3025923 ],\n",
       "        [ 0.06403536],\n",
       "        [-0.04483665],\n",
       "        [-0.2154423 ],\n",
       "        [-0.11032992],\n",
       "        [-0.27973205],\n",
       "        [-0.2168716 ],\n",
       "        [ 0.22691156],\n",
       "        [ 0.00305972],\n",
       "        [ 0.2055959 ],\n",
       "        [-0.07623482],\n",
       "        [-0.15825446],\n",
       "        [ 0.26006523],\n",
       "        [ 0.06630194],\n",
       "        [-0.11956257],\n",
       "        [-0.7024842 ],\n",
       "        [ 0.06980573],\n",
       "        [-0.200027  ],\n",
       "        [ 0.01758009],\n",
       "        [-0.04010848],\n",
       "        [-0.090123  ],\n",
       "        [-0.15105721],\n",
       "        [-0.15922372],\n",
       "        [ 0.03718955],\n",
       "        [ 0.1272986 ],\n",
       "        [-0.03432215],\n",
       "        [ 0.12880674],\n",
       "        [ 0.17346588],\n",
       "        [-0.14969614],\n",
       "        [ 0.01787213],\n",
       "        [-0.1378868 ],\n",
       "        [ 0.24617635],\n",
       "        [ 0.08889247],\n",
       "        [-0.8820309 ],\n",
       "        [ 0.01348985],\n",
       "        [-0.04851733],\n",
       "        [-0.19447537],\n",
       "        [ 0.0204915 ],\n",
       "        [ 0.12119823],\n",
       "        [-0.14216895],\n",
       "        [ 0.25372013],\n",
       "        [ 0.05161447],\n",
       "        [-0.16731021],\n",
       "        [ 0.15447469],\n",
       "        [-0.27481994],\n",
       "        [ 0.40059003],\n",
       "        [ 0.13972609],\n",
       "        [-0.01072364],\n",
       "        [ 0.10660899],\n",
       "        [-0.10905245],\n",
       "        [-0.05756253],\n",
       "        [-0.13314268],\n",
       "        [-0.00165864],\n",
       "        [-0.15759853],\n",
       "        [-0.16532764],\n",
       "        [ 0.1440296 ],\n",
       "        [ 0.2512147 ],\n",
       "        [ 0.07266318],\n",
       "        [-0.18975939],\n",
       "        [ 0.03945713],\n",
       "        [-0.03659671],\n",
       "        [ 0.07722867],\n",
       "        [-0.06285155],\n",
       "        [-0.09658343],\n",
       "        [-0.11001259],\n",
       "        [-0.00891594],\n",
       "        [ 0.04956428],\n",
       "        [ 0.26211542],\n",
       "        [ 0.07100497],\n",
       "        [ 0.05435275],\n",
       "        [-0.08474217],\n",
       "        [ 0.21993518],\n",
       "        [-0.08216482],\n",
       "        [-0.07719559],\n",
       "        [-0.12786771],\n",
       "        [-0.22418834],\n",
       "        [-0.02817456],\n",
       "        [ 0.03591082]], dtype=float32),\n",
       " array([-0.5007437], dtype=float32)]"
      ]
     },
     "execution_count": 42,
     "metadata": {},
     "output_type": "execute_result"
    }
   ],
   "source": [
    "model.get_weights()"
   ]
  },
  {
   "cell_type": "markdown",
   "id": "e5f3ab06",
   "metadata": {},
   "source": [
    "### 3. Helper functions\n",
    "1. To Decode reviews\n",
    "2. To perprocess user input"
   ]
  },
  {
   "cell_type": "code",
   "execution_count": 43,
   "id": "bdba32df",
   "metadata": {},
   "outputs": [],
   "source": [
    "# Func to Decode\n",
    "def decode_review(encoded_reviews):\n",
    "    return ' '.join([reverse_word_index.get(i-3, '?') for i in encoded_reviews])\n",
    "\n",
    "# Func to Perprocess user input\n",
    "def preprocess_text(text):\n",
    "    words = text.lower().split()\n",
    "    encoded_review =[word_index.get(word, 2) + 3 for word in words]\n",
    "    padded_review = sequence.pad_sequences([encoded_review], maxlen=500)\n",
    "    return padded_review"
   ]
  },
  {
   "cell_type": "markdown",
   "id": "5161a344",
   "metadata": {},
   "source": [
    "### 4. Prediction Function"
   ]
  },
  {
   "cell_type": "code",
   "execution_count": 44,
   "id": "09e0838e",
   "metadata": {},
   "outputs": [],
   "source": [
    "def predict_sentiment(review):\n",
    "    preprocess_input = preprocess_text(review)\n",
    "\n",
    "    prediction = model.predict(preprocess_input)\n",
    "\n",
    "    sentiment = 'Positive' if prediction[0][0] > 0.5 else 'Negative'\n",
    "\n",
    "    return sentiment, prediction[0][0]"
   ]
  },
  {
   "cell_type": "markdown",
   "id": "b1238e1b",
   "metadata": {},
   "source": [
    "### 5. User Input and Prediction"
   ]
  },
  {
   "cell_type": "code",
   "execution_count": 46,
   "id": "b566c44e",
   "metadata": {},
   "outputs": [
    {
     "name": "stdout",
     "output_type": "stream",
     "text": [
      "\u001b[1m1/1\u001b[0m \u001b[32m━━━━━━━━━━━━━━━━━━━━\u001b[0m\u001b[37m\u001b[0m \u001b[1m0s\u001b[0m 42ms/step\n",
      "Review : The movie was well paced and i enjoyed it\n",
      "Sentiment : Positive\n",
      "Prediction Score: 0.6715801954269409\n"
     ]
    }
   ],
   "source": [
    "# Example review for prediction\n",
    "\n",
    "example_review = 'The movie was well paced and i enjoyed it'\n",
    "\n",
    "sentiment, score = predict_sentiment(example_review)\n",
    "\n",
    "print(f'Review : {example_review}')\n",
    "print(f'Sentiment : {sentiment}')\n",
    "print(f'Prediction Score: {score}')\n"
   ]
  },
  {
   "cell_type": "code",
   "execution_count": null,
   "id": "759c89ce",
   "metadata": {},
   "outputs": [],
   "source": []
  },
  {
   "cell_type": "code",
   "execution_count": null,
   "id": "af7fcf1e",
   "metadata": {},
   "outputs": [],
   "source": []
  },
  {
   "cell_type": "code",
   "execution_count": null,
   "id": "7d1a8570",
   "metadata": {},
   "outputs": [],
   "source": []
  }
 ],
 "metadata": {
  "kernelspec": {
   "display_name": "ann-env",
   "language": "python",
   "name": "python3"
  },
  "language_info": {
   "codemirror_mode": {
    "name": "ipython",
    "version": 3
   },
   "file_extension": ".py",
   "mimetype": "text/x-python",
   "name": "python",
   "nbconvert_exporter": "python",
   "pygments_lexer": "ipython3",
   "version": "3.10.18"
  }
 },
 "nbformat": 4,
 "nbformat_minor": 5
}
