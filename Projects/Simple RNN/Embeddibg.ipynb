{
 "cells": [
  {
   "cell_type": "code",
   "execution_count": 1,
   "id": "40615c80",
   "metadata": {},
   "outputs": [],
   "source": [
    "from tensorflow.keras.preprocessing.text import one_hot"
   ]
  },
  {
   "cell_type": "code",
   "execution_count": 2,
   "id": "8199fda8",
   "metadata": {},
   "outputs": [],
   "source": [
    "sent = ['the glass of milk', \n",
    "'the glass of juice', \n",
    "'a cup of tea',\n",
    "'I am a good boy',\n",
    "'I am a good developer',\n",
    "'understand the meaning of words']"
   ]
  },
  {
   "cell_type": "code",
   "execution_count": 3,
   "id": "3d99d13a",
   "metadata": {},
   "outputs": [
    {
     "data": {
      "text/plain": [
       "['the glass of milk',\n",
       " 'the glass of juice',\n",
       " 'a cup of tea',\n",
       " 'I am a good boy',\n",
       " 'I am a good developer',\n",
       " 'understand the meaning of words']"
      ]
     },
     "execution_count": 3,
     "metadata": {},
     "output_type": "execute_result"
    }
   ],
   "source": [
    "sent"
   ]
  },
  {
   "cell_type": "code",
   "execution_count": 4,
   "id": "d59f80b0",
   "metadata": {},
   "outputs": [],
   "source": [
    "# Define the Vocabulary size\n",
    "voc_size = 1000"
   ]
  },
  {
   "cell_type": "code",
   "execution_count": 5,
   "id": "67b92620",
   "metadata": {},
   "outputs": [
    {
     "data": {
      "text/plain": [
       "[[554, 802, 737, 307],\n",
       " [554, 802, 737, 151],\n",
       " [387, 585, 737, 875],\n",
       " [385, 854, 387, 781, 459],\n",
       " [385, 854, 387, 781, 326],\n",
       " [100, 554, 443, 737, 888]]"
      ]
     },
     "execution_count": 5,
     "metadata": {},
     "output_type": "execute_result"
    }
   ],
   "source": [
    "one_hot_repr = [one_hot(words, voc_size) for words in sent]\n",
    "one_hot_repr"
   ]
  },
  {
   "cell_type": "code",
   "execution_count": 6,
   "id": "b5dbc895",
   "metadata": {},
   "outputs": [],
   "source": [
    "# Word Embedding Representation\n",
    "\n",
    "from tensorflow.keras.layers import Embedding\n",
    "from tensorflow.keras.utils import pad_sequences\n",
    "from tensorflow.keras.models import Sequential"
   ]
  },
  {
   "cell_type": "code",
   "execution_count": 7,
   "id": "909cc402",
   "metadata": {},
   "outputs": [],
   "source": [
    "import numpy as np"
   ]
  },
  {
   "cell_type": "code",
   "execution_count": 8,
   "id": "ed3b0e47",
   "metadata": {},
   "outputs": [
    {
     "name": "stdout",
     "output_type": "stream",
     "text": [
      "[[  0   0   0   0 554 802 737 307]\n",
      " [  0   0   0   0 554 802 737 151]\n",
      " [  0   0   0   0 387 585 737 875]\n",
      " [  0   0   0 385 854 387 781 459]\n",
      " [  0   0   0 385 854 387 781 326]\n",
      " [  0   0   0 100 554 443 737 888]]\n"
     ]
    }
   ],
   "source": [
    "sent_length = 8\n",
    "embedded_docs = pad_sequences(one_hot_repr, padding='pre', maxlen = sent_length)  # adds 0's in front\n",
    "# embedded_docs = pad_sequences(one_hot_repr, padding='post', maxlen = sent_length)  # adds 0's in last\n",
    "print(embedded_docs)"
   ]
  },
  {
   "cell_type": "code",
   "execution_count": 9,
   "id": "b402f765",
   "metadata": {},
   "outputs": [],
   "source": [
    "# feature representation \n",
    "dim = 10\n"
   ]
  },
  {
   "cell_type": "code",
   "execution_count": 10,
   "id": "5fcaed30",
   "metadata": {},
   "outputs": [],
   "source": [
    "model = Sequential()\n",
    "model.add(Embedding(voc_size, output_dim=dim))\n",
    "model.compile('adam', 'mse')"
   ]
  },
  {
   "cell_type": "code",
   "execution_count": 11,
   "id": "7854a504",
   "metadata": {},
   "outputs": [
    {
     "data": {
      "text/html": [
       "<pre style=\"white-space:pre;overflow-x:auto;line-height:normal;font-family:Menlo,'DejaVu Sans Mono',consolas,'Courier New',monospace\"><span style=\"font-weight: bold\">Model: \"sequential\"</span>\n",
       "</pre>\n"
      ],
      "text/plain": [
       "\u001b[1mModel: \"sequential\"\u001b[0m\n"
      ]
     },
     "metadata": {},
     "output_type": "display_data"
    },
    {
     "data": {
      "text/html": [
       "<pre style=\"white-space:pre;overflow-x:auto;line-height:normal;font-family:Menlo,'DejaVu Sans Mono',consolas,'Courier New',monospace\">┏━━━━━━━━━━━━━━━━━━━━━━━━━━━━━━━━━┳━━━━━━━━━━━━━━━━━━━━━━━━┳━━━━━━━━━━━━━━━┓\n",
       "┃<span style=\"font-weight: bold\"> Layer (type)                    </span>┃<span style=\"font-weight: bold\"> Output Shape           </span>┃<span style=\"font-weight: bold\">       Param # </span>┃\n",
       "┡━━━━━━━━━━━━━━━━━━━━━━━━━━━━━━━━━╇━━━━━━━━━━━━━━━━━━━━━━━━╇━━━━━━━━━━━━━━━┩\n",
       "│ embedding (<span style=\"color: #0087ff; text-decoration-color: #0087ff\">Embedding</span>)           │ ?                      │   <span style=\"color: #00af00; text-decoration-color: #00af00\">0</span> (unbuilt) │\n",
       "└─────────────────────────────────┴────────────────────────┴───────────────┘\n",
       "</pre>\n"
      ],
      "text/plain": [
       "┏━━━━━━━━━━━━━━━━━━━━━━━━━━━━━━━━━┳━━━━━━━━━━━━━━━━━━━━━━━━┳━━━━━━━━━━━━━━━┓\n",
       "┃\u001b[1m \u001b[0m\u001b[1mLayer (type)                   \u001b[0m\u001b[1m \u001b[0m┃\u001b[1m \u001b[0m\u001b[1mOutput Shape          \u001b[0m\u001b[1m \u001b[0m┃\u001b[1m \u001b[0m\u001b[1m      Param #\u001b[0m\u001b[1m \u001b[0m┃\n",
       "┡━━━━━━━━━━━━━━━━━━━━━━━━━━━━━━━━━╇━━━━━━━━━━━━━━━━━━━━━━━━╇━━━━━━━━━━━━━━━┩\n",
       "│ embedding (\u001b[38;5;33mEmbedding\u001b[0m)           │ ?                      │   \u001b[38;5;34m0\u001b[0m (unbuilt) │\n",
       "└─────────────────────────────────┴────────────────────────┴───────────────┘\n"
      ]
     },
     "metadata": {},
     "output_type": "display_data"
    },
    {
     "data": {
      "text/html": [
       "<pre style=\"white-space:pre;overflow-x:auto;line-height:normal;font-family:Menlo,'DejaVu Sans Mono',consolas,'Courier New',monospace\"><span style=\"font-weight: bold\"> Total params: </span><span style=\"color: #00af00; text-decoration-color: #00af00\">0</span> (0.00 B)\n",
       "</pre>\n"
      ],
      "text/plain": [
       "\u001b[1m Total params: \u001b[0m\u001b[38;5;34m0\u001b[0m (0.00 B)\n"
      ]
     },
     "metadata": {},
     "output_type": "display_data"
    },
    {
     "data": {
      "text/html": [
       "<pre style=\"white-space:pre;overflow-x:auto;line-height:normal;font-family:Menlo,'DejaVu Sans Mono',consolas,'Courier New',monospace\"><span style=\"font-weight: bold\"> Trainable params: </span><span style=\"color: #00af00; text-decoration-color: #00af00\">0</span> (0.00 B)\n",
       "</pre>\n"
      ],
      "text/plain": [
       "\u001b[1m Trainable params: \u001b[0m\u001b[38;5;34m0\u001b[0m (0.00 B)\n"
      ]
     },
     "metadata": {},
     "output_type": "display_data"
    },
    {
     "data": {
      "text/html": [
       "<pre style=\"white-space:pre;overflow-x:auto;line-height:normal;font-family:Menlo,'DejaVu Sans Mono',consolas,'Courier New',monospace\"><span style=\"font-weight: bold\"> Non-trainable params: </span><span style=\"color: #00af00; text-decoration-color: #00af00\">0</span> (0.00 B)\n",
       "</pre>\n"
      ],
      "text/plain": [
       "\u001b[1m Non-trainable params: \u001b[0m\u001b[38;5;34m0\u001b[0m (0.00 B)\n"
      ]
     },
     "metadata": {},
     "output_type": "display_data"
    }
   ],
   "source": [
    "model.summary()"
   ]
  },
  {
   "cell_type": "code",
   "execution_count": 12,
   "id": "5b1f1087",
   "metadata": {},
   "outputs": [
    {
     "name": "stdout",
     "output_type": "stream",
     "text": [
      "\u001b[1m1/1\u001b[0m \u001b[32m━━━━━━━━━━━━━━━━━━━━\u001b[0m\u001b[37m\u001b[0m \u001b[1m0s\u001b[0m 122ms/step\n"
     ]
    },
    {
     "data": {
      "text/plain": [
       "array([[[-0.04751638, -0.0337636 , -0.01216869,  0.00862817,\n",
       "          0.04964404, -0.03888205, -0.02240164, -0.04050447,\n",
       "         -0.03925958,  0.027691  ],\n",
       "        [-0.04751638, -0.0337636 , -0.01216869,  0.00862817,\n",
       "          0.04964404, -0.03888205, -0.02240164, -0.04050447,\n",
       "         -0.03925958,  0.027691  ],\n",
       "        [-0.04751638, -0.0337636 , -0.01216869,  0.00862817,\n",
       "          0.04964404, -0.03888205, -0.02240164, -0.04050447,\n",
       "         -0.03925958,  0.027691  ],\n",
       "        [-0.04751638, -0.0337636 , -0.01216869,  0.00862817,\n",
       "          0.04964404, -0.03888205, -0.02240164, -0.04050447,\n",
       "         -0.03925958,  0.027691  ],\n",
       "        [ 0.02679   , -0.00289302,  0.01058258, -0.04568503,\n",
       "          0.03014963,  0.00286385,  0.03197933, -0.0260965 ,\n",
       "          0.03925734,  0.01924074],\n",
       "        [ 0.0086896 , -0.03158412, -0.030784  ,  0.00701845,\n",
       "         -0.03256257,  0.03751185,  0.03931472,  0.03788295,\n",
       "          0.00626205, -0.00795599],\n",
       "        [-0.00729225, -0.04535426,  0.0120335 ,  0.01572437,\n",
       "          0.00673025,  0.03752686,  0.03651014, -0.02800773,\n",
       "          0.02716572, -0.03877502],\n",
       "        [-0.02716279, -0.02436382, -0.01881686, -0.00844309,\n",
       "         -0.03327892, -0.01024008, -0.01919297, -0.02383205,\n",
       "         -0.00813663, -0.01024512]],\n",
       "\n",
       "       [[-0.04751638, -0.0337636 , -0.01216869,  0.00862817,\n",
       "          0.04964404, -0.03888205, -0.02240164, -0.04050447,\n",
       "         -0.03925958,  0.027691  ],\n",
       "        [-0.04751638, -0.0337636 , -0.01216869,  0.00862817,\n",
       "          0.04964404, -0.03888205, -0.02240164, -0.04050447,\n",
       "         -0.03925958,  0.027691  ],\n",
       "        [-0.04751638, -0.0337636 , -0.01216869,  0.00862817,\n",
       "          0.04964404, -0.03888205, -0.02240164, -0.04050447,\n",
       "         -0.03925958,  0.027691  ],\n",
       "        [-0.04751638, -0.0337636 , -0.01216869,  0.00862817,\n",
       "          0.04964404, -0.03888205, -0.02240164, -0.04050447,\n",
       "         -0.03925958,  0.027691  ],\n",
       "        [ 0.02679   , -0.00289302,  0.01058258, -0.04568503,\n",
       "          0.03014963,  0.00286385,  0.03197933, -0.0260965 ,\n",
       "          0.03925734,  0.01924074],\n",
       "        [ 0.0086896 , -0.03158412, -0.030784  ,  0.00701845,\n",
       "         -0.03256257,  0.03751185,  0.03931472,  0.03788295,\n",
       "          0.00626205, -0.00795599],\n",
       "        [-0.00729225, -0.04535426,  0.0120335 ,  0.01572437,\n",
       "          0.00673025,  0.03752686,  0.03651014, -0.02800773,\n",
       "          0.02716572, -0.03877502],\n",
       "        [ 0.02691226, -0.01282427,  0.04395281, -0.02240249,\n",
       "          0.02527739,  0.00046675, -0.0337372 ,  0.0100395 ,\n",
       "          0.02821536, -0.04804834]],\n",
       "\n",
       "       [[-0.04751638, -0.0337636 , -0.01216869,  0.00862817,\n",
       "          0.04964404, -0.03888205, -0.02240164, -0.04050447,\n",
       "         -0.03925958,  0.027691  ],\n",
       "        [-0.04751638, -0.0337636 , -0.01216869,  0.00862817,\n",
       "          0.04964404, -0.03888205, -0.02240164, -0.04050447,\n",
       "         -0.03925958,  0.027691  ],\n",
       "        [-0.04751638, -0.0337636 , -0.01216869,  0.00862817,\n",
       "          0.04964404, -0.03888205, -0.02240164, -0.04050447,\n",
       "         -0.03925958,  0.027691  ],\n",
       "        [-0.04751638, -0.0337636 , -0.01216869,  0.00862817,\n",
       "          0.04964404, -0.03888205, -0.02240164, -0.04050447,\n",
       "         -0.03925958,  0.027691  ],\n",
       "        [ 0.04787803, -0.02889643, -0.03038853, -0.02945217,\n",
       "          0.00067229, -0.04530785, -0.03735415, -0.03916693,\n",
       "         -0.01215648, -0.04384538],\n",
       "        [-0.04107611,  0.00096514, -0.00460217, -0.03060349,\n",
       "          0.00098039, -0.0269043 , -0.03418932,  0.03128337,\n",
       "         -0.02195014, -0.01603746],\n",
       "        [-0.00729225, -0.04535426,  0.0120335 ,  0.01572437,\n",
       "          0.00673025,  0.03752686,  0.03651014, -0.02800773,\n",
       "          0.02716572, -0.03877502],\n",
       "        [ 0.01657966, -0.03317799, -0.01938523,  0.01482561,\n",
       "         -0.01056489, -0.00307701,  0.04649178,  0.04692987,\n",
       "         -0.04595364,  0.00290384]],\n",
       "\n",
       "       [[-0.04751638, -0.0337636 , -0.01216869,  0.00862817,\n",
       "          0.04964404, -0.03888205, -0.02240164, -0.04050447,\n",
       "         -0.03925958,  0.027691  ],\n",
       "        [-0.04751638, -0.0337636 , -0.01216869,  0.00862817,\n",
       "          0.04964404, -0.03888205, -0.02240164, -0.04050447,\n",
       "         -0.03925958,  0.027691  ],\n",
       "        [-0.04751638, -0.0337636 , -0.01216869,  0.00862817,\n",
       "          0.04964404, -0.03888205, -0.02240164, -0.04050447,\n",
       "         -0.03925958,  0.027691  ],\n",
       "        [ 0.02223922, -0.00465317, -0.02480024, -0.00355865,\n",
       "          0.00276776,  0.01771671,  0.04734546,  0.03991815,\n",
       "          0.04370073, -0.0010439 ],\n",
       "        [ 0.02267197, -0.03335327,  0.01094149,  0.03582272,\n",
       "          0.02483458,  0.03079659,  0.03389838,  0.03212621,\n",
       "          0.02507544, -0.00840034],\n",
       "        [ 0.04787803, -0.02889643, -0.03038853, -0.02945217,\n",
       "          0.00067229, -0.04530785, -0.03735415, -0.03916693,\n",
       "         -0.01215648, -0.04384538],\n",
       "        [-0.01426535, -0.01787007, -0.02550169,  0.0434167 ,\n",
       "         -0.0296271 ,  0.04842318, -0.01325097,  0.00833214,\n",
       "         -0.03622903,  0.01560391],\n",
       "        [ 0.00656293,  0.01422601,  0.02400464,  0.04033533,\n",
       "          0.03712304, -0.00182248,  0.03299515, -0.01644061,\n",
       "          0.03461907, -0.03389826]],\n",
       "\n",
       "       [[-0.04751638, -0.0337636 , -0.01216869,  0.00862817,\n",
       "          0.04964404, -0.03888205, -0.02240164, -0.04050447,\n",
       "         -0.03925958,  0.027691  ],\n",
       "        [-0.04751638, -0.0337636 , -0.01216869,  0.00862817,\n",
       "          0.04964404, -0.03888205, -0.02240164, -0.04050447,\n",
       "         -0.03925958,  0.027691  ],\n",
       "        [-0.04751638, -0.0337636 , -0.01216869,  0.00862817,\n",
       "          0.04964404, -0.03888205, -0.02240164, -0.04050447,\n",
       "         -0.03925958,  0.027691  ],\n",
       "        [ 0.02223922, -0.00465317, -0.02480024, -0.00355865,\n",
       "          0.00276776,  0.01771671,  0.04734546,  0.03991815,\n",
       "          0.04370073, -0.0010439 ],\n",
       "        [ 0.02267197, -0.03335327,  0.01094149,  0.03582272,\n",
       "          0.02483458,  0.03079659,  0.03389838,  0.03212621,\n",
       "          0.02507544, -0.00840034],\n",
       "        [ 0.04787803, -0.02889643, -0.03038853, -0.02945217,\n",
       "          0.00067229, -0.04530785, -0.03735415, -0.03916693,\n",
       "         -0.01215648, -0.04384538],\n",
       "        [-0.01426535, -0.01787007, -0.02550169,  0.0434167 ,\n",
       "         -0.0296271 ,  0.04842318, -0.01325097,  0.00833214,\n",
       "         -0.03622903,  0.01560391],\n",
       "        [-0.04597817,  0.00888773, -0.03945233,  0.02492526,\n",
       "         -0.02786412, -0.01384572, -0.01605772,  0.03601234,\n",
       "          0.00809293, -0.01136193]],\n",
       "\n",
       "       [[-0.04751638, -0.0337636 , -0.01216869,  0.00862817,\n",
       "          0.04964404, -0.03888205, -0.02240164, -0.04050447,\n",
       "         -0.03925958,  0.027691  ],\n",
       "        [-0.04751638, -0.0337636 , -0.01216869,  0.00862817,\n",
       "          0.04964404, -0.03888205, -0.02240164, -0.04050447,\n",
       "         -0.03925958,  0.027691  ],\n",
       "        [-0.04751638, -0.0337636 , -0.01216869,  0.00862817,\n",
       "          0.04964404, -0.03888205, -0.02240164, -0.04050447,\n",
       "         -0.03925958,  0.027691  ],\n",
       "        [ 0.04339652, -0.02840234, -0.0299904 , -0.03836668,\n",
       "          0.00174828,  0.01999155, -0.02964079,  0.00899156,\n",
       "         -0.02632837, -0.01106299],\n",
       "        [ 0.02679   , -0.00289302,  0.01058258, -0.04568503,\n",
       "          0.03014963,  0.00286385,  0.03197933, -0.0260965 ,\n",
       "          0.03925734,  0.01924074],\n",
       "        [ 0.03643562, -0.02013822,  0.02347637,  0.01841699,\n",
       "          0.04751265,  0.03385502,  0.00643281, -0.04010298,\n",
       "          0.02907847, -0.01942205],\n",
       "        [-0.00729225, -0.04535426,  0.0120335 ,  0.01572437,\n",
       "          0.00673025,  0.03752686,  0.03651014, -0.02800773,\n",
       "          0.02716572, -0.03877502],\n",
       "        [-0.03197815, -0.04325859, -0.03134175,  0.04386509,\n",
       "          0.01957041, -0.00689646,  0.04419583,  0.04885234,\n",
       "         -0.04545554, -0.04897366]]], dtype=float32)"
      ]
     },
     "execution_count": 12,
     "metadata": {},
     "output_type": "execute_result"
    }
   ],
   "source": [
    "model.predict(embedded_docs)"
   ]
  },
  {
   "cell_type": "code",
   "execution_count": 13,
   "id": "1eef634a",
   "metadata": {},
   "outputs": [
    {
     "data": {
      "text/html": [
       "<pre style=\"white-space:pre;overflow-x:auto;line-height:normal;font-family:Menlo,'DejaVu Sans Mono',consolas,'Courier New',monospace\"><span style=\"font-weight: bold\">Model: \"sequential\"</span>\n",
       "</pre>\n"
      ],
      "text/plain": [
       "\u001b[1mModel: \"sequential\"\u001b[0m\n"
      ]
     },
     "metadata": {},
     "output_type": "display_data"
    },
    {
     "data": {
      "text/html": [
       "<pre style=\"white-space:pre;overflow-x:auto;line-height:normal;font-family:Menlo,'DejaVu Sans Mono',consolas,'Courier New',monospace\">┏━━━━━━━━━━━━━━━━━━━━━━━━━━━━━━━━━┳━━━━━━━━━━━━━━━━━━━━━━━━┳━━━━━━━━━━━━━━━┓\n",
       "┃<span style=\"font-weight: bold\"> Layer (type)                    </span>┃<span style=\"font-weight: bold\"> Output Shape           </span>┃<span style=\"font-weight: bold\">       Param # </span>┃\n",
       "┡━━━━━━━━━━━━━━━━━━━━━━━━━━━━━━━━━╇━━━━━━━━━━━━━━━━━━━━━━━━╇━━━━━━━━━━━━━━━┩\n",
       "│ embedding (<span style=\"color: #0087ff; text-decoration-color: #0087ff\">Embedding</span>)           │ (<span style=\"color: #00af00; text-decoration-color: #00af00\">6</span>, <span style=\"color: #00af00; text-decoration-color: #00af00\">8</span>, <span style=\"color: #00af00; text-decoration-color: #00af00\">10</span>)             │        <span style=\"color: #00af00; text-decoration-color: #00af00\">10,000</span> │\n",
       "└─────────────────────────────────┴────────────────────────┴───────────────┘\n",
       "</pre>\n"
      ],
      "text/plain": [
       "┏━━━━━━━━━━━━━━━━━━━━━━━━━━━━━━━━━┳━━━━━━━━━━━━━━━━━━━━━━━━┳━━━━━━━━━━━━━━━┓\n",
       "┃\u001b[1m \u001b[0m\u001b[1mLayer (type)                   \u001b[0m\u001b[1m \u001b[0m┃\u001b[1m \u001b[0m\u001b[1mOutput Shape          \u001b[0m\u001b[1m \u001b[0m┃\u001b[1m \u001b[0m\u001b[1m      Param #\u001b[0m\u001b[1m \u001b[0m┃\n",
       "┡━━━━━━━━━━━━━━━━━━━━━━━━━━━━━━━━━╇━━━━━━━━━━━━━━━━━━━━━━━━╇━━━━━━━━━━━━━━━┩\n",
       "│ embedding (\u001b[38;5;33mEmbedding\u001b[0m)           │ (\u001b[38;5;34m6\u001b[0m, \u001b[38;5;34m8\u001b[0m, \u001b[38;5;34m10\u001b[0m)             │        \u001b[38;5;34m10,000\u001b[0m │\n",
       "└─────────────────────────────────┴────────────────────────┴───────────────┘\n"
      ]
     },
     "metadata": {},
     "output_type": "display_data"
    },
    {
     "data": {
      "text/html": [
       "<pre style=\"white-space:pre;overflow-x:auto;line-height:normal;font-family:Menlo,'DejaVu Sans Mono',consolas,'Courier New',monospace\"><span style=\"font-weight: bold\"> Total params: </span><span style=\"color: #00af00; text-decoration-color: #00af00\">10,000</span> (39.06 KB)\n",
       "</pre>\n"
      ],
      "text/plain": [
       "\u001b[1m Total params: \u001b[0m\u001b[38;5;34m10,000\u001b[0m (39.06 KB)\n"
      ]
     },
     "metadata": {},
     "output_type": "display_data"
    },
    {
     "data": {
      "text/html": [
       "<pre style=\"white-space:pre;overflow-x:auto;line-height:normal;font-family:Menlo,'DejaVu Sans Mono',consolas,'Courier New',monospace\"><span style=\"font-weight: bold\"> Trainable params: </span><span style=\"color: #00af00; text-decoration-color: #00af00\">10,000</span> (39.06 KB)\n",
       "</pre>\n"
      ],
      "text/plain": [
       "\u001b[1m Trainable params: \u001b[0m\u001b[38;5;34m10,000\u001b[0m (39.06 KB)\n"
      ]
     },
     "metadata": {},
     "output_type": "display_data"
    },
    {
     "data": {
      "text/html": [
       "<pre style=\"white-space:pre;overflow-x:auto;line-height:normal;font-family:Menlo,'DejaVu Sans Mono',consolas,'Courier New',monospace\"><span style=\"font-weight: bold\"> Non-trainable params: </span><span style=\"color: #00af00; text-decoration-color: #00af00\">0</span> (0.00 B)\n",
       "</pre>\n"
      ],
      "text/plain": [
       "\u001b[1m Non-trainable params: \u001b[0m\u001b[38;5;34m0\u001b[0m (0.00 B)\n"
      ]
     },
     "metadata": {},
     "output_type": "display_data"
    }
   ],
   "source": [
    "model.summary()"
   ]
  },
  {
   "cell_type": "code",
   "execution_count": null,
   "id": "0db4f376",
   "metadata": {},
   "outputs": [],
   "source": []
  },
  {
   "cell_type": "code",
   "execution_count": null,
   "id": "a5394256",
   "metadata": {},
   "outputs": [],
   "source": []
  },
  {
   "cell_type": "code",
   "execution_count": null,
   "id": "0fcf31de",
   "metadata": {},
   "outputs": [],
   "source": []
  }
 ],
 "metadata": {
  "kernelspec": {
   "display_name": "ann-env",
   "language": "python",
   "name": "python3"
  },
  "language_info": {
   "codemirror_mode": {
    "name": "ipython",
    "version": 3
   },
   "file_extension": ".py",
   "mimetype": "text/x-python",
   "name": "python",
   "nbconvert_exporter": "python",
   "pygments_lexer": "ipython3",
   "version": "3.10.18"
  }
 },
 "nbformat": 4,
 "nbformat_minor": 5
}
